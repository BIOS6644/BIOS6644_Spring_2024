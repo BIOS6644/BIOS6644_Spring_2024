{
 "cells": [
  {
   "cell_type": "code",
   "execution_count": 7,
   "id": "b4457c0d-ab8b-4902-aebc-cb53b0585614",
   "metadata": {},
   "outputs": [
    {
     "name": "stdout",
     "output_type": "stream",
     "text": [
      "BIO.  My name is ASMA TAHERI. I'm second semester MPH student. I moved to Colorado last August\n"
     ]
    },
    {
     "data": {
      "text/plain": [
       "['BIO',\n",
       " '  My name is ASMA TAHERI',\n",
       " \" I'm second semester MPH student\",\n",
       " ' I moved to Colorado last August']"
      ]
     },
     "execution_count": 7,
     "metadata": {},
     "output_type": "execute_result"
    }
   ],
   "source": [
    "stringsplit = '''BIO.  My name is ASMA TAHERI. I'm second semester MPH student. I moved to Colorado last August'''\n",
    "print(stringsplit)\n",
    "stringsplit.split(\".\")"
   ]
  },
  {
   "cell_type": "code",
   "execution_count": null,
   "id": "51a16c17-1742-490f-8444-c165a2b51424",
   "metadata": {},
   "outputs": [],
   "source": []
  }
 ],
 "metadata": {
  "kernelspec": {
   "display_name": "anaconda-panel-2023.05-py310",
   "language": "python",
   "name": "conda-env-anaconda-panel-2023.05-py310-py"
  },
  "language_info": {
   "codemirror_mode": {
    "name": "ipython",
    "version": 3
   },
   "file_extension": ".py",
   "mimetype": "text/x-python",
   "name": "python",
   "nbconvert_exporter": "python",
   "pygments_lexer": "ipython3",
   "version": "3.11.5"
  }
 },
 "nbformat": 4,
 "nbformat_minor": 5
}
