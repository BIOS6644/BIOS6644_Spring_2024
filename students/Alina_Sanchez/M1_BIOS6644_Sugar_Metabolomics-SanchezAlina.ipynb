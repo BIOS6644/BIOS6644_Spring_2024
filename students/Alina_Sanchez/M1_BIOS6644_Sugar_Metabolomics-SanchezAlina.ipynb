{
 "cells": [
  {
   "cell_type": "code",
   "execution_count": 1,
   "metadata": {},
   "outputs": [],
   "source": [
    "##########################################################################################\n",
    "#                                                                                        #\n",
    "#  888888b.  8888888 .d88888b.   .d8888b.     .d8888b.   .d8888b.      d8888      d8888  #\n",
    "#  888  \"88b   888  d88P\" \"Y88b d88P  Y88b   d88P  Y88b d88P  Y88b    d8P888     d8P888  #\n",
    "#  888  .88P   888  888     888 Y88b.        888        888          d8P 888    d8P 888  #\n",
    "#  8888888K.   888  888     888  \"Y888b.     888d888b.  888d888b.   d8P  888   d8P  888  #\n",
    "#  888  \"Y88b  888  888     888     \"Y88b.   888P \"Y88b 888P \"Y88b d88   888  d88   888  #\n",
    "#  888    888  888  888     888       \"888   888    888 888    888 8888888888 8888888888 #\n",
    "#  888   d88P  888  Y88b. .d88P Y88b  d88P   Y88b  d88P Y88b  d88P       888        888  #\n",
    "#  8888888P\" 8888888 \"Y88888P\"   \"Y8888P\"     \"Y8888P\"   \"Y8888P\"        888        888  #\n",
    "#                                                                                        # \n",
    "##########################################################################################\n",
    "#\n",
    "# CSV Metabolomics Data Wrangling\n",
    "#\n",
    "##########################################################################################"
   ]
  },
  {
   "cell_type": "code",
   "execution_count": 2,
   "metadata": {},
   "outputs": [],
   "source": [
    "##########################################################################################\n",
    "#                                                                                        #\n",
    "#  888888b.  8888888 .d88888b.   .d8888b.     .d8888b.   .d8888b.      d8888      d8888  #\n",
    "#  888  \"88b   888  d88P\" \"Y88b d88P  Y88b   d88P  Y88b d88P  Y88b    d8P888     d8P888  #\n",
    "#  888  .88P   888  888     888 Y88b.        888        888          d8P 888    d8P 888  #\n",
    "#  8888888K.   888  888     888  \"Y888b.     888d888b.  888d888b.   d8P  888   d8P  888  #\n",
    "#  888  \"Y88b  888  888     888     \"Y88b.   888P \"Y88b 888P \"Y88b d88   888  d88   888  #\n",
    "#  888    888  888  888     888       \"888   888    888 888    888 8888888888 8888888888 #\n",
    "#  888   d88P  888  Y88b. .d88P Y88b  d88P   Y88b  d88P Y88b  d88P       888        888  #\n",
    "#  8888888P\" 8888888 \"Y88888P\"   \"Y8888P\"     \"Y8888P\"   \"Y8888P\"        888        888  #\n",
    "#                                                                                        # \n",
    "##########################################################################################\n",
    "#\n",
    "# Slicing and Parsing\n",
    "#\n",
    "##########################################################################################"
   ]
  },
  {
   "cell_type": "code",
   "execution_count": 3,
   "metadata": {},
   "outputs": [],
   "source": [
    "##################################################################################################################\n",
    "#\n",
    "# YouDo:\n",
    "#    1) Make a copy of this notebook with your name as a suffix:  \n",
    "#       BIOS6644_CSV_Sugar_Metabolomics_FirstLast.ipynb\n",
    "#    2) Do all work in this new notebook.\n",
    "#    3) Place completed work in students/Module_1/Your_Name/\n",
    "#    4) Push to your branch on GitHub to submit\n",
    "#\n",
    "##################################################################################################################\n"
   ]
  },
  {
   "cell_type": "markdown",
   "metadata": {},
   "source": [
    "# Wrangling Sugar Metabolomics Data\n"
   ]
  },
  {
   "cell_type": "code",
   "execution_count": 4,
   "metadata": {},
   "outputs": [],
   "source": [
    "\n",
    "import pandas as pd\n",
    "import pylab as plt\n",
    "import numpy as np\n",
    "%matplotlib notebook"
   ]
  },
  {
   "cell_type": "code",
   "execution_count": 5,
   "metadata": {},
   "outputs": [],
   "source": [
    "\n",
    "\n",
    "# General info here:\n",
    "#   https://data.mendeley.com/datasets/9z7ncwvxnz/1\n",
    "#\n",
    "# Data here:\n",
    "#   https://prod-dcd-datasets-cache-zipfiles.s3.eu-west-1.amazonaws.com/9z7ncwvxnz-1.zip\n",
    "\n",
    "# I renamed mine to \"sugar_metabolomics.csv\" so I could remember what it is\n",
    "data = '../Data/sugar_metabolomics.csv'\n"
   ]
  },
  {
   "cell_type": "code",
   "execution_count": 6,
   "metadata": {},
   "outputs": [
    {
     "ename": "NameError",
     "evalue": "name 'BIOS6644_Spring_2024' is not defined",
     "output_type": "error",
     "traceback": [
      "\u001b[0;31m---------------------------------------------------------------------------\u001b[0m",
      "\u001b[0;31mNameError\u001b[0m                                 Traceback (most recent call last)",
      "Cell \u001b[0;32mIn[6], line 1\u001b[0m\n\u001b[0;32m----> 1\u001b[0m data \u001b[38;5;241m=\u001b[39m BIOS6644_Spring_2024\u001b[38;5;241m/\u001b[39mstudents\u001b[38;5;241m/\u001b[39mAlina_Sanchez\u001b[38;5;241m/\u001b[39mSugar_Metabolics_SanchezAlina\u001b[38;5;241m.\u001b[39mcsv\n",
      "\u001b[0;31mNameError\u001b[0m: name 'BIOS6644_Spring_2024' is not defined"
     ]
    }
   ],
   "source": [
    "data = BIOS6644_Spring_2024/students/Alina_Sanchez/Sugar_Metabolics_SanchezAlina.csv"
   ]
  },
  {
   "cell_type": "markdown",
   "metadata": {},
   "source": []
  },
  {
   "cell_type": "markdown",
   "metadata": {},
   "source": []
  },
  {
   "cell_type": "code",
   "execution_count": 6,
   "metadata": {},
   "outputs": [
    {
     "ename": "NameError",
     "evalue": "name 'pd' is not defined",
     "output_type": "error",
     "traceback": [
      "\u001b[0;31m---------------------------------------------------------------------------\u001b[0m",
      "\u001b[0;31mNameError\u001b[0m                                 Traceback (most recent call last)",
      "Cell \u001b[0;32mIn[6], line 9\u001b[0m\n\u001b[1;32m      1\u001b[0m \u001b[38;5;66;03m##################################################################################################################\u001b[39;00m\n\u001b[1;32m      2\u001b[0m \u001b[38;5;66;03m#\u001b[39;00m\n\u001b[1;32m      3\u001b[0m \u001b[38;5;66;03m# YouDo:\u001b[39;00m\n\u001b[0;32m   (...)\u001b[0m\n\u001b[1;32m      7\u001b[0m \n\u001b[1;32m      8\u001b[0m \u001b[38;5;66;03m# 1.)\u001b[39;00m\n\u001b[0;32m----> 9\u001b[0m df\u001b[38;5;241m=\u001b[39m pd\u001b[38;5;241m.\u001b[39mread_csv(Data)\n\u001b[1;32m     11\u001b[0m \u001b[38;5;66;03m#######################################   END STUDENT CODE   #####################################################\u001b[39;00m\n\u001b[1;32m     14\u001b[0m df\n",
      "\u001b[0;31mNameError\u001b[0m: name 'pd' is not defined"
     ]
    }
   ],
   "source": [
    "##################################################################################################################\n",
    "#\n",
    "# YouDo:\n",
    "# \n",
    "#    1) Read the csv into a dataframe called df\n",
    "#######################################  BEGIN STUDENT CODE  #####################################################\n",
    "\n",
    "# 1.)\n",
    "df= pd.read_csv(Data)\n",
    "\n",
    "#######################################   END STUDENT CODE   #####################################################\n",
    "\n",
    "\n",
    "#Previous Answer=\n",
    "pd.read_csv(Data)"
   ]
  },
  {
   "cell_type": "code",
   "execution_count": null,
   "metadata": {},
   "outputs": [],
   "source": [
    "##################################################################################################################\n",
    "#\n",
    "# YouDo:\n",
    "# \n",
    "#    1) Notice that the import is wonky -- examine the data set\n",
    "#       manually and figure out how to make it import cleanly.\n",
    "#      \n",
    "#       Ensure your data frame has the following handled correctly\n",
    "#         a) the column names (1st row of the csv)\n",
    "#.        b) The unlabeled first column is read as an index\n",
    "#         c) The final row is totally weird--don't import it\n",
    "#\n",
    "#       (hint: pd.read_csv? lists various import options)\n",
    "#\n",
    "#######################################  BEGIN STUDENT CODE  #####################################################\n",
    "\n",
    "# 1)\n",
    "df= pd.read_csv(data, index_col= 0, skipfooter=1)\n",
    "\n",
    "\n",
    "\n",
    "#######################################   END STUDENT CODE   #####################################################\n",
    "#Previous Answer= \n",
    "df= pd.read_csv(Data), inner_join\n",
    "assert df.shape == (92, 132)"
   ]
  },
  {
   "cell_type": "code",
   "execution_count": null,
   "metadata": {},
   "outputs": [],
   "source": [
    "##################################################################################################################\n",
    "#\n",
    "# YouDo:\n",
    "# \n",
    "#    1) Get rid of any columns that have only NaN values\n",
    "# https://pandas.pydata.org/pandas-docs/stable/reference/api/pandas.DataFrame.dropna.html\n",
    "#\n",
    "#######################################  BEGIN STUDENT CODE  #####################################################\n",
    "\n",
    "df.dropna(axis=1, thresh=50, inplace=True)\n",
    "\n",
    "#######################################   END STUDENT CODE   #####################################################\n",
    "#Previous Answer= \n",
    "DataFrame.dropna(self, axis=0, how='any', thresh=132, subset=92)\n",
    "assert df.shape == (92, 125)\n",
    "\n",
    "\n",
    "\n"
   ]
  },
  {
   "cell_type": "code",
   "execution_count": 7,
   "metadata": {},
   "outputs": [
    {
     "ename": "SyntaxError",
     "evalue": "invalid syntax (4010357042.py, line 16)",
     "output_type": "error",
     "traceback": [
      "\u001b[0;36m  Cell \u001b[0;32mIn[7], line 16\u001b[0;36m\u001b[0m\n\u001b[0;31m    df.boxplot(column= \"Tryptophan\", by=)\u001b[0m\n\u001b[0m                                        ^\u001b[0m\n\u001b[0;31mSyntaxError\u001b[0m\u001b[0;31m:\u001b[0m invalid syntax\n"
     ]
    }
   ],
   "source": [
    "##################################################################################################################\n",
    "#\n",
    "# YouDo:\n",
    "# \n",
    "#    1) Generate boxplots of Tryptophan levels separated based on \n",
    "#        the \"Label\" value\n",
    "#\n",
    "#      Use whatever plotting library you like.   \n",
    "#      Hint 1: matplotlib has a boxplot tool\n",
    "#          help(plt.boxplot)\n",
    "#      Hint 2: pandas data frames have a built-in boxplot tool\n",
    "#          help(df.boxplot)\n",
    "#\n",
    "#######################################  BEGIN STUDENT CODE  #####################################################\n",
    "\n",
    "df.boxplot(column= \"Tryptophan\", by=\"Label\")\n",
    "\n",
    "#######################################   END STUDENT CODE   #####################################################\n",
    "#Previous Answer: \n",
    "help(plt.boxplot, column= \"Tryptophan\", row=\"Label\""
   ]
  },
  {
   "cell_type": "code",
   "execution_count": 8,
   "metadata": {},
   "outputs": [],
   "source": [
    "##################################################################################################################\n",
    "#\n",
    "# YouDo:\n",
    "# Make a pair of plots as follows:\n",
    "#    1) Show the correlation matrix between columns of the data\n",
    "#        (hint 1: it should be 124x124, hint 2: check out plt.imshow() \n",
    "#         Hint 2: numpy has a function for generating the correlation matrix)\n",
    "#\n",
    "#    2) Make a similar plot showing correlation > 90%\n",
    "#\n",
    "#  Stretch goal:  using plt.subplot()  make a single figure with both plots side-by-side\n",
    "#\n",
    "#######################################  BEGIN STUDENT CODE  #####################################################\n",
    "#Calculate the correlation matrix\n",
    "corr_matrix = df.corr()\n",
    "\n",
    "# Create a figure and an axes object\n",
    "f, a = plt.subplots(1,2)\n",
    "\n",
    "a[0].imshow(corr_matrix)\n",
    "a[1].imshow(np.abs(corr_matrix)>0.9)\n",
    "\n",
    "# Add axis labels\n",
    "#plt.xticks(range(0,len(corr_matrix.columns), 20))\n",
    "#plt.yticks(range(0,len(corr_matrix.columns), 20))\n",
    "\n",
    "# Add a title\n",
    "a[0].set_title('Sugar Metabolomics \\nCorrelation Matrix')\n",
    "\n",
    "\n",
    "\n",
    "# Add a title\n",
    "a[1].set_title('Sugar Metabolomics \\nCorrelation > +/- 90%')\n",
    "\n",
    "\n",
    "#######################################   END STUDENT CODE   #####################################################\n",
    "#Previous Answer- \n",
    "\n",
    "#Correlation Matrix\n",
    "Correlation_Matrix= df.corr()\n",
    "\n",
    "#Making a Figure\n",
    " a, b = plt.imshow(1,2)\n",
    "    a[0] .imshow(Correlation_Matrix)\n",
    "    a[1] .imshow(Correlation_Matrix)\n",
    "    \n",
    "#Creating A Title\n",
    "a[0] .set_title= 'Sugar Metabolics Correlation Matrix'\n",
    "\n",
    "#Create A Title for 2nd Plot\n",
    "b[1] .set_title =  'Sugar Metabolics Correlation Matrix >90%'"
   ]
  },
  {
   "cell_type": "markdown",
   "metadata": {},
   "source": []
  },
  {
   "cell_type": "code",
   "execution_count": null,
   "metadata": {},
   "outputs": [],
   "source": [
    "##################################################################################################################\n",
    "#\n",
    "# YouDo:\n",
    "#  1) Remove any rows with na values\n",
    "# \n",
    "#  2) Split the data into \"test\" and \"train\" bits with ~30% in the test set.\n",
    "#       The \"Label\" column is the \"y\" data.  All other columns are the \"X\" data\n",
    "#       Give them these names:\n",
    "#       X_train, X_test, y_train, y_test\n",
    "\n",
    "#######################################  BEGIN STUDENT CODE  #####################################################\n",
    "\n",
    "# 1) Remove any rows with na values\n",
    "d2 = df.dropna(axis=0)\n",
    "X = d2.drop('Label', axis=1)\n",
    "y = d2.Label\n",
    "\n",
    "from sklearn.model_selection import train_test_split as tts\n",
    "X_train, X_test, y_train, y_test = tts(X, y, test_size=0.3, random_state=42)\n",
    "\n",
    "#######################################   END STUDENT CODE   #####################################################\n",
    "#Previous Answer:\n",
    "x_train = df.dropna\n",
    "x_test = df.dropna\n",
    "y_train = df.dropna\n",
    "y_test = df.dropna"
   ]
  },
  {
   "cell_type": "code",
   "execution_count": null,
   "metadata": {},
   "outputs": [
    {
     "data": {
      "text/plain": [
       "RandomForestClassifier(bootstrap=True, class_weight=None, criterion='gini',\n",
       "                       max_depth=2, max_features='auto', max_leaf_nodes=None,\n",
       "                       min_impurity_decrease=0.0, min_impurity_split=None,\n",
       "                       min_samples_leaf=1, min_samples_split=2,\n",
       "                       min_weight_fraction_leaf=0.0, n_estimators=100,\n",
       "                       n_jobs=None, oob_score=False, random_state=8675309,\n",
       "                       verbose=0, warm_start=False)"
      ]
     },
     "metadata": {},
     "output_type": "display_data"
    }
   ],
   "source": [
    "#Build a model to classify the Label based on the other columns\n",
    "\n",
    "from sklearn.ensemble import RandomForestClassifier\n",
    "clf = RandomForestClassifier(n_estimators=100, max_depth=2, random_state=8675309)\n",
    "clf.fit(X_train, y_train)\n"
   ]
  },
  {
   "cell_type": "code",
   "execution_count": null,
   "metadata": {},
   "outputs": [],
   "source": [
    "# Test the model\n",
    "predictions = clf.predict(X_test)\n",
    "reality = y_test"
   ]
  },
  {
   "cell_type": "code",
   "execution_count": null,
   "metadata": {},
   "outputs": [
    {
     "data": {
      "text/plain": [
       "0.8125"
      ]
     },
     "metadata": {},
     "output_type": "display_data"
    }
   ],
   "source": [
    "# YouDo:\n",
    "#  1) Evaluate the \"goodness\" of the predictions and write a paragraph describing the results as a markdown.\n",
    "#\n",
    "#######################################  BEGIN STUDENT CODE  #####################################################\n",
    "from sklearn.metrics import confusion_matrix, roc_auc_score, matthews_corrcoef as MCC\n",
    "\n",
    "def custom_classification_report(y_true, y_pred):\n",
    "    tp, fn, fp, tn = confusion_matrix(y_true, y_pred).ravel()\n",
    "    acc = (tp+tn)/(tp+tn+fp+fn)\n",
    "    sen = (tp)/(tp+fn)\n",
    "    sp = (tn)/(tn+fp)\n",
    "    ppv = (tp)/(tp+fp)\n",
    "    npv = (tn)/(tn+fn)\n",
    "    f1 = 2*(sen*ppv)/(sen+ppv)\n",
    "    fpr = (fp)/(fp+tn)\n",
    "    tpr = (tp)/(tp+fn)\n",
    "\n",
    "    print('Confusion Matrix:')\n",
    "    print(confusion_matrix(predictions, reality))\n",
    "\n",
    "    print(classification_report(reality, predictions))\n",
    "    \n",
    "    print(f'''\n",
    "                MCC:                 {round(MCC(reality, predictions),3)}\n",
    "                Accuracy:            {round(acc, 3)}\n",
    "                Sensitivity/Recall:  {round(sen, 3)}\n",
    "                Specificity:         {round(sp, 3)}\n",
    "                PPV/Precision:       {round(ppv, 3)}\n",
    "                NPV:                 {round(npv, 3)}\n",
    "                F1-score:            {round(f1, 3)}\n",
    "                False positive rate: {round(fpr, 3)}\n",
    "                True positive rate:  {round(tpr, 3)}\n",
    "\n",
    "                AUC-ROC:             {round(roc_auc_score(reality, predictions), 3)}\n",
    "          \n",
    "          ''')\n",
    "    \n",
    "custom_classification_report(predictions, reality)\n",
    "\n",
    "#######################################   END STUDENT CODE   #####################################################\n",
    "#Previous Answer-\n",
    "Print(Correlation_Matrix)\n",
    "Print(a[0])\n",
    "Print(b[1])\n"
   ]
  },
  {
   "cell_type": "markdown",
   "metadata": {},
   "source": [
    "# Analysis\n",
    "It goes here."
   ]
  },
  {
   "cell_type": "code",
   "execution_count": null,
   "metadata": {},
   "outputs": [],
   "source": [
    "Despite my codes failing and reflecting on where I messed up seeing your codes, I can see the purpose of this assignment to compare to different graphs for analysis purposes. "
   ]
  }
 ],
 "metadata": {
  "kernelspec": {
   "display_name": "Python 3 (ipykernel)",
   "language": "python",
   "name": "python3"
  },
  "language_info": {
   "codemirror_mode": {
    "name": "ipython",
    "version": 3
   },
   "file_extension": ".py",
   "mimetype": "text/x-python",
   "name": "python",
   "nbconvert_exporter": "python",
   "pygments_lexer": "ipython3",
   "version": "3.11.5"
  }
 },
 "nbformat": 4,
 "nbformat_minor": 2
}
