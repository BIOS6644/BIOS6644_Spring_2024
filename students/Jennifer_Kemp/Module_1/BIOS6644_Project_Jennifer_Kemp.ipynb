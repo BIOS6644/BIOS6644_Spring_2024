{
 "cells": [
  {
   "cell_type": "markdown",
   "metadata": {},
   "source": [
    "BIOS 6644 Project\n",
    "Primary goal: Pull data from multiple worksheets in an Excel Workbook, and do this using several different Microsoft Workbooks. Subject IDs are in the names of the tabs (each subject has a tab), so I need to pull this information and add Subject ID as a variable. Lastly, I need to add a field categorizing quality of the data. The data, Subject IDs and quality of data variables will then all be merged into a single dataframe and exported to Excel.\n",
    "Secondary goal: Analyze and visualize the data.\n",
    "Data utilized: Results for one of the clinical trials I work on at my job. This project will help me manage this type of data for the study in the future.\n",
    "\n",
    "Below are a few initial code chunks with methods that may help me complete this project."
   ]
  },
  {
   "cell_type": "code",
   "execution_count": null,
   "metadata": {},
   "outputs": [],
   "source": [
    "#Importing the excel spreadsheets\n",
    "#Reference: https://towardsdatascience.com/a-simple-trick-to-load-multiple-excel-worksheets-in-pandas-3fae4124345b\n",
    "\n",
    "import pandas as pd\n",
    "\n",
    "# Define filepath\n",
    "filepath = 'data/sales.xlsx'\n",
    "\n",
    "# Load Excel file using Pandas\n",
    "f = pd.ExcelFile(filepath)\n",
    "\n",
    "# Define an empty list to store individual DataFrames\n",
    "list_of_dfs = []\n",
    "\n",
    "# Iterate through each worksheet\n",
    "for sheet in f.sheet_names:\n",
    "    \n",
    "    # Parse data from each worksheet as a Pandas DataFrame\n",
    "    df = f.parse(sheet)\n",
    "\n",
    "    # And append it to the list\n",
    "    list_of_dfs.append(df)\n",
    "    \n",
    "# Combine all DataFrames into one\n",
    "data = pd.concat(list_of_dfs, ignore_index=True)\n",
    "\n",
    "# Preview first 10 rows\n",
    "data.head(10)"
   ]
  },
  {
   "cell_type": "code",
   "execution_count": null,
   "metadata": {},
   "outputs": [],
   "source": [
    "#The names of each spreadsheet are the Subject IDs, so need to pull the name of each spreadsheet as a variable. Use ExcelFile()\n",
    "#Reference: https://stringfestanalytics.com/how-to-list-the-worksheet-names-of-an-excel-workbook-using-python-pandas/\n",
    "h/t: StackOverflow\n",
    "\n",
    "# Read in data about workbook with `ExcelParse()\n",
    "import pandas as pd\n",
    "\n",
    "# You can read Excel files right off the web via URL:\n",
    "superstore = pd.ExcelFile('https://github.com/stringfestdata/training-assets/raw/master/datasets/superstore/superstore.xlsx')\n",
    "ExcelFile will give us some attributes about the imported workbook, including a list of worksheet in the workbook with sheet_names:\n",
    "\n",
    "superstore.sheet_names\n",
    "['orders', 'people', 'returns']\n",
    "Running sheet_names does not import these actual worksheets into Pandas, but this can be achieved with the parse() method:\n",
    "\n",
    "# Read 'orders' worksheet into a DataFrame called orders\n",
    "orders = superstore.parse('orders')\n",
    "orders.head()\n",
    "Order ID\tOrder Date\tShip Date\tship_mode\tcustomer_id\tcustomer_name\tsegment\tcountry\tcity\tstate\tpostal_code\tregion\tproduct_id\tcategory\tsub_category\tproduct_name\tsales\tquantity\tdiscount\tprofit\n",
    "0\tCA-2016-152156\t2016-11-08\t2016-11-11\tSecond Class\tCG-12520\tClaire Gute\tConsumer\tUnited States\tHenderson\tKentucky\t42420\tSouth\tFUR-BO-10001798\tFurniture\tBookcases\tBush Somerset Collection Bookcase\t261.9600\t2\t0.00\t41.9136\n",
    "1\tCA-2016-152156\t2016-11-08\t2016-11-11\tSecond Class\tCG-12520\tClaire Gute\tConsumer\tUnited States\tHenderson\tKentucky\t42420\tSouth\tFUR-CH-10000454\tFurniture\tChairs\tHon Deluxe Fabric Upholstered Stacking Chairs,...\t731.9400\t3\t0.00\t219.5820\n",
    "2\tCA-2016-138688\t2016-06-12\t2016-06-16\tSecond Class\tDV-13045\tDarrin Van Huff\tCorporate\tUnited States\tLos Angeles\tCalifornia\t90036\tWest\tOFF-LA-10000240\tOffice Supplies\tLabels\tSelf-Adhesive Address Labels for Typewriters b...\t14.6200\t2\t0.00\t6.8714\n",
    "3\tUS-2015-108966\t2015-10-11\t2015-10-18\tStandard Class\tSO-20335\tSean O'Donnell\tConsumer\tUnited States\tFort Lauderdale\tFlorida\t33311\tSouth\tFUR-TA-10000577\tFurniture\tTables\tBretford CR4500 Series Slim Rectangular Table\t957.5775\t5\t0.45\t-383.0310\n",
    "4\tUS-2015-108966\t2015-10-11\t2015-10-18\tStandard Class\tSO-20335\tSean O'Donnell\tConsumer\tUnited States\tFort Lauderdale\tFlorida\t33311\tSouth\tOFF-ST-10000760\tOffice Supplies\tStorage\tEldon Fold 'N Roll Cart System\t22.3680\t2\t0.20\t2.5164\n",
    "According to the documentation, this can be considered an equivalent to the more common read_excel()."
   ]
  },
  {
   "cell_type": "code",
   "execution_count": null,
   "metadata": {},
   "outputs": [],
   "source": [
    "#Tab colors in these excel sheets indicate data quality. Pull the color of each sheet to a variable for data quality.\n",
    "#Reference: https://stackoverflow.com/questions/62418039/how-to-read-the-tab-color-of-a-worksheet-with-openpyxl\n",
    "def excel_modifications(file_path, storage_path):\n",
    "    initial_wb = load_workbook(file_path, data_only=True, read_only=True)\n",
    "      for ws in initial_wb:\n",
    "        if ws.sheet_properties.tabColor.theme == 6: #Theme based on specific color scheme used, will have to figure out which one to use\n",
    "          common_compression(ws, storage_path)"
   ]
  },
  {
   "cell_type": "code",
   "execution_count": null,
   "metadata": {},
   "outputs": [],
   "source": [
    "#Merge data from spreadsheets, Subject ID and data quality variables."
   ]
  }
 ],
 "metadata": {
  "kernelspec": {
   "display_name": "base",
   "language": "python",
   "name": "python3"
  },
  "language_info": {
   "name": "python",
   "version": "3.11.5"
  }
 },
 "nbformat": 4,
 "nbformat_minor": 2
}
