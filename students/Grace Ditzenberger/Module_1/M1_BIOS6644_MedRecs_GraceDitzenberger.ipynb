{
 "cells": [
  {
   "cell_type": "code",
   "execution_count": null,
   "metadata": {},
   "outputs": [],
   "source": [
    "##########################################################################################\n",
    "#                                                                                        #\n",
    "#  888888b.  8888888 .d88888b.   .d8888b.     .d8888b.   .d8888b.      d8888      d8888  #\n",
    "#  888  \"88b   888  d88P\" \"Y88b d88P  Y88b   d88P  Y88b d88P  Y88b    d8P888     d8P888  #\n",
    "#  888  .88P   888  888     888 Y88b.        888        888          d8P 888    d8P 888  #\n",
    "#  8888888K.   888  888     888  \"Y888b.     888d888b.  888d888b.   d8P  888   d8P  888  #\n",
    "#  888  \"Y88b  888  888     888     \"Y88b.   888P \"Y88b 888P \"Y88b d88   888  d88   888  #\n",
    "#  888    888  888  888     888       \"888   888    888 888    888 8888888888 8888888888 #\n",
    "#  888   d88P  888  Y88b. .d88P Y88b  d88P   Y88b  d88P Y88b  d88P       888        888  #\n",
    "#  8888888P\" 8888888 \"Y88888P\"   \"Y8888P\"     \"Y8888P\"   \"Y8888P\"        888        888  #\n",
    "#                                                                                        # \n",
    "##########################################################################################\n",
    "#\n",
    "# Wrangle Synthetic Medical Record Data\n",
    "#\n",
    "##########################################################################################"
   ]
  },
  {
   "cell_type": "markdown",
   "metadata": {},
   "source": [
    "## Fetch data\n",
    "\n",
    "https://github.com/ishaghodgaonkar/emrbots/blob/master/100-Patients.zip\n",
    "\n",
    "unzip it into the Data folder"
   ]
  },
  {
   "cell_type": "code",
   "execution_count": 1,
   "metadata": {},
   "outputs": [],
   "source": [
    "import pandas as pd\n",
    "import pylab as plt\n",
    "import numpy as np\n",
    "import datetime as dt \n",
    " \n"
   ]
  },
  {
   "cell_type": "code",
   "execution_count": 2,
   "metadata": {},
   "outputs": [],
   "source": [
    "##################################################################################################################\n",
    "#\n",
    "# YouDo: Import each of the 4 files into its own data frame\n",
    "#         (Hint:  they're tab-separated)\n",
    "admiss_core = pd.read_csv(\"AdmissionsCorePopulatedTable.txt\",sep=\"\\t\",index_col=\"PatientID\")\n",
    "admiss_diag_core = pd.read_csv(\"AdmissionsDiagnosesCorePopulatedTable.txt\",sep=\"\\t\",index_col=\"PatientID\")\n",
    "patient_core = pd.read_csv(\"PatientCorePopulatedTable.txt\",sep=\"\\t\",index_col=\"PatientID\")\n",
    "labs_core = pd.read_csv(\"LabsCorePopulatedTable.txt\",sep=\"\\t\",index_col=\"PatientID\")"
   ]
  },
  {
   "cell_type": "markdown",
   "metadata": {},
   "source": [
    "\n"
   ]
  },
  {
   "cell_type": "code",
   "execution_count": 3,
   "metadata": {},
   "outputs": [
    {
     "data": {
      "text/html": [
       "<div>\n",
       "<style scoped>\n",
       "    .dataframe tbody tr th:only-of-type {\n",
       "        vertical-align: middle;\n",
       "    }\n",
       "\n",
       "    .dataframe tbody tr th {\n",
       "        vertical-align: top;\n",
       "    }\n",
       "\n",
       "    .dataframe thead th {\n",
       "        text-align: right;\n",
       "    }\n",
       "</style>\n",
       "<table border=\"1\" class=\"dataframe\">\n",
       "  <thead>\n",
       "    <tr style=\"text-align: right;\">\n",
       "      <th></th>\n",
       "      <th>AdmissionID</th>\n",
       "      <th>LabName</th>\n",
       "      <th>LabValue</th>\n",
       "      <th>LabUnits</th>\n",
       "      <th>LabDateTime</th>\n",
       "    </tr>\n",
       "    <tr>\n",
       "      <th>PatientID</th>\n",
       "      <th></th>\n",
       "      <th></th>\n",
       "      <th></th>\n",
       "      <th></th>\n",
       "      <th></th>\n",
       "    </tr>\n",
       "  </thead>\n",
       "  <tbody>\n",
       "    <tr>\n",
       "      <th>1A8791E3-A61C-455A-8DEE-763EB90C9B2C</th>\n",
       "      <td>1</td>\n",
       "      <td>URINALYSIS: RED BLOOD CELLS</td>\n",
       "      <td>1.8</td>\n",
       "      <td>rbc/hpf</td>\n",
       "      <td>1992-07-01 01:36:17.910</td>\n",
       "    </tr>\n",
       "    <tr>\n",
       "      <th>1A8791E3-A61C-455A-8DEE-763EB90C9B2C</th>\n",
       "      <td>1</td>\n",
       "      <td>METABOLIC: GLUCOSE</td>\n",
       "      <td>103.3</td>\n",
       "      <td>mg/dL</td>\n",
       "      <td>1992-06-30 09:35:52.383</td>\n",
       "    </tr>\n",
       "    <tr>\n",
       "      <th>1A8791E3-A61C-455A-8DEE-763EB90C9B2C</th>\n",
       "      <td>1</td>\n",
       "      <td>CBC: MCH</td>\n",
       "      <td>35.8</td>\n",
       "      <td>pg</td>\n",
       "      <td>1992-06-30 03:50:11.777</td>\n",
       "    </tr>\n",
       "    <tr>\n",
       "      <th>1A8791E3-A61C-455A-8DEE-763EB90C9B2C</th>\n",
       "      <td>1</td>\n",
       "      <td>METABOLIC: CALCIUM</td>\n",
       "      <td>8.9</td>\n",
       "      <td>mg/dL</td>\n",
       "      <td>1992-06-30 12:09:46.107</td>\n",
       "    </tr>\n",
       "    <tr>\n",
       "      <th>1A8791E3-A61C-455A-8DEE-763EB90C9B2C</th>\n",
       "      <td>1</td>\n",
       "      <td>CBC: RED BLOOD CELL COUNT</td>\n",
       "      <td>4.8</td>\n",
       "      <td>m/cumm</td>\n",
       "      <td>1992-07-01 01:31:08.677</td>\n",
       "    </tr>\n",
       "    <tr>\n",
       "      <th>...</th>\n",
       "      <td>...</td>\n",
       "      <td>...</td>\n",
       "      <td>...</td>\n",
       "      <td>...</td>\n",
       "      <td>...</td>\n",
       "    </tr>\n",
       "    <tr>\n",
       "      <th>F0B53A2C-98CA-415D-B928-E3FD0E52B22A</th>\n",
       "      <td>6</td>\n",
       "      <td>CBC: HEMOGLOBIN</td>\n",
       "      <td>13.6</td>\n",
       "      <td>gm/dl</td>\n",
       "      <td>2012-04-21 03:23:50.883</td>\n",
       "    </tr>\n",
       "    <tr>\n",
       "      <th>F0B53A2C-98CA-415D-B928-E3FD0E52B22A</th>\n",
       "      <td>6</td>\n",
       "      <td>CBC: MCH</td>\n",
       "      <td>26.2</td>\n",
       "      <td>pg</td>\n",
       "      <td>2012-04-21 03:18:44.127</td>\n",
       "    </tr>\n",
       "    <tr>\n",
       "      <th>F0B53A2C-98CA-415D-B928-E3FD0E52B22A</th>\n",
       "      <td>6</td>\n",
       "      <td>METABOLIC: CHLORIDE</td>\n",
       "      <td>104.4</td>\n",
       "      <td>mmol/L</td>\n",
       "      <td>2012-04-21 02:58:57.840</td>\n",
       "    </tr>\n",
       "    <tr>\n",
       "      <th>F0B53A2C-98CA-415D-B928-E3FD0E52B22A</th>\n",
       "      <td>6</td>\n",
       "      <td>METABOLIC: GLUCOSE</td>\n",
       "      <td>63.3</td>\n",
       "      <td>mg/dL</td>\n",
       "      <td>2012-04-21 02:50:04.503</td>\n",
       "    </tr>\n",
       "    <tr>\n",
       "      <th>F0B53A2C-98CA-415D-B928-E3FD0E52B22A</th>\n",
       "      <td>6</td>\n",
       "      <td>CBC: MCHC</td>\n",
       "      <td>38.6</td>\n",
       "      <td>g/dl</td>\n",
       "      <td>2012-04-21 03:27:10.293</td>\n",
       "    </tr>\n",
       "  </tbody>\n",
       "</table>\n",
       "<p>111483 rows × 5 columns</p>\n",
       "</div>"
      ],
      "text/plain": [
       "                                      AdmissionID  \\\n",
       "PatientID                                           \n",
       "1A8791E3-A61C-455A-8DEE-763EB90C9B2C            1   \n",
       "1A8791E3-A61C-455A-8DEE-763EB90C9B2C            1   \n",
       "1A8791E3-A61C-455A-8DEE-763EB90C9B2C            1   \n",
       "1A8791E3-A61C-455A-8DEE-763EB90C9B2C            1   \n",
       "1A8791E3-A61C-455A-8DEE-763EB90C9B2C            1   \n",
       "...                                           ...   \n",
       "F0B53A2C-98CA-415D-B928-E3FD0E52B22A            6   \n",
       "F0B53A2C-98CA-415D-B928-E3FD0E52B22A            6   \n",
       "F0B53A2C-98CA-415D-B928-E3FD0E52B22A            6   \n",
       "F0B53A2C-98CA-415D-B928-E3FD0E52B22A            6   \n",
       "F0B53A2C-98CA-415D-B928-E3FD0E52B22A            6   \n",
       "\n",
       "                                                          LabName  LabValue  \\\n",
       "PatientID                                                                     \n",
       "1A8791E3-A61C-455A-8DEE-763EB90C9B2C  URINALYSIS: RED BLOOD CELLS       1.8   \n",
       "1A8791E3-A61C-455A-8DEE-763EB90C9B2C           METABOLIC: GLUCOSE     103.3   \n",
       "1A8791E3-A61C-455A-8DEE-763EB90C9B2C                     CBC: MCH      35.8   \n",
       "1A8791E3-A61C-455A-8DEE-763EB90C9B2C           METABOLIC: CALCIUM       8.9   \n",
       "1A8791E3-A61C-455A-8DEE-763EB90C9B2C    CBC: RED BLOOD CELL COUNT       4.8   \n",
       "...                                                           ...       ...   \n",
       "F0B53A2C-98CA-415D-B928-E3FD0E52B22A              CBC: HEMOGLOBIN      13.6   \n",
       "F0B53A2C-98CA-415D-B928-E3FD0E52B22A                     CBC: MCH      26.2   \n",
       "F0B53A2C-98CA-415D-B928-E3FD0E52B22A          METABOLIC: CHLORIDE     104.4   \n",
       "F0B53A2C-98CA-415D-B928-E3FD0E52B22A           METABOLIC: GLUCOSE      63.3   \n",
       "F0B53A2C-98CA-415D-B928-E3FD0E52B22A                    CBC: MCHC      38.6   \n",
       "\n",
       "                                     LabUnits              LabDateTime  \n",
       "PatientID                                                               \n",
       "1A8791E3-A61C-455A-8DEE-763EB90C9B2C  rbc/hpf  1992-07-01 01:36:17.910  \n",
       "1A8791E3-A61C-455A-8DEE-763EB90C9B2C    mg/dL  1992-06-30 09:35:52.383  \n",
       "1A8791E3-A61C-455A-8DEE-763EB90C9B2C       pg  1992-06-30 03:50:11.777  \n",
       "1A8791E3-A61C-455A-8DEE-763EB90C9B2C    mg/dL  1992-06-30 12:09:46.107  \n",
       "1A8791E3-A61C-455A-8DEE-763EB90C9B2C   m/cumm  1992-07-01 01:31:08.677  \n",
       "...                                       ...                      ...  \n",
       "F0B53A2C-98CA-415D-B928-E3FD0E52B22A    gm/dl  2012-04-21 03:23:50.883  \n",
       "F0B53A2C-98CA-415D-B928-E3FD0E52B22A       pg  2012-04-21 03:18:44.127  \n",
       "F0B53A2C-98CA-415D-B928-E3FD0E52B22A   mmol/L  2012-04-21 02:58:57.840  \n",
       "F0B53A2C-98CA-415D-B928-E3FD0E52B22A    mg/dL  2012-04-21 02:50:04.503  \n",
       "F0B53A2C-98CA-415D-B928-E3FD0E52B22A     g/dl  2012-04-21 03:27:10.293  \n",
       "\n",
       "[111483 rows x 5 columns]"
      ]
     },
     "execution_count": 3,
     "metadata": {},
     "output_type": "execute_result"
    }
   ],
   "source": [
    "# 1) \n",
    "admiss_core, \n",
    "patient_core\n",
    "labs_core"
   ]
  },
  {
   "cell_type": "code",
   "execution_count": 4,
   "metadata": {},
   "outputs": [],
   "source": [
    "# Dates!"
   ]
  },
  {
   "cell_type": "code",
   "execution_count": 5,
   "metadata": {},
   "outputs": [],
   "source": [
    "##################################################################################################################\n",
    "#\n",
    "# YouDo: Notice that there are many columns with dates, but pandas assumed they're strings\n",
    "#\n",
    "#        1) use the pd.to_datetime() method to transform all of the time columns to have type datetime\n",
    "#            # stretch goal:  do it in a loop based on the string 'Date' appearing in the column name\n",
    "#\n",
    "# Show the type\n",
    "def convert_cols_to_datetime(df):\n",
    "    for col in df:\n",
    "        if \"date\" in col.lower() and type(df[col]) is not np.dtype('datetime64[ns]'):\n",
    "            df[col] = pd.to_datetime(df[col])\n",
    "  "
   ]
  },
  {
   "cell_type": "code",
   "execution_count": 6,
   "metadata": {},
   "outputs": [],
   "source": [
    "\n",
    "# 1) \n",
    "convert_cols_to_datetime(admiss_core)\n",
    "convert_cols_to_datetime(admiss_diag_core)\n",
    "convert_cols_to_datetime(patient_core)\n",
    "convert_cols_to_datetime(labs_core)"
   ]
  },
  {
   "cell_type": "code",
   "execution_count": 7,
   "metadata": {},
   "outputs": [
    {
     "data": {
      "text/plain": [
       "Timedelta('5 days 10:14:56.766000')"
      ]
     },
     "execution_count": 7,
     "metadata": {},
     "output_type": "execute_result"
    }
   ],
   "source": [
    "admiss_core.iloc[3]['AdmissionEndDate']-admiss_core.iloc[3]['AdmissionStartDate']"
   ]
  },
  {
   "cell_type": "code",
   "execution_count": 8,
   "metadata": {},
   "outputs": [
    {
     "data": {
      "text/html": [
       "<div>\n",
       "<style scoped>\n",
       "    .dataframe tbody tr th:only-of-type {\n",
       "        vertical-align: middle;\n",
       "    }\n",
       "\n",
       "    .dataframe tbody tr th {\n",
       "        vertical-align: top;\n",
       "    }\n",
       "\n",
       "    .dataframe thead th {\n",
       "        text-align: right;\n",
       "    }\n",
       "</style>\n",
       "<table border=\"1\" class=\"dataframe\">\n",
       "  <thead>\n",
       "    <tr style=\"text-align: right;\">\n",
       "      <th></th>\n",
       "      <th>AdmissionID</th>\n",
       "      <th>LabName</th>\n",
       "      <th>LabValue</th>\n",
       "      <th>LabUnits</th>\n",
       "      <th>LabDateTime</th>\n",
       "    </tr>\n",
       "    <tr>\n",
       "      <th>PatientID</th>\n",
       "      <th></th>\n",
       "      <th></th>\n",
       "      <th></th>\n",
       "      <th></th>\n",
       "      <th></th>\n",
       "    </tr>\n",
       "  </thead>\n",
       "  <tbody>\n",
       "    <tr>\n",
       "      <th>7A025E77-7832-4F53-B9A7-09A3F98AC17E</th>\n",
       "      <td>1</td>\n",
       "      <td>METABOLIC: CARBON DIOXIDE</td>\n",
       "      <td>20.9</td>\n",
       "      <td>mmol/L</td>\n",
       "      <td>1978-06-29 22:56:25.430</td>\n",
       "    </tr>\n",
       "    <tr>\n",
       "      <th>7A025E77-7832-4F53-B9A7-09A3F98AC17E</th>\n",
       "      <td>1</td>\n",
       "      <td>METABOLIC: BILI TOTAL</td>\n",
       "      <td>0.3</td>\n",
       "      <td>mg/dL</td>\n",
       "      <td>1978-06-30 00:55:28.273</td>\n",
       "    </tr>\n",
       "    <tr>\n",
       "      <th>7A025E77-7832-4F53-B9A7-09A3F98AC17E</th>\n",
       "      <td>1</td>\n",
       "      <td>METABOLIC: CALCIUM</td>\n",
       "      <td>7.4</td>\n",
       "      <td>mg/dL</td>\n",
       "      <td>1978-06-30 07:11:48.760</td>\n",
       "    </tr>\n",
       "    <tr>\n",
       "      <th>7A025E77-7832-4F53-B9A7-09A3F98AC17E</th>\n",
       "      <td>1</td>\n",
       "      <td>CBC: NEUTROPHILS</td>\n",
       "      <td>2.8</td>\n",
       "      <td>k/cumm</td>\n",
       "      <td>1978-06-30 00:01:24.477</td>\n",
       "    </tr>\n",
       "    <tr>\n",
       "      <th>7A025E77-7832-4F53-B9A7-09A3F98AC17E</th>\n",
       "      <td>1</td>\n",
       "      <td>CBC: MCHC</td>\n",
       "      <td>32.2</td>\n",
       "      <td>g/dl</td>\n",
       "      <td>1978-06-30 04:33:20.790</td>\n",
       "    </tr>\n",
       "    <tr>\n",
       "      <th>...</th>\n",
       "      <td>...</td>\n",
       "      <td>...</td>\n",
       "      <td>...</td>\n",
       "      <td>...</td>\n",
       "      <td>...</td>\n",
       "    </tr>\n",
       "    <tr>\n",
       "      <th>7A025E77-7832-4F53-B9A7-09A3F98AC17E</th>\n",
       "      <td>7</td>\n",
       "      <td>METABOLIC: ALT/SGPT</td>\n",
       "      <td>65.9</td>\n",
       "      <td>U/L</td>\n",
       "      <td>2011-10-21 22:37:12.087</td>\n",
       "    </tr>\n",
       "    <tr>\n",
       "      <th>7A025E77-7832-4F53-B9A7-09A3F98AC17E</th>\n",
       "      <td>7</td>\n",
       "      <td>CBC: HEMOGLOBIN</td>\n",
       "      <td>11.6</td>\n",
       "      <td>gm/dl</td>\n",
       "      <td>2011-10-22 00:25:12.860</td>\n",
       "    </tr>\n",
       "    <tr>\n",
       "      <th>7A025E77-7832-4F53-B9A7-09A3F98AC17E</th>\n",
       "      <td>7</td>\n",
       "      <td>CBC: RDW</td>\n",
       "      <td>14.7</td>\n",
       "      <td>%</td>\n",
       "      <td>2011-10-21 21:29:42.703</td>\n",
       "    </tr>\n",
       "    <tr>\n",
       "      <th>7A025E77-7832-4F53-B9A7-09A3F98AC17E</th>\n",
       "      <td>7</td>\n",
       "      <td>CBC: HEMATOCRIT</td>\n",
       "      <td>30.3</td>\n",
       "      <td>%</td>\n",
       "      <td>2011-10-22 00:17:18.873</td>\n",
       "    </tr>\n",
       "    <tr>\n",
       "      <th>7A025E77-7832-4F53-B9A7-09A3F98AC17E</th>\n",
       "      <td>7</td>\n",
       "      <td>URINALYSIS: PH</td>\n",
       "      <td>5.2</td>\n",
       "      <td>no unit</td>\n",
       "      <td>2011-10-21 22:45:20.057</td>\n",
       "    </tr>\n",
       "  </tbody>\n",
       "</table>\n",
       "<p>2259 rows × 5 columns</p>\n",
       "</div>"
      ],
      "text/plain": [
       "                                      AdmissionID                    LabName  \\\n",
       "PatientID                                                                      \n",
       "7A025E77-7832-4F53-B9A7-09A3F98AC17E            1  METABOLIC: CARBON DIOXIDE   \n",
       "7A025E77-7832-4F53-B9A7-09A3F98AC17E            1      METABOLIC: BILI TOTAL   \n",
       "7A025E77-7832-4F53-B9A7-09A3F98AC17E            1         METABOLIC: CALCIUM   \n",
       "7A025E77-7832-4F53-B9A7-09A3F98AC17E            1           CBC: NEUTROPHILS   \n",
       "7A025E77-7832-4F53-B9A7-09A3F98AC17E            1                  CBC: MCHC   \n",
       "...                                           ...                        ...   \n",
       "7A025E77-7832-4F53-B9A7-09A3F98AC17E            7        METABOLIC: ALT/SGPT   \n",
       "7A025E77-7832-4F53-B9A7-09A3F98AC17E            7            CBC: HEMOGLOBIN   \n",
       "7A025E77-7832-4F53-B9A7-09A3F98AC17E            7                   CBC: RDW   \n",
       "7A025E77-7832-4F53-B9A7-09A3F98AC17E            7            CBC: HEMATOCRIT   \n",
       "7A025E77-7832-4F53-B9A7-09A3F98AC17E            7             URINALYSIS: PH   \n",
       "\n",
       "                                      LabValue LabUnits  \\\n",
       "PatientID                                                 \n",
       "7A025E77-7832-4F53-B9A7-09A3F98AC17E      20.9   mmol/L   \n",
       "7A025E77-7832-4F53-B9A7-09A3F98AC17E       0.3    mg/dL   \n",
       "7A025E77-7832-4F53-B9A7-09A3F98AC17E       7.4    mg/dL   \n",
       "7A025E77-7832-4F53-B9A7-09A3F98AC17E       2.8   k/cumm   \n",
       "7A025E77-7832-4F53-B9A7-09A3F98AC17E      32.2     g/dl   \n",
       "...                                        ...      ...   \n",
       "7A025E77-7832-4F53-B9A7-09A3F98AC17E      65.9      U/L   \n",
       "7A025E77-7832-4F53-B9A7-09A3F98AC17E      11.6    gm/dl   \n",
       "7A025E77-7832-4F53-B9A7-09A3F98AC17E      14.7        %   \n",
       "7A025E77-7832-4F53-B9A7-09A3F98AC17E      30.3        %   \n",
       "7A025E77-7832-4F53-B9A7-09A3F98AC17E       5.2  no unit   \n",
       "\n",
       "                                                 LabDateTime  \n",
       "PatientID                                                     \n",
       "7A025E77-7832-4F53-B9A7-09A3F98AC17E 1978-06-29 22:56:25.430  \n",
       "7A025E77-7832-4F53-B9A7-09A3F98AC17E 1978-06-30 00:55:28.273  \n",
       "7A025E77-7832-4F53-B9A7-09A3F98AC17E 1978-06-30 07:11:48.760  \n",
       "7A025E77-7832-4F53-B9A7-09A3F98AC17E 1978-06-30 00:01:24.477  \n",
       "7A025E77-7832-4F53-B9A7-09A3F98AC17E 1978-06-30 04:33:20.790  \n",
       "...                                                      ...  \n",
       "7A025E77-7832-4F53-B9A7-09A3F98AC17E 2011-10-21 22:37:12.087  \n",
       "7A025E77-7832-4F53-B9A7-09A3F98AC17E 2011-10-22 00:25:12.860  \n",
       "7A025E77-7832-4F53-B9A7-09A3F98AC17E 2011-10-21 21:29:42.703  \n",
       "7A025E77-7832-4F53-B9A7-09A3F98AC17E 2011-10-22 00:17:18.873  \n",
       "7A025E77-7832-4F53-B9A7-09A3F98AC17E 2011-10-21 22:45:20.057  \n",
       "\n",
       "[2259 rows x 5 columns]"
      ]
     },
     "execution_count": 8,
     "metadata": {},
     "output_type": "execute_result"
    }
   ],
   "source": [
    "# As is typical in complex data sets, informtion about each patient is broken up into several different\n",
    "# tables, cross-referenced by a patient id\n",
    "##################################################################################################################\n",
    "#\n",
    "# YouDo: Print out the records from each of the four tables for patient number\n",
    "# 7A025E77-7832-4F53-B9A7-09A3F98AC17E\t\n",
    "pid='7A025E77-7832-4F53-B9A7-09A3F98AC17E'\n",
    "admiss_core.loc[admiss_core.index==pid]\n",
    "\n",
    "pid='7A025E77-7832-4F53-B9A7-09A3F98AC17E'\n",
    "admiss_diag_core.loc[admiss_diag_core.index==pid]\n",
    "\n",
    "pid='7A025E77-7832-4F53-B9A7-09A3F98AC17E'\n",
    "patient_core.loc[patient_core.index==pid]\n",
    "\n",
    "pid='7A025E77-7832-4F53-B9A7-09A3F98AC17E'\n",
    "labs_core.loc[labs_core.index==pid]\n",
    "\n",
    "\n",
    "#admiss_core\n"
   ]
  },
  {
   "cell_type": "code",
   "execution_count": 9,
   "metadata": {},
   "outputs": [
    {
     "data": {
      "text/html": [
       "<div>\n",
       "<style scoped>\n",
       "    .dataframe tbody tr th:only-of-type {\n",
       "        vertical-align: middle;\n",
       "    }\n",
       "\n",
       "    .dataframe tbody tr th {\n",
       "        vertical-align: top;\n",
       "    }\n",
       "\n",
       "    .dataframe thead th {\n",
       "        text-align: right;\n",
       "    }\n",
       "</style>\n",
       "<table border=\"1\" class=\"dataframe\">\n",
       "  <thead>\n",
       "    <tr style=\"text-align: right;\">\n",
       "      <th></th>\n",
       "      <th>AdmissionID</th>\n",
       "      <th>LabName</th>\n",
       "      <th>LabValue</th>\n",
       "      <th>LabUnits</th>\n",
       "      <th>LabDateTime</th>\n",
       "    </tr>\n",
       "    <tr>\n",
       "      <th>PatientID</th>\n",
       "      <th></th>\n",
       "      <th></th>\n",
       "      <th></th>\n",
       "      <th></th>\n",
       "      <th></th>\n",
       "    </tr>\n",
       "  </thead>\n",
       "  <tbody>\n",
       "  </tbody>\n",
       "</table>\n",
       "</div>"
      ],
      "text/plain": [
       "Empty DataFrame\n",
       "Columns: [AdmissionID, LabName, LabValue, LabUnits, LabDateTime]\n",
       "Index: []"
      ]
     },
     "execution_count": 9,
     "metadata": {},
     "output_type": "execute_result"
    }
   ],
   "source": [
    "labs_core.loc[labs_core.index=='PatientID']\n"
   ]
  },
  {
   "cell_type": "code",
   "execution_count": 10,
   "metadata": {},
   "outputs": [],
   "source": [
    "# SQL-like joins\n",
    "jdf =  patient_core.join(labs_core, how='left')\n"
   ]
  },
  {
   "cell_type": "code",
   "execution_count": 11,
   "metadata": {},
   "outputs": [
    {
     "data": {
      "text/plain": [
       "((111483, 11), (100, 6), (111483, 5))"
      ]
     },
     "execution_count": 11,
     "metadata": {},
     "output_type": "execute_result"
    }
   ],
   "source": [
    "jdf.shape, patient_core.shape, labs_core.shape"
   ]
  },
  {
   "cell_type": "code",
   "execution_count": 12,
   "metadata": {},
   "outputs": [
    {
     "name": "stdout",
     "output_type": "stream",
     "text": [
      "Stats on Number of Labs per Patient\n",
      "count     100.00000\n",
      "mean     1114.83000\n",
      "std       539.36152\n",
      "min        86.00000\n",
      "25%       706.25000\n",
      "50%      1032.50000\n",
      "75%      1441.25000\n",
      "max      2760.00000\n",
      "dtype: float64\n",
      "Number of each lab\n"
     ]
    }
   ],
   "source": [
    "# Holy cow!  this patient has lots of lab results in her record\n",
    "# This is synthetic data, so it's bound to have weird things.  Is that normal in this data?\n",
    "##################################################################################################################\n",
    "#\n",
    "# You do:\n",
    "#   1) Compute the average & standard deviation of number of labs per patient.\n",
    "#         hint:  Consider pd.groupby()\n",
    "#\n",
    "print(\"Stats on Number of Labs per Patient\")\n",
    "print(jdf.groupby('PatientID').size().describe())\n",
    "\n",
    "#print(...)\n",
    "\n",
    "#   2) Compute a list of each lab and how many orders for that lab are in the data frame\n",
    "#    \n",
    "\n",
    "jdf.groupby('LabName').size()\n",
    "print(\"Number of each lab\")\n",
    "#print(...)"
   ]
  },
  {
   "cell_type": "code",
   "execution_count": 13,
   "metadata": {
    "scrolled": true
   },
   "outputs": [
    {
     "name": "stdout",
     "output_type": "stream",
     "text": [
      "Number of each lab\n",
      "LabName\n",
      "CBC: ABSOLUTE LYMPHOCYTES        3162\n",
      "CBC: ABSOLUTE NEUTROPHILS        3210\n",
      "CBC: BASOPHILS                   3165\n",
      "CBC: EOSINOPHILS                 3191\n",
      "CBC: HEMATOCRIT                  3211\n",
      "CBC: HEMOGLOBIN                  3193\n",
      "CBC: LYMPHOCYTES                 3162\n",
      "CBC: MCH                         3191\n",
      "CBC: MCHC                        3202\n",
      "CBC: MEAN CORPUSCULAR VOLUME     3175\n",
      "CBC: MONOCYTES                   3129\n",
      "CBC: NEUTROPHILS                 3224\n",
      "CBC: PLATELET COUNT              3177\n",
      "CBC: RDW                         3188\n",
      "CBC: RED BLOOD CELL COUNT        3174\n",
      "CBC: WHITE BLOOD CELL COUNT      3209\n",
      "METABOLIC: ALBUMIN               3202\n",
      "METABOLIC: ALK PHOS              3154\n",
      "METABOLIC: ALT/SGPT              3155\n",
      "METABOLIC: ANION GAP             3166\n",
      "METABOLIC: AST/SGOT              3179\n",
      "METABOLIC: BILI TOTAL            3182\n",
      "METABOLIC: BUN                   3158\n",
      "METABOLIC: CALCIUM               3179\n",
      "METABOLIC: CARBON DIOXIDE        3218\n",
      "METABOLIC: CHLORIDE              3190\n",
      "METABOLIC: CREATININE            3193\n",
      "METABOLIC: GLUCOSE               3202\n",
      "METABOLIC: POTASSIUM             3185\n",
      "METABOLIC: SODIUM                3207\n",
      "METABOLIC: TOTAL PROTEIN         3177\n",
      "URINALYSIS: PH                   3187\n",
      "URINALYSIS: RED BLOOD CELLS      3187\n",
      "URINALYSIS: SPECIFIC GRAVITY     3181\n",
      "URINALYSIS: WHITE BLOOD CELLS    3218\n",
      "dtype: int64\n"
     ]
    }
   ],
   "source": [
    "##2 computing the list \n",
    "\n",
    "jdf.groupby('LabName').size()\n",
    "print(\"Number of each lab\")\n",
    "print(jdf.groupby('LabName').size())"
   ]
  },
  {
   "cell_type": "code",
   "execution_count": null,
   "metadata": {},
   "outputs": [],
   "source": []
  },
  {
   "cell_type": "code",
   "execution_count": 14,
   "metadata": {},
   "outputs": [
    {
     "name": "stdout",
     "output_type": "stream",
     "text": [
      "PatientID\n",
      "B7E9FC4C-5182-4A34-954E-CEF5FC07E96D      86\n",
      "A50BE9B4-8A0B-4169-B894-F7BD86D7D90B     130\n",
      "8856096E-E59C-4156-A767-C091AF799C80     230\n",
      "C2CCB1AB-6633-4CB3-B4E8-157E6FB02376     360\n",
      "672D554B-D6D1-40B2-A6A4-21A4CB6B1AA6     399\n",
      "                                        ... \n",
      "7A025E77-7832-4F53-B9A7-09A3F98AC17E    2259\n",
      "A0A976C8-9B30-4492-B8C4-5B25095B9192    2263\n",
      "36775002-9EC3-4889-AD4F-80DC6855C8D8    2372\n",
      "25B786AF-0F99-478C-9CFA-0EA607E45834    2561\n",
      "80D356B4-F974-441F-A5F2-F95986D119A2    2760\n",
      "Length: 100, dtype: int64\n",
      "Patient with the most labs: 80D356B4-F974-441F-A5F2-F95986D119A2\n"
     ]
    }
   ],
   "source": [
    "# It seems that this data set has the same patient getting the same labs perhaps dozens of times.\n",
    "# Lets make a visualization of one of the time vs. one of the lab values for a specific patient.\n",
    "##################################################################################################################\n",
    "#\n",
    "# You do:\n",
    "#   1) Find the patient/lab combination with the most labs taken\n",
    "\n",
    "print(jdf.groupby('PatientID').size().sort_values())\n",
    "\n",
    "pt_most_labs=jdf.groupby('PatientID').size().sort_values().index[-1]\n",
    "print(f\"Patient with the most labs: {pt_most_labs}\")\n",
    "\n",
    "\n",
    "#   2) For the most-measured patient/lab combination, make a time vs lab-value plot\n",
    "#    Hint:  you can \"group by\" multiple columns"
   ]
  },
  {
   "cell_type": "code",
   "execution_count": 15,
   "metadata": {},
   "outputs": [
    {
     "data": {
      "text/plain": [
       "PatientID                             LabName                     \n",
       "A50BE9B4-8A0B-4169-B894-F7BD86D7D90B  CBC: LYMPHOCYTES                 1\n",
       "B7E9FC4C-5182-4A34-954E-CEF5FC07E96D  URINALYSIS: SPECIFIC GRAVITY     1\n",
       "                                      CBC: HEMATOCRIT                  1\n",
       "A50BE9B4-8A0B-4169-B894-F7BD86D7D90B  METABOLIC: SODIUM                1\n",
       "B7E9FC4C-5182-4A34-954E-CEF5FC07E96D  CBC: EOSINOPHILS                 2\n",
       "                                                                      ..\n",
       "80D356B4-F974-441F-A5F2-F95986D119A2  CBC: HEMOGLOBIN                 83\n",
       "                                      METABOLIC: ALT/SGPT             84\n",
       "                                      METABOLIC: POTASSIUM            84\n",
       "                                      CBC: PLATELET COUNT             84\n",
       "                                      CBC: HEMATOCRIT                 88\n",
       "Length: 3499, dtype: int64"
      ]
     },
     "execution_count": 15,
     "metadata": {},
     "output_type": "execute_result"
    }
   ],
   "source": [
    "# 1) \n",
    "#jdf.groupby(['PatientID','LabName']).size().sort_values()\n",
    "jdf.groupby(['PatientID','LabName']).size().sort_values()\n",
    "\n"
   ]
  },
  {
   "cell_type": "code",
   "execution_count": 17,
   "metadata": {},
   "outputs": [
    {
     "name": "stdout",
     "output_type": "stream",
     "text": [
      "                                     PatientGender      PatientDateOfBirth  \\\n",
      "PatientID                                                                    \n",
      "80D356B4-F974-441F-A5F2-F95986D119A2        Female 1938-03-06 18:24:18.297   \n",
      "80D356B4-F974-441F-A5F2-F95986D119A2        Female 1938-03-06 18:24:18.297   \n",
      "80D356B4-F974-441F-A5F2-F95986D119A2        Female 1938-03-06 18:24:18.297   \n",
      "80D356B4-F974-441F-A5F2-F95986D119A2        Female 1938-03-06 18:24:18.297   \n",
      "80D356B4-F974-441F-A5F2-F95986D119A2        Female 1938-03-06 18:24:18.297   \n",
      "...                                            ...                     ...   \n",
      "80D356B4-F974-441F-A5F2-F95986D119A2        Female 1938-03-06 18:24:18.297   \n",
      "80D356B4-F974-441F-A5F2-F95986D119A2        Female 1938-03-06 18:24:18.297   \n",
      "80D356B4-F974-441F-A5F2-F95986D119A2        Female 1938-03-06 18:24:18.297   \n",
      "80D356B4-F974-441F-A5F2-F95986D119A2        Female 1938-03-06 18:24:18.297   \n",
      "80D356B4-F974-441F-A5F2-F95986D119A2        Female 1938-03-06 18:24:18.297   \n",
      "\n",
      "                                     PatientRace PatientMaritalStatus  \\\n",
      "PatientID                                                               \n",
      "80D356B4-F974-441F-A5F2-F95986D119A2       White               Single   \n",
      "80D356B4-F974-441F-A5F2-F95986D119A2       White               Single   \n",
      "80D356B4-F974-441F-A5F2-F95986D119A2       White               Single   \n",
      "80D356B4-F974-441F-A5F2-F95986D119A2       White               Single   \n",
      "80D356B4-F974-441F-A5F2-F95986D119A2       White               Single   \n",
      "...                                          ...                  ...   \n",
      "80D356B4-F974-441F-A5F2-F95986D119A2       White               Single   \n",
      "80D356B4-F974-441F-A5F2-F95986D119A2       White               Single   \n",
      "80D356B4-F974-441F-A5F2-F95986D119A2       White               Single   \n",
      "80D356B4-F974-441F-A5F2-F95986D119A2       White               Single   \n",
      "80D356B4-F974-441F-A5F2-F95986D119A2       White               Single   \n",
      "\n",
      "                                     PatientLanguage  \\\n",
      "PatientID                                              \n",
      "80D356B4-F974-441F-A5F2-F95986D119A2         English   \n",
      "80D356B4-F974-441F-A5F2-F95986D119A2         English   \n",
      "80D356B4-F974-441F-A5F2-F95986D119A2         English   \n",
      "80D356B4-F974-441F-A5F2-F95986D119A2         English   \n",
      "80D356B4-F974-441F-A5F2-F95986D119A2         English   \n",
      "...                                              ...   \n",
      "80D356B4-F974-441F-A5F2-F95986D119A2         English   \n",
      "80D356B4-F974-441F-A5F2-F95986D119A2         English   \n",
      "80D356B4-F974-441F-A5F2-F95986D119A2         English   \n",
      "80D356B4-F974-441F-A5F2-F95986D119A2         English   \n",
      "80D356B4-F974-441F-A5F2-F95986D119A2         English   \n",
      "\n",
      "                                      PatientPopulationPercentageBelowPoverty  \\\n",
      "PatientID                                                                       \n",
      "80D356B4-F974-441F-A5F2-F95986D119A2                                    18.88   \n",
      "80D356B4-F974-441F-A5F2-F95986D119A2                                    18.88   \n",
      "80D356B4-F974-441F-A5F2-F95986D119A2                                    18.88   \n",
      "80D356B4-F974-441F-A5F2-F95986D119A2                                    18.88   \n",
      "80D356B4-F974-441F-A5F2-F95986D119A2                                    18.88   \n",
      "...                                                                       ...   \n",
      "80D356B4-F974-441F-A5F2-F95986D119A2                                    18.88   \n",
      "80D356B4-F974-441F-A5F2-F95986D119A2                                    18.88   \n",
      "80D356B4-F974-441F-A5F2-F95986D119A2                                    18.88   \n",
      "80D356B4-F974-441F-A5F2-F95986D119A2                                    18.88   \n",
      "80D356B4-F974-441F-A5F2-F95986D119A2                                    18.88   \n",
      "\n",
      "                                      AdmissionID          LabName  LabValue  \\\n",
      "PatientID                                                                      \n",
      "80D356B4-F974-441F-A5F2-F95986D119A2            1  CBC: HEMATOCRIT      39.3   \n",
      "80D356B4-F974-441F-A5F2-F95986D119A2            1  CBC: HEMATOCRIT      38.9   \n",
      "80D356B4-F974-441F-A5F2-F95986D119A2            1  CBC: HEMATOCRIT      53.4   \n",
      "80D356B4-F974-441F-A5F2-F95986D119A2            1  CBC: HEMATOCRIT      32.9   \n",
      "80D356B4-F974-441F-A5F2-F95986D119A2            1  CBC: HEMATOCRIT      49.1   \n",
      "...                                           ...              ...       ...   \n",
      "80D356B4-F974-441F-A5F2-F95986D119A2            7  CBC: HEMATOCRIT      43.3   \n",
      "80D356B4-F974-441F-A5F2-F95986D119A2            7  CBC: HEMATOCRIT      50.2   \n",
      "80D356B4-F974-441F-A5F2-F95986D119A2            7  CBC: HEMATOCRIT      42.8   \n",
      "80D356B4-F974-441F-A5F2-F95986D119A2            7  CBC: HEMATOCRIT      50.5   \n",
      "80D356B4-F974-441F-A5F2-F95986D119A2            7  CBC: HEMATOCRIT      44.9   \n",
      "\n",
      "                                     LabUnits             LabDateTime  \n",
      "PatientID                                                              \n",
      "80D356B4-F974-441F-A5F2-F95986D119A2        % 1965-01-31 04:20:01.450  \n",
      "80D356B4-F974-441F-A5F2-F95986D119A2        % 1965-02-01 04:24:54.520  \n",
      "80D356B4-F974-441F-A5F2-F95986D119A2        % 1965-02-01 12:06:34.270  \n",
      "80D356B4-F974-441F-A5F2-F95986D119A2        % 1965-02-03 07:18:53.007  \n",
      "80D356B4-F974-441F-A5F2-F95986D119A2        % 1965-02-03 23:01:51.497  \n",
      "...                                       ...                     ...  \n",
      "80D356B4-F974-441F-A5F2-F95986D119A2        % 2012-11-02 08:12:45.127  \n",
      "80D356B4-F974-441F-A5F2-F95986D119A2        % 2012-11-04 22:07:36.617  \n",
      "80D356B4-F974-441F-A5F2-F95986D119A2        % 2012-11-06 14:33:02.890  \n",
      "80D356B4-F974-441F-A5F2-F95986D119A2        % 2012-11-07 08:45:45.350  \n",
      "80D356B4-F974-441F-A5F2-F95986D119A2        % 2012-11-09 01:30:59.617  \n",
      "\n",
      "[88 rows x 11 columns]\n"
     ]
    }
   ],
   "source": [
    "thebusypatient = '80D356B4-F974-441F-A5F2-F95986D119A2' # put patient ID here\n",
    "thebusylab = 'CBC: HEMATOCRIT' #put the lab name here\n",
    "subdf = jdf.loc[(jdf.index==thebusypatient) & (jdf.LabName.str.startswith(thebusylab))]\n",
    "\n",
    "print(subdf)"
   ]
  },
  {
   "cell_type": "code",
   "execution_count": 26,
   "metadata": {
    "scrolled": false
   },
   "outputs": [
    {
     "data": {
      "text/plain": [
       "[<matplotlib.lines.Line2D at 0x1514a2390>]"
      ]
     },
     "execution_count": 26,
     "metadata": {},
     "output_type": "execute_result"
    },
    {
     "data": {
      "image/png": "[encoded data removed]",
      "text/plain": [
       "<Figure size 640x480 with 1 Axes>"
      ]
     },
     "metadata": {},
     "output_type": "display_data"
    }
   ],
   "source": [
    "# 2) \n",
    "\n",
    "dts = subdf.LabDateTime\n",
    "vls = subdf.LabValue\n",
    "\n",
    "\n",
    "plt.figure()\n",
    "plt.plot(dts, vls)\n",
    "\n",
    "\n",
    "#plt.figure()\n",
    "#plt.plot(dts, vls)"
   ]
  },
  {
   "cell_type": "code",
   "execution_count": 34,
   "metadata": {},
   "outputs": [
    {
     "name": "stdout",
     "output_type": "stream",
     "text": [
      "My matplot widget function was not working, so I cannot zoom over the specific dates with the toolbar.\n",
      "But from watching the class from Monday, I would try to demonstrate to the PI that the specific date is not listed in the lab values.\n",
      "I thought I did this successfully, but it turns out I cannot search for any date, even the ones I can see.\n",
      "If everything was working, I would tell him/her that there were no labs taken in 1865 but provide the range for the values from 1984-1986 to try and capture useful trends around that time.\n",
      "I would also ask if there is another database that might have the specific date, especially if the PI is wanting that specific date to check an association with some type of health event.\n"
     ]
    }
   ],
   "source": [
    "##################################################################################################################\n",
    "#\n",
    "# You do:\n",
    "#   Closely inspect the plot you made.  \n",
    "#\n",
    "# 1) In order to compare this to another data set, your PI wants to know what the lab value was on August 6, 1985.  \n",
    "#    What would you tell him/her (including all caveats)? \n",
    "\n",
    "print('My matplot widget function was not working, so I cannot zoom over the specific dates with the toolbar.')\n",
    "print('But from watching the class from Monday, I would try to demonstrate to the PI that the specific date is not listed in the lab values.')\n",
    "print('I thought I did this successfully, but it turns out I cannot search for any date, even the ones I can see.')\n",
    "print('If everything was working, I would tell him/her that there were no labs taken in 1865 but provide the range for the values from 1984-1986 to try and capture useful trends around that time.')\n",
    "print('I would also ask if there is another database that might have the specific date, especially if the PI is wanting that specific date to check an association with some type of health event.')\n"
   ]
  },
  {
   "cell_type": "code",
   "execution_count": 35,
   "metadata": {},
   "outputs": [
    {
     "name": "stdout",
     "output_type": "stream",
     "text": [
      "I would say that we do not have lab values for that specific date, but it seems like I could provide lab values from that month.\n",
      "Similar to above, I would want to know the specific question the PI is trying to ask, in case that PI is trying to see if lab values precede a certain diagnosis.\n"
     ]
    }
   ],
   "source": [
    "## 2) How about the value for December 14th, 1991?\n",
    "\n",
    "print('I would say that we do not have lab values for that specific date, but it seems like I could provide lab values from that month.')\n",
    "print('Similar to above, I would want to know the specific question the PI is trying to ask, in case that PI is trying to see if lab values precede a certain diagnosis.')"
   ]
  },
  {
   "cell_type": "code",
   "execution_count": 66,
   "metadata": {},
   "outputs": [
    {
     "data": {
      "text/html": [
       "<div>\n",
       "<style scoped>\n",
       "    .dataframe tbody tr th:only-of-type {\n",
       "        vertical-align: middle;\n",
       "    }\n",
       "\n",
       "    .dataframe tbody tr th {\n",
       "        vertical-align: top;\n",
       "    }\n",
       "\n",
       "    .dataframe thead th {\n",
       "        text-align: right;\n",
       "    }\n",
       "</style>\n",
       "<table border=\"1\" class=\"dataframe\">\n",
       "  <thead>\n",
       "    <tr style=\"text-align: right;\">\n",
       "      <th></th>\n",
       "      <th>PatientGender</th>\n",
       "      <th>PatientDateOfBirth</th>\n",
       "      <th>PatientRace</th>\n",
       "      <th>PatientMaritalStatus</th>\n",
       "      <th>PatientLanguage</th>\n",
       "      <th>PatientPopulationPercentageBelowPoverty</th>\n",
       "      <th>AdmissionID</th>\n",
       "      <th>LabName</th>\n",
       "      <th>LabValue</th>\n",
       "      <th>LabUnits</th>\n",
       "      <th>LabDateTime</th>\n",
       "    </tr>\n",
       "    <tr>\n",
       "      <th>PatientID</th>\n",
       "      <th></th>\n",
       "      <th></th>\n",
       "      <th></th>\n",
       "      <th></th>\n",
       "      <th></th>\n",
       "      <th></th>\n",
       "      <th></th>\n",
       "      <th></th>\n",
       "      <th></th>\n",
       "      <th></th>\n",
       "      <th></th>\n",
       "    </tr>\n",
       "  </thead>\n",
       "  <tbody>\n",
       "    <tr>\n",
       "      <th>80D356B4-F974-441F-A5F2-F95986D119A2</th>\n",
       "      <td>Female</td>\n",
       "      <td>1938-03-06 18:24:18.297</td>\n",
       "      <td>White</td>\n",
       "      <td>Single</td>\n",
       "      <td>English</td>\n",
       "      <td>18.88</td>\n",
       "      <td>1</td>\n",
       "      <td>CBC: HEMATOCRIT</td>\n",
       "      <td>39.3</td>\n",
       "      <td>%</td>\n",
       "      <td>1965-01-31 04:20:01.450</td>\n",
       "    </tr>\n",
       "    <tr>\n",
       "      <th>80D356B4-F974-441F-A5F2-F95986D119A2</th>\n",
       "      <td>Female</td>\n",
       "      <td>1938-03-06 18:24:18.297</td>\n",
       "      <td>White</td>\n",
       "      <td>Single</td>\n",
       "      <td>English</td>\n",
       "      <td>18.88</td>\n",
       "      <td>1</td>\n",
       "      <td>CBC: HEMATOCRIT</td>\n",
       "      <td>38.9</td>\n",
       "      <td>%</td>\n",
       "      <td>1965-02-01 04:24:54.520</td>\n",
       "    </tr>\n",
       "    <tr>\n",
       "      <th>80D356B4-F974-441F-A5F2-F95986D119A2</th>\n",
       "      <td>Female</td>\n",
       "      <td>1938-03-06 18:24:18.297</td>\n",
       "      <td>White</td>\n",
       "      <td>Single</td>\n",
       "      <td>English</td>\n",
       "      <td>18.88</td>\n",
       "      <td>1</td>\n",
       "      <td>CBC: HEMATOCRIT</td>\n",
       "      <td>53.4</td>\n",
       "      <td>%</td>\n",
       "      <td>1965-02-01 12:06:34.270</td>\n",
       "    </tr>\n",
       "    <tr>\n",
       "      <th>80D356B4-F974-441F-A5F2-F95986D119A2</th>\n",
       "      <td>Female</td>\n",
       "      <td>1938-03-06 18:24:18.297</td>\n",
       "      <td>White</td>\n",
       "      <td>Single</td>\n",
       "      <td>English</td>\n",
       "      <td>18.88</td>\n",
       "      <td>1</td>\n",
       "      <td>CBC: HEMATOCRIT</td>\n",
       "      <td>32.9</td>\n",
       "      <td>%</td>\n",
       "      <td>1965-02-03 07:18:53.007</td>\n",
       "    </tr>\n",
       "    <tr>\n",
       "      <th>80D356B4-F974-441F-A5F2-F95986D119A2</th>\n",
       "      <td>Female</td>\n",
       "      <td>1938-03-06 18:24:18.297</td>\n",
       "      <td>White</td>\n",
       "      <td>Single</td>\n",
       "      <td>English</td>\n",
       "      <td>18.88</td>\n",
       "      <td>1</td>\n",
       "      <td>CBC: HEMATOCRIT</td>\n",
       "      <td>49.1</td>\n",
       "      <td>%</td>\n",
       "      <td>1965-02-03 23:01:51.497</td>\n",
       "    </tr>\n",
       "  </tbody>\n",
       "</table>\n",
       "</div>"
      ],
      "text/plain": [
       "                                     PatientGender      PatientDateOfBirth  \\\n",
       "PatientID                                                                    \n",
       "80D356B4-F974-441F-A5F2-F95986D119A2        Female 1938-03-06 18:24:18.297   \n",
       "80D356B4-F974-441F-A5F2-F95986D119A2        Female 1938-03-06 18:24:18.297   \n",
       "80D356B4-F974-441F-A5F2-F95986D119A2        Female 1938-03-06 18:24:18.297   \n",
       "80D356B4-F974-441F-A5F2-F95986D119A2        Female 1938-03-06 18:24:18.297   \n",
       "80D356B4-F974-441F-A5F2-F95986D119A2        Female 1938-03-06 18:24:18.297   \n",
       "\n",
       "                                     PatientRace PatientMaritalStatus  \\\n",
       "PatientID                                                               \n",
       "80D356B4-F974-441F-A5F2-F95986D119A2       White               Single   \n",
       "80D356B4-F974-441F-A5F2-F95986D119A2       White               Single   \n",
       "80D356B4-F974-441F-A5F2-F95986D119A2       White               Single   \n",
       "80D356B4-F974-441F-A5F2-F95986D119A2       White               Single   \n",
       "80D356B4-F974-441F-A5F2-F95986D119A2       White               Single   \n",
       "\n",
       "                                     PatientLanguage  \\\n",
       "PatientID                                              \n",
       "80D356B4-F974-441F-A5F2-F95986D119A2         English   \n",
       "80D356B4-F974-441F-A5F2-F95986D119A2         English   \n",
       "80D356B4-F974-441F-A5F2-F95986D119A2         English   \n",
       "80D356B4-F974-441F-A5F2-F95986D119A2         English   \n",
       "80D356B4-F974-441F-A5F2-F95986D119A2         English   \n",
       "\n",
       "                                      PatientPopulationPercentageBelowPoverty  \\\n",
       "PatientID                                                                       \n",
       "80D356B4-F974-441F-A5F2-F95986D119A2                                    18.88   \n",
       "80D356B4-F974-441F-A5F2-F95986D119A2                                    18.88   \n",
       "80D356B4-F974-441F-A5F2-F95986D119A2                                    18.88   \n",
       "80D356B4-F974-441F-A5F2-F95986D119A2                                    18.88   \n",
       "80D356B4-F974-441F-A5F2-F95986D119A2                                    18.88   \n",
       "\n",
       "                                      AdmissionID          LabName  LabValue  \\\n",
       "PatientID                                                                      \n",
       "80D356B4-F974-441F-A5F2-F95986D119A2            1  CBC: HEMATOCRIT      39.3   \n",
       "80D356B4-F974-441F-A5F2-F95986D119A2            1  CBC: HEMATOCRIT      38.9   \n",
       "80D356B4-F974-441F-A5F2-F95986D119A2            1  CBC: HEMATOCRIT      53.4   \n",
       "80D356B4-F974-441F-A5F2-F95986D119A2            1  CBC: HEMATOCRIT      32.9   \n",
       "80D356B4-F974-441F-A5F2-F95986D119A2            1  CBC: HEMATOCRIT      49.1   \n",
       "\n",
       "                                     LabUnits             LabDateTime  \n",
       "PatientID                                                              \n",
       "80D356B4-F974-441F-A5F2-F95986D119A2        % 1965-01-31 04:20:01.450  \n",
       "80D356B4-F974-441F-A5F2-F95986D119A2        % 1965-02-01 04:24:54.520  \n",
       "80D356B4-F974-441F-A5F2-F95986D119A2        % 1965-02-01 12:06:34.270  \n",
       "80D356B4-F974-441F-A5F2-F95986D119A2        % 1965-02-03 07:18:53.007  \n",
       "80D356B4-F974-441F-A5F2-F95986D119A2        % 1965-02-03 23:01:51.497  "
      ]
     },
     "execution_count": 66,
     "metadata": {},
     "output_type": "execute_result"
    }
   ],
   "source": [
    "subdf.head()"
   ]
  },
  {
   "cell_type": "code",
   "execution_count": 22,
   "metadata": {},
   "outputs": [
    {
     "data": {
      "text/plain": [
       "PatientID\n",
       "80D356B4-F974-441F-A5F2-F95986D119A2   1965-01-31 04:20:01.450\n",
       "80D356B4-F974-441F-A5F2-F95986D119A2   1965-02-01 04:24:54.520\n",
       "80D356B4-F974-441F-A5F2-F95986D119A2   1965-02-01 12:06:34.270\n",
       "80D356B4-F974-441F-A5F2-F95986D119A2   1965-02-03 07:18:53.007\n",
       "80D356B4-F974-441F-A5F2-F95986D119A2   1965-02-03 23:01:51.497\n",
       "                                                 ...          \n",
       "80D356B4-F974-441F-A5F2-F95986D119A2   2012-11-02 08:12:45.127\n",
       "80D356B4-F974-441F-A5F2-F95986D119A2   2012-11-04 22:07:36.617\n",
       "80D356B4-F974-441F-A5F2-F95986D119A2   2012-11-06 14:33:02.890\n",
       "80D356B4-F974-441F-A5F2-F95986D119A2   2012-11-07 08:45:45.350\n",
       "80D356B4-F974-441F-A5F2-F95986D119A2   2012-11-09 01:30:59.617\n",
       "Name: LabDateTime, Length: 88, dtype: datetime64[ns]"
      ]
     },
     "execution_count": 22,
     "metadata": {},
     "output_type": "execute_result"
    }
   ],
   "source": [
    "subdf.LabDateTime"
   ]
  },
  {
   "cell_type": "code",
   "execution_count": 28,
   "metadata": {},
   "outputs": [
    {
     "data": {
      "text/html": [
       "<div>\n",
       "<style scoped>\n",
       "    .dataframe tbody tr th:only-of-type {\n",
       "        vertical-align: middle;\n",
       "    }\n",
       "\n",
       "    .dataframe tbody tr th {\n",
       "        vertical-align: top;\n",
       "    }\n",
       "\n",
       "    .dataframe thead th {\n",
       "        text-align: right;\n",
       "    }\n",
       "</style>\n",
       "<table border=\"1\" class=\"dataframe\">\n",
       "  <thead>\n",
       "    <tr style=\"text-align: right;\">\n",
       "      <th></th>\n",
       "      <th>PatientGender</th>\n",
       "      <th>PatientDateOfBirth</th>\n",
       "      <th>PatientRace</th>\n",
       "      <th>PatientMaritalStatus</th>\n",
       "      <th>PatientLanguage</th>\n",
       "      <th>PatientPopulationPercentageBelowPoverty</th>\n",
       "      <th>AdmissionID</th>\n",
       "      <th>LabName</th>\n",
       "      <th>LabValue</th>\n",
       "      <th>LabUnits</th>\n",
       "      <th>LabDateTime</th>\n",
       "    </tr>\n",
       "    <tr>\n",
       "      <th>PatientID</th>\n",
       "      <th></th>\n",
       "      <th></th>\n",
       "      <th></th>\n",
       "      <th></th>\n",
       "      <th></th>\n",
       "      <th></th>\n",
       "      <th></th>\n",
       "      <th></th>\n",
       "      <th></th>\n",
       "      <th></th>\n",
       "      <th></th>\n",
       "    </tr>\n",
       "  </thead>\n",
       "  <tbody>\n",
       "  </tbody>\n",
       "</table>\n",
       "</div>"
      ],
      "text/plain": [
       "Empty DataFrame\n",
       "Columns: [PatientGender, PatientDateOfBirth, PatientRace, PatientMaritalStatus, PatientLanguage, PatientPopulationPercentageBelowPoverty, AdmissionID, LabName, LabValue, LabUnits, LabDateTime]\n",
       "Index: []"
      ]
     },
     "execution_count": 28,
     "metadata": {},
     "output_type": "execute_result"
    }
   ],
   "source": [
    "## what I thought was successfully showing that there is no lab value on this date:\n",
    "\n",
    "subdf.loc[(subdf['LabDateTime'] == '1965-08-06')]"
   ]
  },
  {
   "cell_type": "code",
   "execution_count": 30,
   "metadata": {},
   "outputs": [
    {
     "name": "stdout",
     "output_type": "stream",
     "text": [
      "Empty DataFrame\n",
      "Columns: [PatientGender, PatientDateOfBirth, PatientRace, PatientMaritalStatus, PatientLanguage, PatientPopulationPercentageBelowPoverty, AdmissionID, LabName, LabValue, LabUnits, LabDateTime]\n",
      "Index: []\n"
     ]
    }
   ],
   "source": [
    "## same thing for second date, but seems like this wouldn't find it even if it was a real date for the lab\n",
    "\n",
    "subdf_find2 = subdf.loc[(subdf['LabDateTime'] == '1991-12-14')]\n",
    "print(subdf_find2)"
   ]
  },
  {
   "cell_type": "code",
   "execution_count": 27,
   "metadata": {},
   "outputs": [
    {
     "name": "stdout",
     "output_type": "stream",
     "text": [
      "Empty DataFrame\n",
      "Columns: [PatientGender, PatientDateOfBirth, PatientRace, PatientMaritalStatus, PatientLanguage, PatientPopulationPercentageBelowPoverty, AdmissionID, LabName, LabValue, LabUnits, LabDateTime]\n",
      "Index: []\n"
     ]
    }
   ],
   "source": [
    "## my attempt at doing the same thing with your zoom function, but with a shorter date range...\n",
    "\n",
    "subdf_find = subdf.loc[(subdf['LabDateTime'] >= '1984-08-05') & (subdf['LabDateTime'] <= '1986-08-07')]\n",
    "\n",
    "print(subdf_find)"
   ]
  },
  {
   "cell_type": "code",
   "execution_count": 29,
   "metadata": {},
   "outputs": [
    {
     "name": "stdout",
     "output_type": "stream",
     "text": [
      "Empty DataFrame\n",
      "Columns: [PatientGender, PatientDateOfBirth, PatientRace, PatientMaritalStatus, PatientLanguage, PatientPopulationPercentageBelowPoverty, AdmissionID, LabName, LabValue, LabUnits, LabDateTime]\n",
      "Index: []\n"
     ]
    }
   ],
   "source": [
    "## my attempt at finding a known date on the labs\n",
    "\n",
    "subdf_find = subdf.loc[(subdf['LabDateTime'] == '1965-01-31')]\n",
    "\n",
    "print(subdf_find)"
   ]
  },
  {
   "cell_type": "code",
   "execution_count": null,
   "metadata": {},
   "outputs": [],
   "source": []
  }
 ],
 "metadata": {
  "kernelspec": {
   "display_name": "Python 3 (ipykernel)",
   "language": "python",
   "name": "python3"
  },
  "language_info": {
   "codemirror_mode": {
    "name": "ipython",
    "version": 3
   },
   "file_extension": ".py",
   "mimetype": "text/x-python",
   "name": "python",
   "nbconvert_exporter": "python",
   "pygments_lexer": "ipython3",
   "version": "3.11.5"
  }
 },
 "nbformat": 4,
 "nbformat_minor": 2
}
