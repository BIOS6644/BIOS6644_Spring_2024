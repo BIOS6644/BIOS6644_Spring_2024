{
 "cells": [
  {
   "cell_type": "code",
   "execution_count": null,
   "metadata": {},
   "outputs": [],
   "source": [
    "##########################################################################################\n",
    "#                                                                                        #\n",
    "#  888888b.  8888888 .d88888b.   .d8888b.     .d8888b.   .d8888b.      d8888      d8888  #\n",
    "#  888  \"88b   888  d88P\" \"Y88b d88P  Y88b   d88P  Y88b d88P  Y88b    d8P888     d8P888  #\n",
    "#  888  .88P   888  888     888 Y88b.        888        888          d8P 888    d8P 888  #\n",
    "#  8888888K.   888  888     888  \"Y888b.     888d888b.  888d888b.   d8P  888   d8P  888  #\n",
    "#  888  \"Y88b  888  888     888     \"Y88b.   888P \"Y88b 888P \"Y88b d88   888  d88   888  #\n",
    "#  888    888  888  888     888       \"888   888    888 888    888 8888888888 8888888888 #\n",
    "#  888   d88P  888  Y88b. .d88P Y88b  d88P   Y88b  d88P Y88b  d88P       888        888  #\n",
    "#  8888888P\" 8888888 \"Y88888P\"   \"Y8888P\"     \"Y8888P\"   \"Y8888P\"        888        888  #\n",
    "#                                                                                        # \n",
    "##########################################################################################\n",
    "#\n",
    "# Wrangle Synthetic Medical Record Data\n",
    "#\n",
    "##########################################################################################"
   ]
  },
  {
   "cell_type": "markdown",
   "metadata": {},
   "source": [
    "## Fetch data\n",
    "\n",
    "https://github.com/ishaghodgaonkar/emrbots/blob/master/100-Patients.zip\n",
    "\n",
    "unzip it into the Data folder"
   ]
  },
  {
   "cell_type": "code",
   "execution_count": null,
   "metadata": {},
   "outputs": [],
   "source": [
    "import pandas as pd\n",
    "import pylab as plt\n",
    "import numpy as np\n",
    "import datetime as dt"
   ]
  },
  {
   "cell_type": "code",
   "execution_count": null,
   "metadata": {},
   "outputs": [],
   "source": [
    "pwd"
   ]
  },
  {
   "cell_type": "code",
   "execution_count": null,
   "metadata": {},
   "outputs": [],
   "source": [
    "##################################################################################################################\n",
    "#\n",
    "# YouDo: Import each of the 4 files into its own data frame\n",
    "#         (Hint:  they're tab-separated)\n",
    "# 'C:\\\\Users\\\\austi\\\\Documents\\\\csph\\\\bios6644\\\\BIOS6644_Github\\\\BIOS6644_Spring_2024\\\\students\\\\austin_albino\\\\data'\n",
    "admiss_core = pd.read_csv(\"C:\\\\Users\\\\austi\\\\Documents\\\\csph\\\\bios6644\\\\BIOS6644_Github\\\\BIOS6644_Spring_2024\\\\students\\\\austin_albino\\\\data\\\\100-patients\\\\AdmissionsCorePopulatedTable.txt\",sep=\"\\t\",index_col=\"PatientID\")\n",
    "admiss_diag_core = pd.read_csv(\"C:\\\\Users\\\\austi\\\\Documents\\\\csph\\\\bios6644\\\\BIOS6644_Github\\\\BIOS6644_Spring_2024\\\\students\\\\austin_albino\\\\data\\\\100-patients\\\\AdmissionsDiagnosesCorePopulatedTable.txt\",sep=\"\\t\",index_col=\"PatientID\")\n",
    "patient_core = pd.read_csv(\"C:\\\\Users\\\\austi\\\\Documents\\\\csph\\\\bios6644\\\\BIOS6644_Github\\\\BIOS6644_Spring_2024\\\\students\\\\austin_albino\\\\data\\\\100-patients\\\\PatientCorePopulatedTable.txt\",sep=\"\\t\",index_col=\"PatientID\")\n",
    "labs_core = pd.read_csv(\"C:\\\\Users\\\\austi\\\\Documents\\\\csph\\\\bios6644\\\\BIOS6644_Github\\\\BIOS6644_Spring_2024\\\\students\\\\austin_albino\\\\data\\\\100-patients\\\\LabsCorePopulatedTable.txt\",sep=\"\\t\",index_col=\"PatientID\")"
   ]
  },
  {
   "cell_type": "markdown",
   "metadata": {},
   "source": [
    "\n"
   ]
  },
  {
   "cell_type": "code",
   "execution_count": null,
   "metadata": {},
   "outputs": [],
   "source": [
    "# 1) \n",
    "admiss_core, \n",
    "patient_core\n",
    "labs_core\n"
   ]
  },
  {
   "cell_type": "code",
   "execution_count": null,
   "metadata": {},
   "outputs": [],
   "source": [
    "# Dates!"
   ]
  },
  {
   "cell_type": "code",
   "execution_count": null,
   "metadata": {},
   "outputs": [],
   "source": [
    "##################################################################################################################\n",
    "#\n",
    "# YouDo: Notice that there are many columns with dates, but pandas assumed they're strings\n",
    "#\n",
    "#        1) use the pd.to_datetime() method to transform all of the time columns to have type datetime\n",
    "#            # stretch goal:  do it in a loop based on the string 'Date' appearing in the column name\n",
    "#\n",
    "# Show the type\n",
    "def convert_cols_to_datetime(df):\n",
    "    for col in df:\n",
    "        if \"date\" in col.lower() and type(df[col]) is not np.dtype('datetime64[ns]'):\n",
    "            df[col] = pd.to_datetime(df[col])\n",
    "  "
   ]
  },
  {
   "cell_type": "code",
   "execution_count": null,
   "metadata": {},
   "outputs": [],
   "source": [
    "\n",
    "# 1) \n",
    "convert_cols_to_datetime(admiss_core)\n",
    "convert_cols_to_datetime(admiss_diag_core)\n",
    "convert_cols_to_datetime(patient_core)\n",
    "convert_cols_to_datetime(labs_core)"
   ]
  },
  {
   "cell_type": "code",
   "execution_count": null,
   "metadata": {},
   "outputs": [],
   "source": [
    "dflist=[admiss_core,admiss_diag_core,patient_core,labs_core]\n",
    "for d in dflist:\n",
    "    convert_cols_to_datetime(d)"
   ]
  },
  {
   "cell_type": "code",
   "execution_count": null,
   "metadata": {},
   "outputs": [],
   "source": [
    "admiss_core.iloc[3]['AdmissionEndDate']-admiss_core.iloc[3]['AdmissionStartDate']"
   ]
  },
  {
   "cell_type": "code",
   "execution_count": null,
   "metadata": {},
   "outputs": [],
   "source": [
    "# As is typical in complex data sets, informtion about each patient is broken up into several different\n",
    "# tables, cross-referenced by a patient id\n",
    "##################################################################################################################\n",
    "#\n",
    "# YouDo: Print out the records from each of the four tables for patient number\n",
    "# 7A025E77-7832-4F53-B9A7-09A3F98AC17E\t\n",
    "ptnum='7A025E77-7832-4F53-B9A7-09A3F98AC17E'\n",
    "admiss_core.loc[admiss_core.index==ptnum]\n",
    "#admiss_core\n",
    "\n",
    "for df in dflist:\n",
    "    dfpt = df.loc[df.index == ptnum]\n",
    "    print(dfpt)"
   ]
  },
  {
   "cell_type": "code",
   "execution_count": null,
   "metadata": {},
   "outputs": [],
   "source": [
    "# SQL-like joins\n",
    "jdf =  patient_core.join(labs_core, how='left')\n"
   ]
  },
  {
   "cell_type": "code",
   "execution_count": null,
   "metadata": {},
   "outputs": [],
   "source": [
    "jdf.shape, patient_core.shape, labs_core.shape"
   ]
  },
  {
   "cell_type": "code",
   "execution_count": null,
   "metadata": {},
   "outputs": [],
   "source": [
    "# Holy cow!  this patient has lots of lab results in her record\n",
    "# This is synthetic data, so it's bound to have weird things.  Is that normal in this data?\n",
    "##################################################################################################################\n",
    "#\n",
    "# You do:\n",
    "#   1) Compute the average & standard deviation of number of labs per patient.\n",
    "#         hint:  Consider pd.groupby()\n",
    "#\n",
    "print(\"Stats on Number of Labs per Patient\")\n",
    "ptlev = jdf.groupby(jdf.index).size()\n",
    "print(f'The average number of Labs per Patient was {ptlev.mean()}, with a Standard Deviation of {ptlev.std()}.')\n",
    "#print(...)\n",
    "\n",
    "#   2) Compute a list of each lab and how many orders for that lab are in the data frame\n",
    "#    \n",
    "print('\\n')\n",
    "print(\"Number of each lab\")\n",
    "print(jdf.groupby(jdf.LabName).size())"
   ]
  },
  {
   "cell_type": "code",
   "execution_count": null,
   "metadata": {},
   "outputs": [],
   "source": [
    "# It seems that this data set has the same patient getting the same labs perhaps dozens of times.\n",
    "# Lets make a visualization of one of the time vs. one of the lab values for a specific patient.\n",
    "##################################################################################################################\n",
    "#\n",
    "# You do:\n",
    "#   1) Find the patient/lab combination with the most labs taken\n",
    "# pt_most_labs=ptlev[ptlev==max(ptlev)]\n",
    "\n",
    "print(f\"Patient with the most labs: {pt_most_labs.index[0]}\")\n",
    "\n",
    "#   2) For the most-measured patient/lab combination, make a time vs lab-value plot\n",
    "#    Hint:  you can \"group by\" multiple columns"
   ]
  },
  {
   "cell_type": "code",
   "execution_count": null,
   "metadata": {},
   "outputs": [],
   "source": [
    "ptlablev = jdf.groupby(['PatientID','LabName']).size()\n",
    "ptlablev.sort_values(ascending=False).index[0]\n"
   ]
  },
  {
   "cell_type": "code",
   "execution_count": null,
   "metadata": {},
   "outputs": [],
   "source": [
    "# 1) \n",
    "# jdf.groupby(['PatientID','LabName']).size().sort_values()\n"
   ]
  },
  {
   "cell_type": "code",
   "execution_count": null,
   "metadata": {},
   "outputs": [],
   "source": [
    "thebusypatient = '80D356B4-F974-441F-A5F2-F95986D119A2'\n",
    "thebusylab = 'CBC: HEMATOCRIT'\n",
    "subdf = jdf.loc[(jdf.index==thebusypatient) & (jdf.LabName.str.startswith(thebusylab))]"
   ]
  },
  {
   "cell_type": "code",
   "execution_count": 140,
   "metadata": {},
   "outputs": [
    {
     "name": "stdout",
     "output_type": "stream",
     "text": [
      "(88, 11)\n"
     ]
    }
   ],
   "source": [
    "print(subdf.shape)\n",
    "subdf.head(2)\n",
    "subdf.to_csv('c:\\\\temp\\\\medrecs.csv')"
   ]
  },
  {
   "cell_type": "code",
   "execution_count": 141,
   "metadata": {},
   "outputs": [
    {
     "data": {
      "text/plain": [
       "[<matplotlib.lines.Line2D at 0x25e01b6f610>]"
      ]
     },
     "execution_count": 141,
     "metadata": {},
     "output_type": "execute_result"
    },
    {
     "data": {
      "application/vnd.jupyter.widget-view+json": {
       "model_id": "76abaefc3ed443d6a1cf892b8e7a9457",
       "version_major": 2,
       "version_minor": 0
      },
      "image/png": "[encoded data removed]",
      "text/html": [
       "\n",
       "            <div style=\"display: inline-block;\">\n",
       "                <div class=\"jupyter-widgets widget-label\" style=\"text-align: center;\">\n",
       "                    Figure\n",
       "                </div>\n",
       "                <img src='data:image/png;base64,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' width=640.0/>\n",
       "            </div>\n",
       "        "
      ],
      "text/plain": [
       "Canvas(toolbar=Toolbar(toolitems=[('Home', 'Reset original view', 'home', 'home'), ('Back', 'Back to previous …"
      ]
     },
     "metadata": {},
     "output_type": "display_data"
    }
   ],
   "source": [
    "# 2) \n",
    "%matplotlib widget\n",
    "dts = subdf.LabDateTime\n",
    "vls = subdf.LabValue\n",
    "\n",
    "plt.figure()\n",
    "plt.plot(dts, vls, 'ro')"
   ]
  },
  {
   "cell_type": "markdown",
   "metadata": {},
   "source": [
    "##################################################################################################################\n",
    "#\n",
    "# You do:\n",
    "#   Closely inspect the plot you made.  \n",
    "#\n",
    "# 1) In order to compare this to another data set, your PI wants to know what the lab value was on August 6, 1985.  \n",
    "#    What would you tell him/her (including all caveats)?\n",
    "I would have to tell the PI that the patient had no CBC Hermatocrit tests at all in 1986. They had a value of 35.6 on 1984-06-10 and a value of 42.6 six years later in 1990, but that it strained reason to interpolate between such distant datapoints.\n",
    "\n",
    "# 2) How about the value for December 14, 1991?\n",
    "Here we can come a little closer to shedding light. Although the patient had no tests on that exact date, they did have a value of 50.4 the evening before, and 45.8 the next morning. Although I have no hematological expertise, those measurements might be near enough for triangulation."
   ]
  },
  {
   "cell_type": "code",
   "execution_count": null,
   "metadata": {},
   "outputs": [],
   "source": [
    "subdf[(subdf['LabDateTime']>'1985-01-01') & (subdf['LabDateTime']<'1991-01-01')]\n",
    "# subdf\n",
    "# mask = (df['date'] > start_date) & (df['date'] <= end_date)      "
   ]
  }
 ],
 "metadata": {
  "kernelspec": {
   "display_name": "Python 3 (ipykernel)",
   "language": "python",
   "name": "python3"
  },
  "language_info": {
   "codemirror_mode": {
    "name": "ipython",
    "version": 3
   },
   "file_extension": ".py",
   "mimetype": "text/x-python",
   "name": "python",
   "nbconvert_exporter": "python",
   "pygments_lexer": "ipython3",
   "version": "3.10.13"
  }
 },
 "nbformat": 4,
 "nbformat_minor": 4
}
