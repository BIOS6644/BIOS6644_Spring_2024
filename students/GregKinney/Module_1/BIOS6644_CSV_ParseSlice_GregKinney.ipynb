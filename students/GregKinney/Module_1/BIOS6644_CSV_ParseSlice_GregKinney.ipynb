{
 "cells": [
  {
   "cell_type": "code",
   "execution_count": null,
   "metadata": {},
   "outputs": [],
   "source": [
    "##########################################################################################\n",
    "#                                                                                        #\n",
    "#  888888b.  8888888 .d88888b.   .d8888b.     .d8888b.   .d8888b.      d8888      d8888  #\n",
    "#  888  \"88b   888  d88P\" \"Y88b d88P  Y88b   d88P  Y88b d88P  Y88b    d8P888     d8P888  #\n",
    "#  888  .88P   888  888     888 Y88b.        888        888          d8P 888    d8P 888  #\n",
    "#  8888888K.   888  888     888  \"Y888b.     888d888b.  888d888b.   d8P  888   d8P  888  #\n",
    "#  888  \"Y88b  888  888     888     \"Y88b.   888P \"Y88b 888P \"Y88b d88   888  d88   888  #\n",
    "#  888    888  888  888     888       \"888   888    888 888    888 8888888888 8888888888 #\n",
    "#  888   d88P  888  Y88b. .d88P Y88b  d88P   Y88b  d88P Y88b  d88P       888        888  #\n",
    "#  8888888P\" 8888888 \"Y88888P\"   \"Y8888P\"     \"Y8888P\"   \"Y8888P\"        888        888  #\n",
    "#                                                                                        # \n",
    "##########################################################################################\n",
    "#\n",
    "# Wrangling Footballer Names Data\n",
    "#\n",
    "##########################################################################################"
   ]
  },
  {
   "cell_type": "code",
   "execution_count": null,
   "metadata": {
    "collapsed": true,
    "jupyter": {
     "outputs_hidden": true
    }
   },
   "outputs": [],
   "source": [
    "##################################################################################################################\n",
    "#\n",
    "# YouDo:\n",
    "#    1) Make a copy of this notebook with your name as a suffix:  \n",
    "#       BIOS6644_Fottballer_FirstLast.ipynb\n",
    "#    2) Do all work in this new notebook.\n",
    "#    3) Submit completed work via GitHub push\n",
    "#\n",
    "##################################################################################################################\n"
   ]
  },
  {
   "cell_type": "markdown",
   "metadata": {},
   "source": [
    "# Python used in this exercise\n",
    "- File Input/Output\n",
    "- for loop\n",
    "- list\n",
    "    - list methods: \n",
    "        - join()\n",
    "    - list comprehension\n",
    "- string\n",
    "    - string methods\n",
    "        - split()\n",
    "        - strip()\n",
    "        - slice "
   ]
  },
  {
   "cell_type": "code",
   "execution_count": 21,
   "metadata": {},
   "outputs": [
    {
     "name": "stdout",
     "output_type": "stream",
     "text": [
      "The current thing is:  1\n",
      "The current thing is:  2\n",
      "The current thing is:  A\n",
      "The current thing is:  B\n",
      "The current thing is:  9.4\n",
      "The current thing is:  {1, 2}\n"
     ]
    }
   ],
   "source": [
    "# Python stuff used here:\n",
    "\n",
    "\n",
    "the_things = [1, 2, 'A', \"B\", 9.4, set([1,2])]\n",
    "\n",
    "# for loops repeat code once for each thing in the_things\n",
    "for this_thing in the_things:\n",
    "    print('The current thing is: ', this_thing)\n"
   ]
  },
  {
   "cell_type": "code",
   "execution_count": 1,
   "metadata": {},
   "outputs": [
    {
     "name": "stdout",
     "output_type": "stream",
     "text": [
      "Hello.  My name is Inigo Montoya. You killed my brother.  Prepare to die\n"
     ]
    },
    {
     "data": {
      "text/plain": [
       "['Hello',\n",
       " '  My name is Inigo Montoya',\n",
       " ' You killed my brother',\n",
       " '  Prepare to die']"
      ]
     },
     "execution_count": 1,
     "metadata": {},
     "output_type": "execute_result"
    }
   ],
   "source": [
    "# Strings can be \"split\" into a list, on a boundary marker which you provide\n",
    "string2split = '''Hello.  My name is Inigo Montoya. You killed my brother.  Prepare to die'''\n",
    "print(string2split)\n",
    "\n",
    "# split on \".\" \n",
    "# Note that a list of strings is returned.\n",
    "# and that the split boundary character is removed.\n",
    "string2split.split(\".\")\n",
    "\n"
   ]
  },
  {
   "cell_type": "code",
   "execution_count": 35,
   "metadata": {},
   "outputs": [
    {
     "name": "stdout",
     "output_type": "stream",
     "text": [
      "Hello\n",
      "Hello\n",
      "Hello.\n",
      "  My name is Inigo Montoya\n",
      "My name is Inigo Montoya\n",
      "My name is Inigo Montoya.\n",
      " You killed my brother\n",
      "You killed my brother\n",
      "You killed my father.\n",
      "  Prepare to die\n",
      "Prepare to die\n",
      "Prepare to die.\n"
     ]
    }
   ],
   "source": [
    "# Mini wrangle goals:\n",
    "#  1) remove stray space characters\n",
    "#  2) Correct \"brother\" to be \"father\"\n",
    "#  3) Write as 4 sentences, returning the \".\" characters\n",
    "\n",
    "for chunk in string2split.split(\".\"):   #chunk is the varaible name for the stuff that results from the split on '.'\n",
    "    print(chunk)                        #so it will print whatever the string is that was split minus the split on character\n",
    "    chunk=chunk.strip()                 #then it will remove leading and trailing spaces\n",
    "    print(chunk) # strip removes whitespace from the ends            #and now print minus the whitespaces\n",
    "\n",
    "    chunk = chunk.replace('brother', 'father')                        #now for whatever chunk were're workign on, replace the split character\n",
    "    print(chunk+'.')                                                   #and print the results\n",
    "    "
   ]
  },
  {
   "cell_type": "code",
   "execution_count": 36,
   "metadata": {},
   "outputs": [
    {
     "name": "stdout",
     "output_type": "stream",
     "text": [
      "Hello.\n",
      "My name is Inigo Montoya.\n",
      "You killed my father.\n",
      "Prepare to die.\n"
     ]
    }
   ],
   "source": [
    "for chunk in string2split.split(\".\"):\n",
    "    chunk=chunk.strip()\n",
    "\n",
    "    chunk = chunk.replace('brother', 'father')               #clean up the missquote\n",
    "    print(chunk+'.')"
   ]
  },
  {
   "cell_type": "code",
   "execution_count": 42,
   "metadata": {},
   "outputs": [
    {
     "name": "stdout",
     "output_type": "stream",
     "text": [
      "['Hello', 'My name is Inigo Montoya', 'You killed my father', 'Prepare to die']\n",
      "Hello.\n",
      "My name is Inigo Montoya.\n",
      "You killed my father.\n",
      "Prepare to die\n"
     ]
    }
   ],
   "source": [
    "#A different approach using a for-loop shortcut called\n",
    "#    a List Comprehension\n",
    "output = [xx.strip().replace(\"brother\", \"father\") for xx in string2split.split(\".\")]\n",
    "print(output)\n",
    "\n",
    "print('.\\n'.join(output))\n"
   ]
  },
  {
   "cell_type": "code",
   "execution_count": 44,
   "metadata": {},
   "outputs": [
    {
     "name": "stdout",
     "output_type": "stream",
     "text": [
      "Hello.\n",
      "My name is Inigo Montoya.\n",
      "You killed my father.\n",
      "Prepare to die\n"
     ]
    }
   ],
   "source": [
    "# as a 1-liner\n",
    "print('.\\n'.join([xx.strip().replace(\"brother\", \"father\") for xx in string2split.split(\".\")]))\n"
   ]
  },
  {
   "cell_type": "markdown",
   "metadata": {},
   "source": [
    "# Wrangling Footballer Birthdays\n"
   ]
  },
  {
   "cell_type": "code",
   "execution_count": null,
   "metadata": {},
   "outputs": [],
   "source": []
  },
  {
   "cell_type": "code",
   "execution_count": null,
   "metadata": {},
   "outputs": [],
   "source": []
  },
  {
   "cell_type": "code",
   "execution_count": 6,
   "metadata": {},
   "outputs": [],
   "source": [
    "# Goal: extract footballer's dates of birth \n",
    "#  \n",
    "#\n",
    "# General info & data here:\n",
    "#   https://www.kaggle.com/datasets/maso0dahmed/football-players-data\n",
    "#\n",
    "# I unzipped mine put it in the data folder\n",
    "#data = '../data/fifa_players.csv'\n",
    "data = 'D:/Working/BIOS6644/data/fifa_playersUTF8.csv'   #now the footballers are in the variable 'data'\n"
   ]
  },
  {
   "cell_type": "code",
   "execution_count": 11,
   "metadata": {},
   "outputs": [],
   "source": [
    "#read data\n",
    "with open(data,'r',encoding='utf-8') as thefile:       #without the 'encoding='utf-8' option this generates a charmap codec cant decode because of special characters\n",
    "    lines = thefile.readlines()"
   ]
  },
  {
   "cell_type": "markdown",
   "metadata": {},
   "source": []
  },
  {
   "cell_type": "code",
   "execution_count": 16,
   "metadata": {},
   "outputs": [
    {
     "name": "stdout",
     "output_type": "stream",
     "text": [
      "﻿name,full_name,birth_date,age,height_cm,weight_kgs,positions,nationality,overall_rating,potential,value_euro,wage_euro,preferred_foot,international_reputation(1-5),weak_foot(1-5),skill_moves(1-5),body_type,release_clause_euro,national_team,national_rating,national_team_position,national_jersey_number,crossing,finishing,heading_accuracy,short_passing,volleys,dribbling,curve,freekick_accuracy,long_passing,ball_control,acceleration,sprint_speed,agility,reactions,balance,shot_power,jumping,stamina,strength,long_shots,aggression,interceptions,positioning,vision,penalties,composure,marking,standing_tackle,sliding_tackle\n",
      " Kepa,Kepa Arrizabalaga,10/3/1994,24,185.42,84.8,GK,Spain,84,90,31000000,92000,Right,1,4,1,Lean,63600000,Spain,85,SUB,13,25,11,17,32,18,10,25,19,36,16,34,33,41,79,39,25,71,37,51,14,18,21,15,55,24,63,19,18,16\n",
      "\n"
     ]
    }
   ],
   "source": [
    "testnum = 33                               #this is naming the row at position 33 as 'testnum'\n",
    "test_line = lines[testnum]\n",
    "header = lines[0]\n",
    "print(header, test_line)"
   ]
  },
  {
   "cell_type": "code",
   "execution_count": 17,
   "metadata": {},
   "outputs": [
    {
     "name": "stdout",
     "output_type": "stream",
     "text": [
      "['Kepa', 'Kepa Arrizabalaga', '10/3/1994', '24', '185.42', '84.8', 'GK', 'Spain', '84', '90', '31000000', '92000', 'Right', '1', '4', '1', 'Lean', '63600000', 'Spain', '85', 'SUB', '13', '25', '11', '17', '32', '18', '10', '25', '19', '36', '16', '34', '33', '41', '79', '39', '25', '71', '37', '51', '14', '18', '21', '15', '55', '24', '63', '19', '18', '16\\n']\n"
     ]
    }
   ],
   "source": [
    "# Notice that the player DOBN is in the 3rd field (field 2)\n",
    "# The string split(',') method divides a string into a list of strings, \n",
    "# breaking on commas. \n",
    "print(test_line.split(','))"
   ]
  },
  {
   "cell_type": "code",
   "execution_count": 18,
   "metadata": {},
   "outputs": [
    {
     "data": {
      "text/plain": [
       "'10/3/1994'"
      ]
     },
     "execution_count": 18,
     "metadata": {},
     "output_type": "execute_result"
    }
   ],
   "source": [
    "test_line.split(',')[2]  # split and grab position-2 entry   - still using the testnum from cell 16"
   ]
  },
  {
   "cell_type": "code",
   "execution_count": 19,
   "metadata": {},
   "outputs": [
    {
     "data": {
      "text/plain": [
       "['10', '3', '1994']"
      ]
     },
     "execution_count": 19,
     "metadata": {},
     "output_type": "execute_result"
    }
   ],
   "source": [
    "# Split the name up into a list\n",
    "test_line.split(',')[2].split('/')                #splitting on , gets the birth date from position 2, then spliting on /"
   ]
  },
  {
   "cell_type": "code",
   "execution_count": 20,
   "metadata": {},
   "outputs": [
    {
     "name": "stdout",
     "output_type": "stream",
     "text": [
      "['10', '3', '1994']\n"
     ]
    }
   ],
   "source": [
    "# split the date of birth into different fields\n",
    "dob_list = test_line.split(',')[2].split('/')\n",
    "print(dob_list)"
   ]
  },
  {
   "cell_type": "code",
   "execution_count": 22,
   "metadata": {},
   "outputs": [
    {
     "name": "stdout",
     "output_type": "stream",
     "text": [
      "\n",
      "Birthday for element 33:\n",
      "    Day:   3                                      \n",
      "    Month: 10\n",
      "    Year:  1994\n",
      "      \n"
     ]
    }
   ],
   "source": [
    "# Set each member of the list to a meaningful name\n",
    "dob_list = test_line.split(',')[2].split('/')\n",
    "month = dob_list[0]                                    #[] is the popsitino of the object in the list\n",
    "day = dob_list[1]\n",
    "year = dob_list[2]\n",
    "\n",
    "#apparently you cant put a comment into a print statement, {} is the variable name from above\n",
    "# three ''' so the printout can cross lines\n",
    "print(f'''\n",
    "Birthday for element {testnum}:\n",
    "    Day:   {day}                                      \n",
    "    Month: {month}\n",
    "    Year:  {year}\n",
    "      ''')"
   ]
  },
  {
   "cell_type": "code",
   "execution_count": null,
   "metadata": {},
   "outputs": [],
   "source": [
    "# print dob as a csv - now we're printing 17k observations to see whethher it actually worked \n",
    "for theplayer in lines:\n",
    "    dob_list = theplayer.split(',')[2].split('/')\n",
    "    print(','.join(dob_list))\n",
    "\n",
    "# notice top line says \"birth_date\".  Skip that one!"
   ]
  },
  {
   "cell_type": "code",
   "execution_count": null,
   "metadata": {},
   "outputs": [],
   "source": [
    "# print dob as a csv\n",
    "\n",
    "# print a new header row                         I'm not sure what print(','.join is doing, why the quoted comma?\n",
    "print(','.join(['month','day','year']))\n",
    "for theplayer in lines[1:]:                      # skip the first (header) row with a slice\n",
    "    dob_list = theplayer.split(',')[2].split('/')\n",
    "    print(','.join(dob_list))"
   ]
  },
  {
   "cell_type": "code",
   "execution_count": 66,
   "metadata": {},
   "outputs": [],
   "source": [
    "# write csv to file for use in other tools\n",
    "\n",
    "with open('../data/Fifa_DoBs.csv','w') as outfile:\n",
    "    outfile.write(','.join(['day','month','year'])+'\\n')\n",
    "    \n",
    "    for theplayer in lines[1:]:  # skip the first (header) row with a slice\n",
    "        dob_list = theplayer.split(',')[2].split('/')\n",
    "        outfile.write(','.join(dob_list)+'\\n')"
   ]
  },
  {
   "cell_type": "code",
   "execution_count": 24,
   "metadata": {},
   "outputs": [
    {
     "data": {
      "text/plain": [
       "['month,day,year\\n',\n",
       " '6,24,1987\\n',\n",
       " '2,14,1992\\n',\n",
       " '3,15,1993\\n',\n",
       " '6,4,1991\\n',\n",
       " '6,20,1991\\n',\n",
       " '7,8,1991\\n',\n",
       " '12,20,1998\\n',\n",
       " '6,2,1988\\n',\n",
       " '3,27,1986\\n',\n",
       " '2,14,1987\\n',\n",
       " '7,16,1988\\n',\n",
       " '5,11,1992\\n',\n",
       " '4,30,1992\\n',\n",
       " '3,21,1991\\n']"
      ]
     },
     "execution_count": 24,
     "metadata": {},
     "output_type": "execute_result"
    }
   ],
   "source": [
    "# Alternate way using a list and writelines\n",
    "# 1. Add each row as an element in a list\n",
    "# 2. Write entire list in one operation\n",
    "\n",
    "outlist = []\n",
    "# print a new header row\n",
    "outlist.append(','.join(['month','day','year'])+'\\n')\n",
    "for theplayer in lines[1:]:  # skip the first (header) row with a slice\n",
    "    dob_list = theplayer.split(',')[2].split('/')\n",
    "    outlist.append(','.join(dob_list)+'\\n')\n",
    "\n",
    "outlist[0:15]\n"
   ]
  },
  {
   "cell_type": "code",
   "execution_count": 25,
   "metadata": {},
   "outputs": [],
   "source": [
    "#with open('../data/Fifa_DoBs.csv','w') as outfile:\n",
    "with open('d:/Working/BIOS6644/data/Fifa_DoBs.csv','w') as outfile:\n",
    "    outfile.writelines(outlist)"
   ]
  },
  {
   "cell_type": "code",
   "execution_count": 26,
   "metadata": {},
   "outputs": [
    {
     "data": {
      "text/plain": [
       "\u001b[1;31mSignature:\u001b[0m \u001b[0moutfile\u001b[0m\u001b[1;33m.\u001b[0m\u001b[0mwritelines\u001b[0m\u001b[1;33m(\u001b[0m\u001b[0mlines\u001b[0m\u001b[1;33m,\u001b[0m \u001b[1;33m/\u001b[0m\u001b[1;33m)\u001b[0m\u001b[1;33m\u001b[0m\u001b[1;33m\u001b[0m\u001b[0m\n",
       "\u001b[1;31mDocstring:\u001b[0m\n",
       "Write a list of lines to stream.\n",
       "\n",
       "Line separators are not added, so it is usual for each of the\n",
       "lines provided to have a line separator at the end.\n",
       "\u001b[1;31mType:\u001b[0m      builtin_function_or_method\n"
      ]
     },
     "metadata": {},
     "output_type": "display_data"
    }
   ],
   "source": [
    "# Getting help\n",
    "outfile.writelines?"
   ]
  },
  {
   "cell_type": "code",
   "execution_count": 28,
   "metadata": {},
   "outputs": [
    {
     "data": {
      "text/html": [
       "<div>\n",
       "<style scoped>\n",
       "    .dataframe tbody tr th:only-of-type {\n",
       "        vertical-align: middle;\n",
       "    }\n",
       "\n",
       "    .dataframe tbody tr th {\n",
       "        vertical-align: top;\n",
       "    }\n",
       "\n",
       "    .dataframe thead th {\n",
       "        text-align: right;\n",
       "    }\n",
       "</style>\n",
       "<table border=\"1\" class=\"dataframe\">\n",
       "  <thead>\n",
       "    <tr style=\"text-align: right;\">\n",
       "      <th></th>\n",
       "      <th>month</th>\n",
       "      <th>day</th>\n",
       "      <th>year</th>\n",
       "    </tr>\n",
       "  </thead>\n",
       "  <tbody>\n",
       "    <tr>\n",
       "      <th>0</th>\n",
       "      <td>6</td>\n",
       "      <td>24</td>\n",
       "      <td>1987</td>\n",
       "    </tr>\n",
       "    <tr>\n",
       "      <th>1</th>\n",
       "      <td>2</td>\n",
       "      <td>14</td>\n",
       "      <td>1992</td>\n",
       "    </tr>\n",
       "    <tr>\n",
       "      <th>2</th>\n",
       "      <td>3</td>\n",
       "      <td>15</td>\n",
       "      <td>1993</td>\n",
       "    </tr>\n",
       "    <tr>\n",
       "      <th>3</th>\n",
       "      <td>6</td>\n",
       "      <td>4</td>\n",
       "      <td>1991</td>\n",
       "    </tr>\n",
       "    <tr>\n",
       "      <th>4</th>\n",
       "      <td>6</td>\n",
       "      <td>20</td>\n",
       "      <td>1991</td>\n",
       "    </tr>\n",
       "    <tr>\n",
       "      <th>...</th>\n",
       "      <td>...</td>\n",
       "      <td>...</td>\n",
       "      <td>...</td>\n",
       "    </tr>\n",
       "    <tr>\n",
       "      <th>17949</th>\n",
       "      <td>10</td>\n",
       "      <td>7</td>\n",
       "      <td>1993</td>\n",
       "    </tr>\n",
       "    <tr>\n",
       "      <th>17950</th>\n",
       "      <td>2</td>\n",
       "      <td>2</td>\n",
       "      <td>1996</td>\n",
       "    </tr>\n",
       "    <tr>\n",
       "      <th>17951</th>\n",
       "      <td>4</td>\n",
       "      <td>9</td>\n",
       "      <td>1996</td>\n",
       "    </tr>\n",
       "    <tr>\n",
       "      <th>17952</th>\n",
       "      <td>6</td>\n",
       "      <td>19</td>\n",
       "      <td>1997</td>\n",
       "    </tr>\n",
       "    <tr>\n",
       "      <th>17953</th>\n",
       "      <td>5</td>\n",
       "      <td>15</td>\n",
       "      <td>1999</td>\n",
       "    </tr>\n",
       "  </tbody>\n",
       "</table>\n",
       "<p>17954 rows × 3 columns</p>\n",
       "</div>"
      ],
      "text/plain": [
       "       month  day  year\n",
       "0          6   24  1987\n",
       "1          2   14  1992\n",
       "2          3   15  1993\n",
       "3          6    4  1991\n",
       "4          6   20  1991\n",
       "...      ...  ...   ...\n",
       "17949     10    7  1993\n",
       "17950      2    2  1996\n",
       "17951      4    9  1996\n",
       "17952      6   19  1997\n",
       "17953      5   15  1999\n",
       "\n",
       "[17954 rows x 3 columns]"
      ]
     },
     "execution_count": 28,
     "metadata": {},
     "output_type": "execute_result"
    }
   ],
   "source": [
    "# Stretch: Make a histogram of player birth months\n",
    "\n",
    "import pandas as pd\n",
    "#df = pd.read_csv('../data/Fifa_DoBs.csv')\n",
    "df = pd.read_csv('d:/Working/BIOS6644/data/Fifa_DoBs.csv')\n",
    "df"
   ]
  },
  {
   "cell_type": "code",
   "execution_count": 29,
   "metadata": {},
   "outputs": [
    {
     "data": {
      "text/plain": [
       "array([[<Axes: title={'center': 'month'}>]], dtype=object)"
      ]
     },
     "execution_count": 29,
     "metadata": {},
     "output_type": "execute_result"
    },
    {
     "data": {
      "image/png": "[encoded data removed]",
      "text/plain": [
       "<Figure size 640x480 with 1 Axes>"
      ]
     },
     "metadata": {},
     "output_type": "display_data"
    }
   ],
   "source": [
    "df.hist('month')"
   ]
  },
  {
   "cell_type": "code",
   "execution_count": 83,
   "metadata": {},
   "outputs": [],
   "source": [
    "# Weird!  Is that real?  What is happeneing?\n",
    "\n"
   ]
  },
  {
   "cell_type": "code",
   "execution_count": 31,
   "metadata": {},
   "outputs": [
    {
     "data": {
      "text/html": [
       "<div>\n",
       "<style scoped>\n",
       "    .dataframe tbody tr th:only-of-type {\n",
       "        vertical-align: middle;\n",
       "    }\n",
       "\n",
       "    .dataframe tbody tr th {\n",
       "        vertical-align: top;\n",
       "    }\n",
       "\n",
       "    .dataframe thead th {\n",
       "        text-align: right;\n",
       "    }\n",
       "</style>\n",
       "<table border=\"1\" class=\"dataframe\">\n",
       "  <thead>\n",
       "    <tr style=\"text-align: right;\">\n",
       "      <th></th>\n",
       "      <th>name</th>\n",
       "      <th>full_name</th>\n",
       "      <th>birth_date</th>\n",
       "      <th>age</th>\n",
       "      <th>height_cm</th>\n",
       "      <th>weight_kgs</th>\n",
       "      <th>positions</th>\n",
       "      <th>nationality</th>\n",
       "      <th>overall_rating</th>\n",
       "      <th>potential</th>\n",
       "      <th>...</th>\n",
       "      <th>long_shots</th>\n",
       "      <th>aggression</th>\n",
       "      <th>interceptions</th>\n",
       "      <th>positioning</th>\n",
       "      <th>vision</th>\n",
       "      <th>penalties</th>\n",
       "      <th>composure</th>\n",
       "      <th>marking</th>\n",
       "      <th>standing_tackle</th>\n",
       "      <th>sliding_tackle</th>\n",
       "    </tr>\n",
       "  </thead>\n",
       "  <tbody>\n",
       "    <tr>\n",
       "      <th>14642</th>\n",
       "      <td>T. Clarke</td>\n",
       "      <td>Tom Clarke</td>\n",
       "      <td>12/21/1987</td>\n",
       "      <td>31</td>\n",
       "      <td>154.94</td>\n",
       "      <td>77.1</td>\n",
       "      <td>CB,RB</td>\n",
       "      <td>England</td>\n",
       "      <td>71</td>\n",
       "      <td>71</td>\n",
       "      <td>...</td>\n",
       "      <td>27</td>\n",
       "      <td>85</td>\n",
       "      <td>70</td>\n",
       "      <td>29</td>\n",
       "      <td>34</td>\n",
       "      <td>16</td>\n",
       "      <td>57</td>\n",
       "      <td>74</td>\n",
       "      <td>71</td>\n",
       "      <td>68</td>\n",
       "    </tr>\n",
       "  </tbody>\n",
       "</table>\n",
       "<p>1 rows × 51 columns</p>\n",
       "</div>"
      ],
      "text/plain": [
       "            name   full_name  birth_date  age  height_cm  weight_kgs  \\\n",
       "14642  T. Clarke  Tom Clarke  12/21/1987   31     154.94        77.1   \n",
       "\n",
       "      positions nationality  overall_rating  potential  ...  long_shots  \\\n",
       "14642     CB,RB     England              71         71  ...          27   \n",
       "\n",
       "       aggression interceptions  positioning  vision  penalties composure  \\\n",
       "14642          85            70           29      34         16        57   \n",
       "\n",
       "       marking standing_tackle  sliding_tackle  \n",
       "14642       74              71              68  \n",
       "\n",
       "[1 rows x 51 columns]"
      ]
     },
     "execution_count": 31,
     "metadata": {},
     "output_type": "execute_result"
    }
   ],
   "source": [
    "# From my daughter\n",
    "# My friend's dad is a professional footballer.  Is he in there?  His name is Tom Clarke\n",
    "\n",
    "df2 = pd.read_csv('d:/Working/BIOS6644/data/fifa_players.csv')\n",
    "df2.iloc[[\"Tom Clarke\" in xx for xx in df2.full_name]]"
   ]
  },
  {
   "cell_type": "code",
   "execution_count": 97,
   "metadata": {},
   "outputs": [
    {
     "data": {
      "text/plain": [
       "name                              T. Clarke\n",
       "full_name                        Tom Clarke\n",
       "birth_date                       12/21/1987\n",
       "age                                      31\n",
       "height_cm                            154.94\n",
       "weight_kgs                             77.1\n",
       "positions                             CB,RB\n",
       "nationality                         England\n",
       "overall_rating                           71\n",
       "potential                                71\n",
       "value_euro                        1800000.0\n",
       "wage_euro                            9000.0\n",
       "preferred_foot                        Right\n",
       "international_reputation(1-5)             1\n",
       "weak_foot(1-5)                            3\n",
       "skill_moves(1-5)                          2\n",
       "body_type                            Normal\n",
       "release_clause_euro               3300000.0\n",
       "national_team                           NaN\n",
       "national_rating                         NaN\n",
       "national_team_position                  NaN\n",
       "national_jersey_number                  NaN\n",
       "crossing                                 40\n",
       "finishing                                21\n",
       "heading_accuracy                         68\n",
       "short_passing                            42\n",
       "volleys                                  35\n",
       "dribbling                                26\n",
       "curve                                    25\n",
       "freekick_accuracy                        21\n",
       "long_passing                             41\n",
       "ball_control                             44\n",
       "acceleration                             50\n",
       "sprint_speed                             57\n",
       "agility                                  60\n",
       "reactions                                63\n",
       "balance                                  67\n",
       "shot_power                               55\n",
       "jumping                                  91\n",
       "stamina                                  66\n",
       "strength                                 80\n",
       "long_shots                               27\n",
       "aggression                               85\n",
       "interceptions                            70\n",
       "positioning                              29\n",
       "vision                                   34\n",
       "penalties                                16\n",
       "composure                                57\n",
       "marking                                  74\n",
       "standing_tackle                          71\n",
       "sliding_tackle                           68\n",
       "Name: 14642, dtype: object"
      ]
     },
     "execution_count": 97,
     "metadata": {},
     "output_type": "execute_result"
    }
   ],
   "source": [
    "df2.loc[14642]"
   ]
  },
  {
   "cell_type": "code",
   "execution_count": null,
   "metadata": {},
   "outputs": [],
   "source": []
  },
  {
   "cell_type": "code",
   "execution_count": null,
   "metadata": {},
   "outputs": [],
   "source": []
  }
 ],
 "metadata": {
  "kernelspec": {
   "display_name": "Python 3 (ipykernel)",
   "language": "python",
   "name": "python3"
  },
  "language_info": {
   "codemirror_mode": {
    "name": "ipython",
    "version": 3
   },
   "file_extension": ".py",
   "mimetype": "text/x-python",
   "name": "python",
   "nbconvert_exporter": "python",
   "pygments_lexer": "ipython3",
   "version": "3.9.18"
  }
 },
 "nbformat": 4,
 "nbformat_minor": 4
}
