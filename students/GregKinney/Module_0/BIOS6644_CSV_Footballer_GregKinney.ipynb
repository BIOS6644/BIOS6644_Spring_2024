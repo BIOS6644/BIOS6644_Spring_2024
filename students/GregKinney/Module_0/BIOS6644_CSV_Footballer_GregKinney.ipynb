{
 "cells": [
  {
   "cell_type": "code",
   "execution_count": null,
   "metadata": {
    "collapsed": true,
    "jupyter": {
     "outputs_hidden": true
    }
   },
   "outputs": [],
   "source": [
    "##########################################################################################\n",
    "#                                                                                        #\n",
    "#  888888b.  8888888 .d88888b.   .d8888b.     .d8888b.   .d8888b.      d8888      d8888  #\n",
    "#  888  \"88b   888  d88P\" \"Y88b d88P  Y88b   d88P  Y88b d88P  Y88b    d8P888     d8P888  #\n",
    "#  888  .88P   888  888     888 Y88b.        888        888          d8P 888    d8P 888  #\n",
    "#  8888888K.   888  888     888  \"Y888b.     888d888b.  888d888b.   d8P  888   d8P  888  #\n",
    "#  888  \"Y88b  888  888     888     \"Y88b.   888P \"Y88b 888P \"Y88b d88   888  d88   888  #\n",
    "#  888    888  888  888     888       \"888   888    888 888    888 8888888888 8888888888 #\n",
    "#  888   d88P  888  Y88b. .d88P Y88b  d88P   Y88b  d88P Y88b  d88P       888        888  #\n",
    "#  8888888P\" 8888888 \"Y88888P\"   \"Y8888P\"     \"Y8888P\"   \"Y8888P\"        888        888  #\n",
    "#                                                                                        # \n",
    "##########################################################################################\n",
    "#\n",
    "# Wrangling Footballer Names Data\n",
    "#\n",
    "##########################################################################################"
   ]
  },
  {
   "cell_type": "code",
   "execution_count": null,
   "metadata": {
    "collapsed": true,
    "jupyter": {
     "outputs_hidden": true
    }
   },
   "outputs": [],
   "source": [
    "##################################################################################################################\n",
    "#\n",
    "# YouDo:\n",
    "#    1) Make a copy of this notebook with your name as a suffix:  \n",
    "#       BIOS6644_Fottballer_FirstLast.ipynb\n",
    "#    2) Do all work in this new notebook.\n",
    "#    3) Submit completed work via GitHub push\n",
    "#\n",
    "##################################################################################################################\n"
   ]
  },
  {
   "cell_type": "markdown",
   "metadata": {},
   "source": [
    "# Python used in this exercise\n",
    "- File Input/Output\n",
    "- for loop\n",
    "- list\n",
    "    - list methods: \n",
    "        - join()\n",
    "    - list comprehension\n",
    "- string\n",
    "    - string methods\n",
    "        - split()\n",
    "        - strip()\n",
    "        - slice "
   ]
  },
  {
   "cell_type": "code",
   "execution_count": 1,
   "metadata": {},
   "outputs": [
    {
     "name": "stdout",
     "output_type": "stream",
     "text": [
      "The current thing is:  1\n",
      "The current thing is:  2\n",
      "The current thing is:  A\n",
      "The current thing is:  B\n",
      "The current thing is:  9.4\n",
      "The current thing is:  {1, 2}\n"
     ]
    }
   ],
   "source": [
    "# Python stuff used here:\n",
    "\n",
    "\n",
    "the_things = [1, 2, 'A', \"B\", 9.4, set([1,2])]\n",
    "\n",
    "# for loops repeat code once for each thing in the_things\n",
    "for this_thing in the_things:\n",
    "    print('The current thing is: ', this_thing)\n"
   ]
  },
  {
   "cell_type": "code",
   "execution_count": 23,
   "metadata": {},
   "outputs": [
    {
     "name": "stdout",
     "output_type": "stream",
     "text": [
      "Hello.  My name is Inigo Montoya. You killed my brother.  Prepare to die\n"
     ]
    },
    {
     "data": {
      "text/plain": [
       "['Hello',\n",
       " '  My name is Inigo Montoya',\n",
       " ' You killed my brother',\n",
       " '  Prepare to die']"
      ]
     },
     "execution_count": 23,
     "metadata": {},
     "output_type": "execute_result"
    }
   ],
   "source": [
    "# Strings can be \"split\" into a list, on a boundary marker which you provide\n",
    "string2split = '''Hello.  My name is Inigo Montoya. You killed my brother.  Prepare to die'''\n",
    "print(string2split)\n",
    "\n",
    "# split on \".\" \n",
    "# Note that a list of strings is returned.\n",
    "# and that the split boundary character is removed.\n",
    "string2split.split(\".\")\n",
    "\n"
   ]
  },
  {
   "cell_type": "code",
   "execution_count": 35,
   "metadata": {},
   "outputs": [
    {
     "name": "stdout",
     "output_type": "stream",
     "text": [
      "Hello\n",
      "Hello\n",
      "Hello.\n",
      "  My name is Inigo Montoya\n",
      "My name is Inigo Montoya\n",
      "My name is Inigo Montoya.\n",
      " You killed my brother\n",
      "You killed my brother\n",
      "You killed my father.\n",
      "  Prepare to die\n",
      "Prepare to die\n",
      "Prepare to die.\n"
     ]
    }
   ],
   "source": [
    "# Mini wrangle goals:\n",
    "#  1) remove stray space characters\n",
    "#  2) Correct \"brother\" to be \"father\"\n",
    "#  3) Write as 4 sentences, returning the \".\" characters\n",
    "\n",
    "for chunk in string2split.split(\".\"):\n",
    "    print(chunk)\n",
    "    chunk=chunk.strip()\n",
    "    print(chunk) # strip removes whitespace from the ends\n",
    "\n",
    "    chunk = chunk.replace('brother', 'father')\n",
    "    print(chunk+'.')\n",
    "    "
   ]
  },
  {
   "cell_type": "code",
   "execution_count": 36,
   "metadata": {},
   "outputs": [
    {
     "name": "stdout",
     "output_type": "stream",
     "text": [
      "Hello.\n",
      "My name is Inigo Montoya.\n",
      "You killed my father.\n",
      "Prepare to die.\n"
     ]
    }
   ],
   "source": [
    "for chunk in string2split.split(\".\"):\n",
    "    chunk=chunk.strip()\n",
    "\n",
    "    chunk = chunk.replace('brother', 'father')\n",
    "    print(chunk+'.')"
   ]
  },
  {
   "cell_type": "code",
   "execution_count": 42,
   "metadata": {},
   "outputs": [
    {
     "name": "stdout",
     "output_type": "stream",
     "text": [
      "['Hello', 'My name is Inigo Montoya', 'You killed my father', 'Prepare to die']\n",
      "Hello.\n",
      "My name is Inigo Montoya.\n",
      "You killed my father.\n",
      "Prepare to die\n"
     ]
    }
   ],
   "source": [
    "#A different approach using a for-loop shortcut called\n",
    "#    a List Comprehension\n",
    "output = [xx.strip().replace(\"brother\", \"father\") for xx in string2split.split(\".\")]\n",
    "print(output)\n",
    "\n",
    "print('.\\n'.join(output))\n"
   ]
  },
  {
   "cell_type": "code",
   "execution_count": 44,
   "metadata": {},
   "outputs": [
    {
     "name": "stdout",
     "output_type": "stream",
     "text": [
      "Hello.\n",
      "My name is Inigo Montoya.\n",
      "You killed my father.\n",
      "Prepare to die\n"
     ]
    }
   ],
   "source": [
    "# as a 1-liner\n",
    "print('.\\n'.join([xx.strip().replace(\"brother\", \"father\") for xx in string2split.split(\".\")]))\n"
   ]
  },
  {
   "cell_type": "markdown",
   "metadata": {},
   "source": [
    "# Wrangling Footballer Names\n"
   ]
  },
  {
   "cell_type": "code",
   "execution_count": null,
   "metadata": {},
   "outputs": [],
   "source": []
  },
  {
   "cell_type": "code",
   "execution_count": null,
   "metadata": {},
   "outputs": [],
   "source": []
  },
  {
   "cell_type": "code",
   "execution_count": 4,
   "metadata": {},
   "outputs": [],
   "source": [
    "# Goal: extract footballer's names into format Last, First, other & discard\n",
    "#  other data\n",
    "#\n",
    "# General info & data here:\n",
    "#   https://www.kaggle.com/datasets/maso0dahmed/football-players-data\n",
    "#\n",
    "# I unzipped mine put it in the data folder\n",
    "#data = '../data/fifa_players.csv'\n",
    "data = 'D:/BIOS6644/Working/BIOS6644/BIOS6644_Spring_2024/BIOS6644_Spring_2024/Modules/Module_1/data/fifa_players.csv'"
   ]
  },
  {
   "cell_type": "code",
   "execution_count": 5,
   "metadata": {},
   "outputs": [
    {
     "ename": "FileNotFoundError",
     "evalue": "[Errno 2] No such file or directory: 'D:/BIOS6644/Working/BIOS6644/BIOS6644_Spring_2024/BIOS6644_Spring_2024/Modules/Module_1/data/fifa_players.csv'",
     "output_type": "error",
     "traceback": [
      "\u001b[1;31m---------------------------------------------------------------------------\u001b[0m",
      "\u001b[1;31mFileNotFoundError\u001b[0m                         Traceback (most recent call last)",
      "Input \u001b[1;32mIn [5]\u001b[0m, in \u001b[0;36m<cell line: 2>\u001b[1;34m()\u001b[0m\n\u001b[0;32m      1\u001b[0m \u001b[38;5;66;03m#read data\u001b[39;00m\n\u001b[1;32m----> 2\u001b[0m \u001b[38;5;28;01mwith\u001b[39;00m \u001b[38;5;28;43mopen\u001b[39;49m\u001b[43m(\u001b[49m\u001b[43mdata\u001b[49m\u001b[43m,\u001b[49m\u001b[38;5;124;43m'\u001b[39;49m\u001b[38;5;124;43mr\u001b[39;49m\u001b[38;5;124;43m'\u001b[39;49m\u001b[43m)\u001b[49m \u001b[38;5;28;01mas\u001b[39;00m thefile:\n\u001b[0;32m      3\u001b[0m     lines \u001b[38;5;241m=\u001b[39m thefile\u001b[38;5;241m.\u001b[39mreadlines()\n",
      "\u001b[1;31mFileNotFoundError\u001b[0m: [Errno 2] No such file or directory: 'D:/BIOS6644/Working/BIOS6644/BIOS6644_Spring_2024/BIOS6644_Spring_2024/Modules/Module_1/data/fifa_players.csv'"
     ]
    }
   ],
   "source": [
    "#read data\n",
    "with open(data,'r') as thefile:\n",
    "    lines = thefile.readlines()"
   ]
  },
  {
   "cell_type": "markdown",
   "metadata": {},
   "source": []
  },
  {
   "cell_type": "code",
   "execution_count": 48,
   "metadata": {},
   "outputs": [
    {
     "name": "stdout",
     "output_type": "stream",
     "text": [
      "name,full_name,birth_date,age,height_cm,weight_kgs,positions,nationality,overall_rating,potential,value_euro,wage_euro,preferred_foot,international_reputation(1-5),weak_foot(1-5),skill_moves(1-5),body_type,release_clause_euro,national_team,national_rating,national_team_position,national_jersey_number,crossing,finishing,heading_accuracy,short_passing,volleys,dribbling,curve,freekick_accuracy,long_passing,ball_control,acceleration,sprint_speed,agility,reactions,balance,shot_power,jumping,stamina,strength,long_shots,aggression,interceptions,positioning,vision,penalties,composure,marking,standing_tackle,sliding_tackle\n",
      " Kepa,Kepa Arrizabalaga,10/3/1994,24,185.42,84.8,GK,Spain,84,90,31000000,92000,Right,1,4,1,Lean,63600000,Spain,85,SUB,13,25,11,17,32,18,10,25,19,36,16,34,33,41,79,39,25,71,37,51,14,18,21,15,55,24,63,19,18,16\n",
      "\n"
     ]
    }
   ],
   "source": [
    "test_line = lines[33]\n",
    "header = lines[0]\n",
    "print(header, test_line)"
   ]
  },
  {
   "cell_type": "code",
   "execution_count": 53,
   "metadata": {},
   "outputs": [
    {
     "name": "stdout",
     "output_type": "stream",
     "text": [
      "['Kepa', 'Kepa Arrizabalaga', '10/3/1994', '24', '185.42', '84.8', 'GK', 'Spain', '84', '90', '31000000', '92000', 'Right', '1', '4', '1', 'Lean', '63600000', 'Spain', '85', 'SUB', '13', '25', '11', '17', '32', '18', '10', '25', '19', '36', '16', '34', '33', '41', '79', '39', '25', '71', '37', '51', '14', '18', '21', '15', '55', '24', '63', '19', '18', '16\\n']\n"
     ]
    }
   ],
   "source": [
    "# Notice that the player name is in the 2nd field (field 1)\n",
    "# The string split(',') method divides a string into a list of strings, \n",
    "# breaking on commas. \n",
    "print(test_line.split(','))"
   ]
  },
  {
   "cell_type": "code",
   "execution_count": 54,
   "metadata": {},
   "outputs": [
    {
     "data": {
      "text/plain": [
       "'Kepa Arrizabalaga'"
      ]
     },
     "execution_count": 54,
     "metadata": {},
     "output_type": "execute_result"
    }
   ],
   "source": [
    "test_line.split(',')[1]  # split and grab position-1 entry"
   ]
  },
  {
   "cell_type": "code",
   "execution_count": 55,
   "metadata": {},
   "outputs": [
    {
     "data": {
      "text/plain": [
       "['Kepa', 'Arrizabalaga']"
      ]
     },
     "execution_count": 55,
     "metadata": {},
     "output_type": "execute_result"
    }
   ],
   "source": [
    "# Split the name up into a list\n",
    "test_line.split(',')[1].split(' ')"
   ]
  },
  {
   "cell_type": "code",
   "execution_count": 56,
   "metadata": {},
   "outputs": [
    {
     "name": "stdout",
     "output_type": "stream",
     "text": [
      "['Kepa', 'Arrizabalaga']\n"
     ]
    }
   ],
   "source": [
    "# Save the names as split so we can re-arrange them\n",
    "name_list = test_line.split(',')[1].split(' ')\n",
    "print(name_list)"
   ]
  },
  {
   "cell_type": "code",
   "execution_count": 57,
   "metadata": {},
   "outputs": [
    {
     "name": "stdout",
     "output_type": "stream",
     "text": [
      "Arrizabalaga Kepa\n"
     ]
    }
   ],
   "source": [
    "# Re-arrange them\n",
    "print(name_list[1], name_list[0])"
   ]
  },
  {
   "cell_type": "code",
   "execution_count": 58,
   "metadata": {},
   "outputs": [
    {
     "name": "stdout",
     "output_type": "stream",
     "text": [
      "Arrizabalaga, Kepa\n"
     ]
    }
   ],
   "source": [
    "# Add a comma\n",
    "print(name_list[1]+ ', ' +name_list[0])"
   ]
  },
  {
   "cell_type": "code",
   "execution_count": null,
   "metadata": {},
   "outputs": [],
   "source": [
    "for this_player in lines:\n",
    "    name_list = this_player.split(',')[1].split(' ')\n",
    "    print(name_list)"
   ]
  },
  {
   "cell_type": "code",
   "execution_count": null,
   "metadata": {},
   "outputs": [],
   "source": [
    "# Ok--new problems discoverd!\n",
    "# 1) Lots of players have >2 names\n",
    "# 2) It's not obvious how to interpret multiple fields\n",
    "#   e.g. Is it a hyphenated last name?\n",
    "#        Is it latin-style and including mother's & father's surnames\n",
    "#        Is \"del Castillo\" part of the formal name?\n",
    "# 3) Some players have \"Junior\", etc. suffixes\n",
    "# 4) We imported the header row as \"full_name\"\n",
    "#\n",
    "#"
   ]
  },
  {
   "cell_type": "code",
   "execution_count": 64,
   "metadata": {},
   "outputs": [
    {
     "data": {
      "text/plain": [
       "['name,full_name,birth_date,age,height_cm,weight_kgs,positions,nationality,overall_rating,potential,value_euro,wage_euro,preferred_foot,international_reputation(1-5),weak_foot(1-5),skill_moves(1-5),body_type,release_clause_euro,national_team,national_rating,national_team_position,national_jersey_number,crossing,finishing,heading_accuracy,short_passing,volleys,dribbling,curve,freekick_accuracy,long_passing,ball_control,acceleration,sprint_speed,agility,reactions,balance,shot_power,jumping,stamina,strength,long_shots,aggression,interceptions,positioning,vision,penalties,composure,marking,standing_tackle,sliding_tackle\\n',\n",
       " 'L. Messi,Lionel Andrés Messi Cuccittini,6/24/1987,31,170.18,72.1,\"CF,RW,ST\",Argentina,94,94,110500000,565000,Left,5,4,4,Messi,226500000,Argentina,82,RF,10,86,95,70,92,86,97,93,94,89,96,91,86,93,95,95,85,68,72,66,94,48,22,94,94,75,96,33,28,26\\n',\n",
       " 'C. Eriksen,Christian  Dannemann Eriksen,2/14/1992,27,154.94,76.2,\"CAM,RM,CM\",Denmark,88,89,69500000,205000,Right,3,5,4,Lean,133800000,Denmark,78,CAM,10,88,81,52,91,80,84,86,87,89,91,76,73,80,88,81,84,50,92,58,89,46,56,84,91,67,88,59,57,22\\n',\n",
       " 'P. Pogba,Paul Pogba,3/15/1993,25,190.5,83.9,\"CM,CAM\",France,88,91,73000000,255000,Right,4,4,5,Normal,144200000,France,84,RDM,6,80,75,75,86,85,87,85,82,90,90,71,79,76,82,66,90,83,88,87,82,78,64,82,88,82,87,63,67,67\\n',\n",
       " 'L. Insigne,Lorenzo Insigne,6/4/1991,27,162.56,59,\"LW,ST\",Italy,88,88,62000000,165000,Right,3,4,4,Normal,105400000,Italy,83,LW,10,86,77,56,85,74,90,87,77,78,93,94,86,94,83,93,75,53,75,44,84,34,26,83,87,61,83,51,24,22\\n',\n",
       " 'K. Koulibaly,Kalidou Koulibaly,6/20/1991,27,187.96,88.9,CB,Senegal,88,91,60000000,135000,Right,3,3,2,Normal,106500000,,,,,30,22,83,68,14,69,28,28,60,63,70,75,50,82,40,55,81,75,94,15,87,88,24,49,33,80,91,88,87\\n',\n",
       " 'V. van Dijk,Virgil van Dijk,7/8/1991,27,193.04,92.1,CB,Netherlands,88,90,59500000,215000,Right,3,3,2,Normal,114500000,Netherlands,81,LCB,4,53,52,83,79,45,70,60,70,81,76,74,77,61,87,49,81,88,75,92,64,82,88,41,60,62,87,90,89,84\\n',\n",
       " 'K. Mbappé,Kylian Mbappé,12/20/1998,20,152.4,73,\"RW,ST,RM\",France,88,95,81000000,100000,Right,3,4,5,Lean,166100000,France,84,RM,10,77,88,77,82,78,90,77,63,73,91,96,96,92,87,83,79,75,83,71,78,62,38,88,82,70,86,34,34,32\\n',\n",
       " 'S. Agüero,Sergio Leonel Agüero del Castillo,6/2/1988,30,172.72,69.9,ST,Argentina,89,89,64500000,300000,Right,4,4,4,Stocky,119300000,Argentina,82,SUB,11,70,93,77,81,85,89,82,73,64,89,88,80,86,90,91,88,81,76,73,83,65,24,92,83,83,90,30,20,12\\n',\n",
       " 'M. Neuer,Manuel Neuer,3/27/1986,32,193.04,92.1,GK,Germany,89,89,38000000,130000,Right,5,4,1,Normal,62700000,Germany,85,GK,1,15,13,25,55,11,30,14,11,59,46,54,60,51,84,35,25,77,43,80,16,29,30,12,70,47,70,17,10,11\\n',\n",
       " 'E. Cavani,Edinson Roberto Cavani Gómez,2/14/1987,32,185.42,77.1,ST,Uruguay,89,89,60000000,200000,Right,4,4,3,Lean,111000000,Uruguay,81,LS,21,70,89,89,78,90,80,77,76,52,82,75,76,77,91,59,87,88,92,78,79,84,48,93,77,85,82,52,45,39\\n',\n",
       " 'Sergio Busquets,Sergio Busquets i Burgos,7/16/1988,30,187.96,76.2,\"CDM,CM\",Spain,89,89,51500000,315000,Right,4,3,3,Lean,105600000,Spain,85,CDM,5,62,67,68,89,44,80,66,68,82,88,50,52,66,87,52,61,66,86,77,54,85,87,77,87,60,93,90,86,80\\n',\n",
       " 'T. Courtois,Thibaut Courtois,5/11/1992,26,198.12,96.2,GK,Belgium,89,90,53500000,240000,Left,4,2,1,Courtois,113700000,Belgium,85,GK,1,14,14,13,33,12,13,19,20,35,23,46,52,61,84,45,36,68,38,70,17,23,15,13,44,27,66,20,18,16\\n',\n",
       " 'M. ter Stegen,Marc-André ter Stegen,4/30/1992,26,187.96,84.8,GK,Germany,89,92,58000000,240000,Right,3,4,1,Normal,123300000,Germany,85,SUB,22,18,14,11,42,14,17,18,12,47,18,38,50,37,86,43,22,79,35,78,10,43,22,11,70,25,70,25,13,10\\n',\n",
       " 'A. Griezmann,Antoine Griezmann,3/21/1991,27,175.26,73,\"CF,ST\",France,89,90,78000000,145000,Left,4,3,4,Lean,165800000,France,84,CAM,7,82,89,84,84,87,87,86,84,78,90,88,85,90,90,82,82,90,86,62,82,73,49,91,85,83,89,59,54,48\\n',\n",
       " 'M. Salah,Mohamed  Salah Ghaly,6/15/1992,26,175.26,71.2,\"RW,ST\",Egypt,89,90,78500000,265000,Left,3,3,4,PLAYER_BODY_TYPE_25,151100000,Egypt,73,RM,10,78,90,59,83,76,89,83,60,74,88,94,91,91,92,88,80,68,84,70,83,63,55,92,84,75,91,38,43,41\\n',\n",
       " 'P. Dybala,Paulo Bruno Exequiel Dybala,11/15/1993,25,152.4,74.8,\"CAM,RW\",Argentina,89,94,89000000,205000,Left,3,3,4,Normal,153500000,Argentina,82,LF,21,82,84,68,87,88,92,88,88,75,92,87,83,91,86,85,82,75,80,65,88,48,32,84,87,86,84,23,20,20\\n']"
      ]
     },
     "execution_count": 64,
     "metadata": {},
     "output_type": "execute_result"
    }
   ],
   "source": [
    "# Can we use the name column to infer which block is the surname?\n",
    "lines[0:17]\n",
    "\n",
    "# Maybe?   Let's print just the name and full_name"
   ]
  },
  {
   "cell_type": "code",
   "execution_count": null,
   "metadata": {},
   "outputs": [],
   "source": [
    "\n",
    "for thisplayer in lines:\n",
    "    print(thisplayer.split(',')[0:2])"
   ]
  },
  {
   "cell_type": "code",
   "execution_count": null,
   "metadata": {},
   "outputs": [],
   "source": [
    "# Rules:\n",
    "# 1) If it starts with an initial + \".\", the surname follows\n",
    "#\n",
    "# Single word \n",
    "#  If single word is in \"full name\" first location, it's a first name\n",
    "#     elif in 2nd+ location, it's a surname\n",
    "#    else, is a nickname\n",
    "# Careful!: ['H. Son', '손흥민 孙兴慜']"
   ]
  },
  {
   "cell_type": "code",
   "execution_count": null,
   "metadata": {},
   "outputs": [],
   "source": [
    "# Verify rules\n",
    "for tp in lines:\n",
    "    numname = len(tp.split(',')[0].split(' '))\n",
    "    if numname<2:\n",
    "        print(tp.split(',')[0:2])\n"
   ]
  },
  {
   "cell_type": "code",
   "execution_count": 87,
   "metadata": {},
   "outputs": [
    {
     "name": "stdout",
     "output_type": "stream",
     "text": [
      "André ---> André Filipe Brás André\n",
      "Chan ---> Chan Kim\n",
      "Gang ---> Gang Feng\n",
      "Xiaoxuan ---> Xiaoxuan Ji\n",
      "Yuqin ---> Yuqin Gao\n",
      "Shilong ---> Shilong Wang\n",
      "Hui ---> Hui Zhang\n",
      "Guoyuan ---> Guoyuan Yang\n",
      "Peilei ---> Peilei Cai\n",
      "Jinze ---> Jinze Wang\n",
      "Liuyu ---> Liuyu Duan\n",
      "Jianfei ---> Jianfei Zhao\n",
      "Tang ---> Tang Chen\n",
      "Junlin ---> Junlin Chen\n",
      "Seong-Hoon ---> Seong-Hoon Cheon\n",
      "Lario ---> Lario Martínez Jerónimo Manuel\n",
      "Wai-Tsun ---> Wai-Tsun Dai\n",
      "Weicheng ---> Weicheng Wang\n",
      "Ilgyu ---> Ilgyu Park\n",
      "Ogude ---> Ogude Emmanuel Ifeanyi\n",
      "Djené ---> Djené Dakonam Ortega\n"
     ]
    }
   ],
   "source": [
    "# Check assertion 1\n",
    "for tp in lines:\n",
    "    numname = len(tp.split(',')[0].split(' '))\n",
    "    if numname==2:\n",
    "        fn = tp.split(',')[0].split(' ')[0]\n",
    "        surname = tp.split(',')[0].split(' ')[1]\n",
    "        fullname = tp.split(',')[1]\n",
    "        if surname in fullname.split(' '):\n",
    "            if fullname.split(' ').index(surname)==0:\n",
    "                print(surname + ' ---> ' + fullname)\n"
   ]
  },
  {
   "cell_type": "code",
   "execution_count": null,
   "metadata": {},
   "outputs": [],
   "source": []
  },
  {
   "cell_type": "code",
   "execution_count": 86,
   "metadata": {},
   "outputs": [
    {
     "data": {
      "text/plain": [
       "1"
      ]
     },
     "execution_count": 86,
     "metadata": {},
     "output_type": "execute_result"
    }
   ],
   "source": [
    "['A', 'Bv', 'Def'].index('Bv')"
   ]
  },
  {
   "cell_type": "code",
   "execution_count": null,
   "metadata": {},
   "outputs": [],
   "source": []
  },
  {
   "cell_type": "markdown",
   "metadata": {},
   "source": []
  },
  {
   "cell_type": "code",
   "execution_count": null,
   "metadata": {},
   "outputs": [],
   "source": []
  },
  {
   "cell_type": "code",
   "execution_count": null,
   "metadata": {},
   "outputs": [],
   "source": []
  }
 ],
 "metadata": {
  "kernelspec": {
   "display_name": "Python 3 (ipykernel)",
   "language": "python",
   "name": "python3"
  },
  "language_info": {
   "codemirror_mode": {
    "name": "ipython",
    "version": 3
   },
   "file_extension": ".py",
   "mimetype": "text/x-python",
   "name": "python",
   "nbconvert_exporter": "python",
   "pygments_lexer": "ipython3",
   "version": "3.9.18"
  }
 },
 "nbformat": 4,
 "nbformat_minor": 4
}
