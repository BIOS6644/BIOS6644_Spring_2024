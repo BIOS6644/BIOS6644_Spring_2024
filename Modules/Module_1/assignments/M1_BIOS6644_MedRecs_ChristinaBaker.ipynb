{
 "cells": [
  {
   "cell_type": "code",
   "execution_count": null,
   "metadata": {},
   "outputs": [],
   "source": [
    "##########################################################################################\n",
    "#                                                                                        #\n",
    "#  888888b.  8888888 .d88888b.   .d8888b.     .d8888b.   .d8888b.      d8888      d8888  #\n",
    "#  888  \"88b   888  d88P\" \"Y88b d88P  Y88b   d88P  Y88b d88P  Y88b    d8P888     d8P888  #\n",
    "#  888  .88P   888  888     888 Y88b.        888        888          d8P 888    d8P 888  #\n",
    "#  8888888K.   888  888     888  \"Y888b.     888d888b.  888d888b.   d8P  888   d8P  888  #\n",
    "#  888  \"Y88b  888  888     888     \"Y88b.   888P \"Y88b 888P \"Y88b d88   888  d88   888  #\n",
    "#  888    888  888  888     888       \"888   888    888 888    888 8888888888 8888888888 #\n",
    "#  888   d88P  888  Y88b. .d88P Y88b  d88P   Y88b  d88P Y88b  d88P       888        888  #\n",
    "#  8888888P\" 8888888 \"Y88888P\"   \"Y8888P\"     \"Y8888P\"   \"Y8888P\"        888        888  #\n",
    "#                                                                                        # \n",
    "##########################################################################################\n",
    "#\n",
    "# Wrangle Synthetic Medical Record Data\n",
    "#\n",
    "##########################################################################################"
   ]
  },
  {
   "cell_type": "markdown",
   "metadata": {},
   "source": [
    "## Fetch data\n",
    "\n",
    "https://github.com/ishaghodgaonkar/emrbots/blob/master/100-Patients.zip\n",
    "\n",
    "unzip it into the Data folder"
   ]
  },
  {
   "cell_type": "code",
   "execution_count": 1,
   "metadata": {},
   "outputs": [],
   "source": [
    "import pandas as pd\n",
    "import pylab as plt\n",
    "import numpy as np\n",
    "import datetime as dt"
   ]
  },
  {
   "cell_type": "code",
   "execution_count": 7,
   "metadata": {},
   "outputs": [
    {
     "data": {
      "text/plain": [
       "'C:\\\\Users\\\\chl_b\\\\BIOS6644_Spring_2024_OLD\\\\Modules\\\\Module_1\\\\assignments'"
      ]
     },
     "execution_count": 7,
     "metadata": {},
     "output_type": "execute_result"
    }
   ],
   "source": [
    "pwd"
   ]
  },
  {
   "cell_type": "code",
   "execution_count": 11,
   "metadata": {},
   "outputs": [],
   "source": [
    "admiss_core = \"C:/Users/chl_b/BIOS6644_Spring_2024_OLD/Modules/Module_1/data/AdmissionsCorePopulatedTable.txt\""
   ]
  },
  {
   "cell_type": "code",
   "execution_count": 12,
   "metadata": {},
   "outputs": [],
   "source": [
    "admiss_diag_core =  \"C:/Users/chl_b/BIOS6644_Spring_2024_OLD/students/ChristinaBaker/Module_1/data/AdmissionsDiagnosesCorePopulatedTable.txt\""
   ]
  },
  {
   "cell_type": "code",
   "execution_count": 13,
   "metadata": {},
   "outputs": [],
   "source": [
    "patient_core = \"C:/Users/chl_b/BIOS6644_Spring_2024_OLD/students/ChristinaBaker/Module_1/data/PatientCorePopulatedTable.txt\""
   ]
  },
  {
   "cell_type": "code",
   "execution_count": 14,
   "metadata": {},
   "outputs": [],
   "source": [
    "labs_core= \"C:/Users/chl_b/BIOS6644_Spring_2024_OLD/students/ChristinaBaker/Module_1/data/LabsCorePopulatedTable.txt\""
   ]
  },
  {
   "cell_type": "code",
   "execution_count": 15,
   "metadata": {},
   "outputs": [],
   "source": [
    "with open(admiss_core,'r', encoding='utf-8') as thefile:\n",
    "    lines = thefile.readlines()"
   ]
  },
  {
   "cell_type": "code",
   "execution_count": 16,
   "metadata": {},
   "outputs": [],
   "source": [
    "with open(admiss_diag_core,'r', encoding='utf-8') as thefile:\n",
    "    lines = thefile.readlines()"
   ]
  },
  {
   "cell_type": "code",
   "execution_count": 18,
   "metadata": {},
   "outputs": [],
   "source": [
    "with open(labs_core,'r', encoding='utf-8') as thefile:\n",
    "    lines = thefile.readlines()"
   ]
  },
  {
   "cell_type": "code",
   "execution_count": 19,
   "metadata": {},
   "outputs": [],
   "source": [
    "with open(patient_core,'r', encoding='utf-8') as thefile:\n",
    "    lines = thefile.readlines()"
   ]
  },
  {
   "cell_type": "code",
   "execution_count": 20,
   "metadata": {},
   "outputs": [
    {
     "ename": "FileNotFoundError",
     "evalue": "[Errno 2] No such file or directory: 'BIOS6644_Spring_2024_OLD/students/ChristinaBaker/Module_1/data/AdmissionsCorePopulatedTable.txt'",
     "output_type": "error",
     "traceback": [
      "\u001b[1;31m---------------------------------------------------------------------------\u001b[0m",
      "\u001b[1;31mFileNotFoundError\u001b[0m                         Traceback (most recent call last)",
      "Cell \u001b[1;32mIn[20], line 5\u001b[0m\n\u001b[0;32m      1\u001b[0m \u001b[38;5;66;03m##################################################################################################################\u001b[39;00m\n\u001b[0;32m      2\u001b[0m \u001b[38;5;66;03m#\u001b[39;00m\n\u001b[0;32m      3\u001b[0m \u001b[38;5;66;03m# YouDo: Import each of the 4 files into its own data frame\u001b[39;00m\n\u001b[0;32m      4\u001b[0m \u001b[38;5;66;03m#         (Hint:  they're tab-separated)\u001b[39;00m\n\u001b[1;32m----> 5\u001b[0m admiss_core \u001b[38;5;241m=\u001b[39m pd\u001b[38;5;241m.\u001b[39mread_csv(\u001b[38;5;124m\"\u001b[39m\u001b[38;5;124mBIOS6644_Spring_2024_OLD/students/ChristinaBaker/Module_1/data/AdmissionsCorePopulatedTable.txt\u001b[39m\u001b[38;5;124m\"\u001b[39m,sep\u001b[38;5;241m=\u001b[39m\u001b[38;5;124m\"\u001b[39m\u001b[38;5;130;01m\\t\u001b[39;00m\u001b[38;5;124m\"\u001b[39m,index_col\u001b[38;5;241m=\u001b[39m\u001b[38;5;124m\"\u001b[39m\u001b[38;5;124mPatientID\u001b[39m\u001b[38;5;124m\"\u001b[39m)\n\u001b[0;32m      6\u001b[0m admiss_diag_core \u001b[38;5;241m=\u001b[39m pd\u001b[38;5;241m.\u001b[39mread_csv(\u001b[38;5;124m\"\u001b[39m\u001b[38;5;124mBIOS6644_Spring_2024_OLD/students/ChristinaBaker/Module_1/data/AdmissionsDiagnosesCorePopulatedTable.txt\u001b[39m\u001b[38;5;124m\"\u001b[39m,sep\u001b[38;5;241m=\u001b[39m\u001b[38;5;124m\"\u001b[39m\u001b[38;5;130;01m\\t\u001b[39;00m\u001b[38;5;124m\"\u001b[39m,index_col\u001b[38;5;241m=\u001b[39m\u001b[38;5;124m\"\u001b[39m\u001b[38;5;124mPatientID\u001b[39m\u001b[38;5;124m\"\u001b[39m)\n\u001b[0;32m      7\u001b[0m patient_core \u001b[38;5;241m=\u001b[39m pd\u001b[38;5;241m.\u001b[39mread_csv(\u001b[38;5;124m\"\u001b[39m\u001b[38;5;124mBIOS6644_Spring_2024_OLD/students/ChristinaBaker/Module_1/data/PatientCorePopulatedTable.txt\u001b[39m\u001b[38;5;124m\"\u001b[39m,sep\u001b[38;5;241m=\u001b[39m\u001b[38;5;124m\"\u001b[39m\u001b[38;5;130;01m\\t\u001b[39;00m\u001b[38;5;124m\"\u001b[39m,index_col\u001b[38;5;241m=\u001b[39m\u001b[38;5;124m\"\u001b[39m\u001b[38;5;124mPatientID\u001b[39m\u001b[38;5;124m\"\u001b[39m)\n",
      "File \u001b[1;32m~\\anaconda3\\Lib\\site-packages\\pandas\\io\\parsers\\readers.py:948\u001b[0m, in \u001b[0;36mread_csv\u001b[1;34m(filepath_or_buffer, sep, delimiter, header, names, index_col, usecols, dtype, engine, converters, true_values, false_values, skipinitialspace, skiprows, skipfooter, nrows, na_values, keep_default_na, na_filter, verbose, skip_blank_lines, parse_dates, infer_datetime_format, keep_date_col, date_parser, date_format, dayfirst, cache_dates, iterator, chunksize, compression, thousands, decimal, lineterminator, quotechar, quoting, doublequote, escapechar, comment, encoding, encoding_errors, dialect, on_bad_lines, delim_whitespace, low_memory, memory_map, float_precision, storage_options, dtype_backend)\u001b[0m\n\u001b[0;32m    935\u001b[0m kwds_defaults \u001b[38;5;241m=\u001b[39m _refine_defaults_read(\n\u001b[0;32m    936\u001b[0m     dialect,\n\u001b[0;32m    937\u001b[0m     delimiter,\n\u001b[1;32m   (...)\u001b[0m\n\u001b[0;32m    944\u001b[0m     dtype_backend\u001b[38;5;241m=\u001b[39mdtype_backend,\n\u001b[0;32m    945\u001b[0m )\n\u001b[0;32m    946\u001b[0m kwds\u001b[38;5;241m.\u001b[39mupdate(kwds_defaults)\n\u001b[1;32m--> 948\u001b[0m \u001b[38;5;28;01mreturn\u001b[39;00m _read(filepath_or_buffer, kwds)\n",
      "File \u001b[1;32m~\\anaconda3\\Lib\\site-packages\\pandas\\io\\parsers\\readers.py:611\u001b[0m, in \u001b[0;36m_read\u001b[1;34m(filepath_or_buffer, kwds)\u001b[0m\n\u001b[0;32m    608\u001b[0m _validate_names(kwds\u001b[38;5;241m.\u001b[39mget(\u001b[38;5;124m\"\u001b[39m\u001b[38;5;124mnames\u001b[39m\u001b[38;5;124m\"\u001b[39m, \u001b[38;5;28;01mNone\u001b[39;00m))\n\u001b[0;32m    610\u001b[0m \u001b[38;5;66;03m# Create the parser.\u001b[39;00m\n\u001b[1;32m--> 611\u001b[0m parser \u001b[38;5;241m=\u001b[39m TextFileReader(filepath_or_buffer, \u001b[38;5;241m*\u001b[39m\u001b[38;5;241m*\u001b[39mkwds)\n\u001b[0;32m    613\u001b[0m \u001b[38;5;28;01mif\u001b[39;00m chunksize \u001b[38;5;129;01mor\u001b[39;00m iterator:\n\u001b[0;32m    614\u001b[0m     \u001b[38;5;28;01mreturn\u001b[39;00m parser\n",
      "File \u001b[1;32m~\\anaconda3\\Lib\\site-packages\\pandas\\io\\parsers\\readers.py:1448\u001b[0m, in \u001b[0;36mTextFileReader.__init__\u001b[1;34m(self, f, engine, **kwds)\u001b[0m\n\u001b[0;32m   1445\u001b[0m     \u001b[38;5;28mself\u001b[39m\u001b[38;5;241m.\u001b[39moptions[\u001b[38;5;124m\"\u001b[39m\u001b[38;5;124mhas_index_names\u001b[39m\u001b[38;5;124m\"\u001b[39m] \u001b[38;5;241m=\u001b[39m kwds[\u001b[38;5;124m\"\u001b[39m\u001b[38;5;124mhas_index_names\u001b[39m\u001b[38;5;124m\"\u001b[39m]\n\u001b[0;32m   1447\u001b[0m \u001b[38;5;28mself\u001b[39m\u001b[38;5;241m.\u001b[39mhandles: IOHandles \u001b[38;5;241m|\u001b[39m \u001b[38;5;28;01mNone\u001b[39;00m \u001b[38;5;241m=\u001b[39m \u001b[38;5;28;01mNone\u001b[39;00m\n\u001b[1;32m-> 1448\u001b[0m \u001b[38;5;28mself\u001b[39m\u001b[38;5;241m.\u001b[39m_engine \u001b[38;5;241m=\u001b[39m \u001b[38;5;28mself\u001b[39m\u001b[38;5;241m.\u001b[39m_make_engine(f, \u001b[38;5;28mself\u001b[39m\u001b[38;5;241m.\u001b[39mengine)\n",
      "File \u001b[1;32m~\\anaconda3\\Lib\\site-packages\\pandas\\io\\parsers\\readers.py:1705\u001b[0m, in \u001b[0;36mTextFileReader._make_engine\u001b[1;34m(self, f, engine)\u001b[0m\n\u001b[0;32m   1703\u001b[0m     \u001b[38;5;28;01mif\u001b[39;00m \u001b[38;5;124m\"\u001b[39m\u001b[38;5;124mb\u001b[39m\u001b[38;5;124m\"\u001b[39m \u001b[38;5;129;01mnot\u001b[39;00m \u001b[38;5;129;01min\u001b[39;00m mode:\n\u001b[0;32m   1704\u001b[0m         mode \u001b[38;5;241m+\u001b[39m\u001b[38;5;241m=\u001b[39m \u001b[38;5;124m\"\u001b[39m\u001b[38;5;124mb\u001b[39m\u001b[38;5;124m\"\u001b[39m\n\u001b[1;32m-> 1705\u001b[0m \u001b[38;5;28mself\u001b[39m\u001b[38;5;241m.\u001b[39mhandles \u001b[38;5;241m=\u001b[39m get_handle(\n\u001b[0;32m   1706\u001b[0m     f,\n\u001b[0;32m   1707\u001b[0m     mode,\n\u001b[0;32m   1708\u001b[0m     encoding\u001b[38;5;241m=\u001b[39m\u001b[38;5;28mself\u001b[39m\u001b[38;5;241m.\u001b[39moptions\u001b[38;5;241m.\u001b[39mget(\u001b[38;5;124m\"\u001b[39m\u001b[38;5;124mencoding\u001b[39m\u001b[38;5;124m\"\u001b[39m, \u001b[38;5;28;01mNone\u001b[39;00m),\n\u001b[0;32m   1709\u001b[0m     compression\u001b[38;5;241m=\u001b[39m\u001b[38;5;28mself\u001b[39m\u001b[38;5;241m.\u001b[39moptions\u001b[38;5;241m.\u001b[39mget(\u001b[38;5;124m\"\u001b[39m\u001b[38;5;124mcompression\u001b[39m\u001b[38;5;124m\"\u001b[39m, \u001b[38;5;28;01mNone\u001b[39;00m),\n\u001b[0;32m   1710\u001b[0m     memory_map\u001b[38;5;241m=\u001b[39m\u001b[38;5;28mself\u001b[39m\u001b[38;5;241m.\u001b[39moptions\u001b[38;5;241m.\u001b[39mget(\u001b[38;5;124m\"\u001b[39m\u001b[38;5;124mmemory_map\u001b[39m\u001b[38;5;124m\"\u001b[39m, \u001b[38;5;28;01mFalse\u001b[39;00m),\n\u001b[0;32m   1711\u001b[0m     is_text\u001b[38;5;241m=\u001b[39mis_text,\n\u001b[0;32m   1712\u001b[0m     errors\u001b[38;5;241m=\u001b[39m\u001b[38;5;28mself\u001b[39m\u001b[38;5;241m.\u001b[39moptions\u001b[38;5;241m.\u001b[39mget(\u001b[38;5;124m\"\u001b[39m\u001b[38;5;124mencoding_errors\u001b[39m\u001b[38;5;124m\"\u001b[39m, \u001b[38;5;124m\"\u001b[39m\u001b[38;5;124mstrict\u001b[39m\u001b[38;5;124m\"\u001b[39m),\n\u001b[0;32m   1713\u001b[0m     storage_options\u001b[38;5;241m=\u001b[39m\u001b[38;5;28mself\u001b[39m\u001b[38;5;241m.\u001b[39moptions\u001b[38;5;241m.\u001b[39mget(\u001b[38;5;124m\"\u001b[39m\u001b[38;5;124mstorage_options\u001b[39m\u001b[38;5;124m\"\u001b[39m, \u001b[38;5;28;01mNone\u001b[39;00m),\n\u001b[0;32m   1714\u001b[0m )\n\u001b[0;32m   1715\u001b[0m \u001b[38;5;28;01massert\u001b[39;00m \u001b[38;5;28mself\u001b[39m\u001b[38;5;241m.\u001b[39mhandles \u001b[38;5;129;01mis\u001b[39;00m \u001b[38;5;129;01mnot\u001b[39;00m \u001b[38;5;28;01mNone\u001b[39;00m\n\u001b[0;32m   1716\u001b[0m f \u001b[38;5;241m=\u001b[39m \u001b[38;5;28mself\u001b[39m\u001b[38;5;241m.\u001b[39mhandles\u001b[38;5;241m.\u001b[39mhandle\n",
      "File \u001b[1;32m~\\anaconda3\\Lib\\site-packages\\pandas\\io\\common.py:863\u001b[0m, in \u001b[0;36mget_handle\u001b[1;34m(path_or_buf, mode, encoding, compression, memory_map, is_text, errors, storage_options)\u001b[0m\n\u001b[0;32m    858\u001b[0m \u001b[38;5;28;01melif\u001b[39;00m \u001b[38;5;28misinstance\u001b[39m(handle, \u001b[38;5;28mstr\u001b[39m):\n\u001b[0;32m    859\u001b[0m     \u001b[38;5;66;03m# Check whether the filename is to be opened in binary mode.\u001b[39;00m\n\u001b[0;32m    860\u001b[0m     \u001b[38;5;66;03m# Binary mode does not support 'encoding' and 'newline'.\u001b[39;00m\n\u001b[0;32m    861\u001b[0m     \u001b[38;5;28;01mif\u001b[39;00m ioargs\u001b[38;5;241m.\u001b[39mencoding \u001b[38;5;129;01mand\u001b[39;00m \u001b[38;5;124m\"\u001b[39m\u001b[38;5;124mb\u001b[39m\u001b[38;5;124m\"\u001b[39m \u001b[38;5;129;01mnot\u001b[39;00m \u001b[38;5;129;01min\u001b[39;00m ioargs\u001b[38;5;241m.\u001b[39mmode:\n\u001b[0;32m    862\u001b[0m         \u001b[38;5;66;03m# Encoding\u001b[39;00m\n\u001b[1;32m--> 863\u001b[0m         handle \u001b[38;5;241m=\u001b[39m \u001b[38;5;28mopen\u001b[39m(\n\u001b[0;32m    864\u001b[0m             handle,\n\u001b[0;32m    865\u001b[0m             ioargs\u001b[38;5;241m.\u001b[39mmode,\n\u001b[0;32m    866\u001b[0m             encoding\u001b[38;5;241m=\u001b[39mioargs\u001b[38;5;241m.\u001b[39mencoding,\n\u001b[0;32m    867\u001b[0m             errors\u001b[38;5;241m=\u001b[39merrors,\n\u001b[0;32m    868\u001b[0m             newline\u001b[38;5;241m=\u001b[39m\u001b[38;5;124m\"\u001b[39m\u001b[38;5;124m\"\u001b[39m,\n\u001b[0;32m    869\u001b[0m         )\n\u001b[0;32m    870\u001b[0m     \u001b[38;5;28;01melse\u001b[39;00m:\n\u001b[0;32m    871\u001b[0m         \u001b[38;5;66;03m# Binary mode\u001b[39;00m\n\u001b[0;32m    872\u001b[0m         handle \u001b[38;5;241m=\u001b[39m \u001b[38;5;28mopen\u001b[39m(handle, ioargs\u001b[38;5;241m.\u001b[39mmode)\n",
      "\u001b[1;31mFileNotFoundError\u001b[0m: [Errno 2] No such file or directory: 'BIOS6644_Spring_2024_OLD/students/ChristinaBaker/Module_1/data/AdmissionsCorePopulatedTable.txt'"
     ]
    }
   ],
   "source": [
    "##################################################################################################################\n",
    "#\n",
    "# YouDo: Import each of the 4 files into its own data frame\n",
    "#         (Hint:  they're tab-separated)\n",
    "admiss_core = pd.read_csv(\"BIOS6644_Spring_2024_OLD/students/ChristinaBaker/Module_1/data/AdmissionsCorePopulatedTable.txt\",sep=\"\\t\",index_col=\"PatientID\")\n",
    "admiss_diag_core = pd.read_csv(\"BIOS6644_Spring_2024_OLD/students/ChristinaBaker/Module_1/data/AdmissionsDiagnosesCorePopulatedTable.txt\",sep=\"\\t\",index_col=\"PatientID\")\n",
    "patient_core = pd.read_csv(\"BIOS6644_Spring_2024_OLD/students/ChristinaBaker/Module_1/data/PatientCorePopulatedTable.txt\",sep=\"\\t\",index_col=\"PatientID\")\n",
    "labs_core = pd.read_csv(\"BIOS6644_Spring_2024_OLD/students/ChristinaBaker/Module_1/data/LabsCorePopulatedTable.txt\",sep=\"\\t\",index_col=\"PatientID\")"
   ]
  },
  {
   "cell_type": "markdown",
   "metadata": {},
   "source": [
    "\n"
   ]
  },
  {
   "cell_type": "code",
   "execution_count": 3,
   "metadata": {},
   "outputs": [
    {
     "data": {
      "text/html": [
       "<div>\n",
       "<style scoped>\n",
       "    .dataframe tbody tr th:only-of-type {\n",
       "        vertical-align: middle;\n",
       "    }\n",
       "\n",
       "    .dataframe tbody tr th {\n",
       "        vertical-align: top;\n",
       "    }\n",
       "\n",
       "    .dataframe thead th {\n",
       "        text-align: right;\n",
       "    }\n",
       "</style>\n",
       "<table border=\"1\" class=\"dataframe\">\n",
       "  <thead>\n",
       "    <tr style=\"text-align: right;\">\n",
       "      <th></th>\n",
       "      <th>AdmissionID</th>\n",
       "      <th>LabName</th>\n",
       "      <th>LabValue</th>\n",
       "      <th>LabUnits</th>\n",
       "      <th>LabDateTime</th>\n",
       "    </tr>\n",
       "    <tr>\n",
       "      <th>PatientID</th>\n",
       "      <th></th>\n",
       "      <th></th>\n",
       "      <th></th>\n",
       "      <th></th>\n",
       "      <th></th>\n",
       "    </tr>\n",
       "  </thead>\n",
       "  <tbody>\n",
       "    <tr>\n",
       "      <th>1A8791E3-A61C-455A-8DEE-763EB90C9B2C</th>\n",
       "      <td>1</td>\n",
       "      <td>URINALYSIS: RED BLOOD CELLS</td>\n",
       "      <td>1.8</td>\n",
       "      <td>rbc/hpf</td>\n",
       "      <td>1992-07-01 01:36:17.910</td>\n",
       "    </tr>\n",
       "    <tr>\n",
       "      <th>1A8791E3-A61C-455A-8DEE-763EB90C9B2C</th>\n",
       "      <td>1</td>\n",
       "      <td>METABOLIC: GLUCOSE</td>\n",
       "      <td>103.3</td>\n",
       "      <td>mg/dL</td>\n",
       "      <td>1992-06-30 09:35:52.383</td>\n",
       "    </tr>\n",
       "    <tr>\n",
       "      <th>1A8791E3-A61C-455A-8DEE-763EB90C9B2C</th>\n",
       "      <td>1</td>\n",
       "      <td>CBC: MCH</td>\n",
       "      <td>35.8</td>\n",
       "      <td>pg</td>\n",
       "      <td>1992-06-30 03:50:11.777</td>\n",
       "    </tr>\n",
       "    <tr>\n",
       "      <th>1A8791E3-A61C-455A-8DEE-763EB90C9B2C</th>\n",
       "      <td>1</td>\n",
       "      <td>METABOLIC: CALCIUM</td>\n",
       "      <td>8.9</td>\n",
       "      <td>mg/dL</td>\n",
       "      <td>1992-06-30 12:09:46.107</td>\n",
       "    </tr>\n",
       "    <tr>\n",
       "      <th>1A8791E3-A61C-455A-8DEE-763EB90C9B2C</th>\n",
       "      <td>1</td>\n",
       "      <td>CBC: RED BLOOD CELL COUNT</td>\n",
       "      <td>4.8</td>\n",
       "      <td>m/cumm</td>\n",
       "      <td>1992-07-01 01:31:08.677</td>\n",
       "    </tr>\n",
       "    <tr>\n",
       "      <th>...</th>\n",
       "      <td>...</td>\n",
       "      <td>...</td>\n",
       "      <td>...</td>\n",
       "      <td>...</td>\n",
       "      <td>...</td>\n",
       "    </tr>\n",
       "    <tr>\n",
       "      <th>F0B53A2C-98CA-415D-B928-E3FD0E52B22A</th>\n",
       "      <td>6</td>\n",
       "      <td>CBC: HEMOGLOBIN</td>\n",
       "      <td>13.6</td>\n",
       "      <td>gm/dl</td>\n",
       "      <td>2012-04-21 03:23:50.883</td>\n",
       "    </tr>\n",
       "    <tr>\n",
       "      <th>F0B53A2C-98CA-415D-B928-E3FD0E52B22A</th>\n",
       "      <td>6</td>\n",
       "      <td>CBC: MCH</td>\n",
       "      <td>26.2</td>\n",
       "      <td>pg</td>\n",
       "      <td>2012-04-21 03:18:44.127</td>\n",
       "    </tr>\n",
       "    <tr>\n",
       "      <th>F0B53A2C-98CA-415D-B928-E3FD0E52B22A</th>\n",
       "      <td>6</td>\n",
       "      <td>METABOLIC: CHLORIDE</td>\n",
       "      <td>104.4</td>\n",
       "      <td>mmol/L</td>\n",
       "      <td>2012-04-21 02:58:57.840</td>\n",
       "    </tr>\n",
       "    <tr>\n",
       "      <th>F0B53A2C-98CA-415D-B928-E3FD0E52B22A</th>\n",
       "      <td>6</td>\n",
       "      <td>METABOLIC: GLUCOSE</td>\n",
       "      <td>63.3</td>\n",
       "      <td>mg/dL</td>\n",
       "      <td>2012-04-21 02:50:04.503</td>\n",
       "    </tr>\n",
       "    <tr>\n",
       "      <th>F0B53A2C-98CA-415D-B928-E3FD0E52B22A</th>\n",
       "      <td>6</td>\n",
       "      <td>CBC: MCHC</td>\n",
       "      <td>38.6</td>\n",
       "      <td>g/dl</td>\n",
       "      <td>2012-04-21 03:27:10.293</td>\n",
       "    </tr>\n",
       "  </tbody>\n",
       "</table>\n",
       "<p>111483 rows × 5 columns</p>\n",
       "</div>"
      ],
      "text/plain": [
       "                                      AdmissionID  \\\n",
       "PatientID                                           \n",
       "1A8791E3-A61C-455A-8DEE-763EB90C9B2C            1   \n",
       "1A8791E3-A61C-455A-8DEE-763EB90C9B2C            1   \n",
       "1A8791E3-A61C-455A-8DEE-763EB90C9B2C            1   \n",
       "1A8791E3-A61C-455A-8DEE-763EB90C9B2C            1   \n",
       "1A8791E3-A61C-455A-8DEE-763EB90C9B2C            1   \n",
       "...                                           ...   \n",
       "F0B53A2C-98CA-415D-B928-E3FD0E52B22A            6   \n",
       "F0B53A2C-98CA-415D-B928-E3FD0E52B22A            6   \n",
       "F0B53A2C-98CA-415D-B928-E3FD0E52B22A            6   \n",
       "F0B53A2C-98CA-415D-B928-E3FD0E52B22A            6   \n",
       "F0B53A2C-98CA-415D-B928-E3FD0E52B22A            6   \n",
       "\n",
       "                                                          LabName  LabValue  \\\n",
       "PatientID                                                                     \n",
       "1A8791E3-A61C-455A-8DEE-763EB90C9B2C  URINALYSIS: RED BLOOD CELLS       1.8   \n",
       "1A8791E3-A61C-455A-8DEE-763EB90C9B2C           METABOLIC: GLUCOSE     103.3   \n",
       "1A8791E3-A61C-455A-8DEE-763EB90C9B2C                     CBC: MCH      35.8   \n",
       "1A8791E3-A61C-455A-8DEE-763EB90C9B2C           METABOLIC: CALCIUM       8.9   \n",
       "1A8791E3-A61C-455A-8DEE-763EB90C9B2C    CBC: RED BLOOD CELL COUNT       4.8   \n",
       "...                                                           ...       ...   \n",
       "F0B53A2C-98CA-415D-B928-E3FD0E52B22A              CBC: HEMOGLOBIN      13.6   \n",
       "F0B53A2C-98CA-415D-B928-E3FD0E52B22A                     CBC: MCH      26.2   \n",
       "F0B53A2C-98CA-415D-B928-E3FD0E52B22A          METABOLIC: CHLORIDE     104.4   \n",
       "F0B53A2C-98CA-415D-B928-E3FD0E52B22A           METABOLIC: GLUCOSE      63.3   \n",
       "F0B53A2C-98CA-415D-B928-E3FD0E52B22A                    CBC: MCHC      38.6   \n",
       "\n",
       "                                     LabUnits              LabDateTime  \n",
       "PatientID                                                               \n",
       "1A8791E3-A61C-455A-8DEE-763EB90C9B2C  rbc/hpf  1992-07-01 01:36:17.910  \n",
       "1A8791E3-A61C-455A-8DEE-763EB90C9B2C    mg/dL  1992-06-30 09:35:52.383  \n",
       "1A8791E3-A61C-455A-8DEE-763EB90C9B2C       pg  1992-06-30 03:50:11.777  \n",
       "1A8791E3-A61C-455A-8DEE-763EB90C9B2C    mg/dL  1992-06-30 12:09:46.107  \n",
       "1A8791E3-A61C-455A-8DEE-763EB90C9B2C   m/cumm  1992-07-01 01:31:08.677  \n",
       "...                                       ...                      ...  \n",
       "F0B53A2C-98CA-415D-B928-E3FD0E52B22A    gm/dl  2012-04-21 03:23:50.883  \n",
       "F0B53A2C-98CA-415D-B928-E3FD0E52B22A       pg  2012-04-21 03:18:44.127  \n",
       "F0B53A2C-98CA-415D-B928-E3FD0E52B22A   mmol/L  2012-04-21 02:58:57.840  \n",
       "F0B53A2C-98CA-415D-B928-E3FD0E52B22A    mg/dL  2012-04-21 02:50:04.503  \n",
       "F0B53A2C-98CA-415D-B928-E3FD0E52B22A     g/dl  2012-04-21 03:27:10.293  \n",
       "\n",
       "[111483 rows x 5 columns]"
      ]
     },
     "execution_count": 3,
     "metadata": {},
     "output_type": "execute_result"
    }
   ],
   "source": [
    "# 1) \n",
    "admiss_core, \n",
    "patient_core\n",
    "labs_core"
   ]
  },
  {
   "cell_type": "code",
   "execution_count": 21,
   "metadata": {},
   "outputs": [],
   "source": [
    "# Dates!"
   ]
  },
  {
   "cell_type": "code",
   "execution_count": 4,
   "metadata": {},
   "outputs": [],
   "source": [
    "##################################################################################################################\n",
    "#\n",
    "# YouDo: Notice that there are many columns with dates, but pandas assumed they're strings\n",
    "#\n",
    "#        1) use the pd.to_datetime() method to transform all of the time columns to have type datetime\n",
    "#            # stretch goal:  do it in a loop based on the string 'Date' appearing in the column name\n",
    "#\n",
    "# Show the type\n",
    "def convert_cols_to_datetime(df):\n",
    "    for col in df:\n",
    "        if \"date\" in col.lower() and type(df[col]) is not np.dtype('datetime64[ns]'):\n",
    "            df[col] = pd.to_datetime(df[col])\n",
    "  "
   ]
  },
  {
   "cell_type": "code",
   "execution_count": 5,
   "metadata": {},
   "outputs": [],
   "source": [
    "\n",
    "# 1) \n",
    "convert_cols_to_datetime(admiss_core)\n",
    "convert_cols_to_datetime(admiss_diag_core)\n",
    "convert_cols_to_datetime(patient_core)\n",
    "convert_cols_to_datetime(labs_core)"
   ]
  },
  {
   "cell_type": "code",
   "execution_count": 6,
   "metadata": {},
   "outputs": [
    {
     "data": {
      "text/plain": [
       "Timedelta('5 days 10:14:56.766000')"
      ]
     },
     "execution_count": 6,
     "metadata": {},
     "output_type": "execute_result"
    }
   ],
   "source": [
    "admiss_core.iloc[3]['AdmissionEndDate']-admiss_core.iloc[3]['AdmissionStartDate']"
   ]
  },
  {
   "cell_type": "code",
   "execution_count": 7,
   "metadata": {},
   "outputs": [
    {
     "data": {
      "text/html": [
       "<div>\n",
       "<style scoped>\n",
       "    .dataframe tbody tr th:only-of-type {\n",
       "        vertical-align: middle;\n",
       "    }\n",
       "\n",
       "    .dataframe tbody tr th {\n",
       "        vertical-align: top;\n",
       "    }\n",
       "\n",
       "    .dataframe thead th {\n",
       "        text-align: right;\n",
       "    }\n",
       "</style>\n",
       "<table border=\"1\" class=\"dataframe\">\n",
       "  <thead>\n",
       "    <tr style=\"text-align: right;\">\n",
       "      <th></th>\n",
       "      <th>AdmissionID</th>\n",
       "      <th>AdmissionStartDate</th>\n",
       "      <th>AdmissionEndDate</th>\n",
       "    </tr>\n",
       "    <tr>\n",
       "      <th>PatientID</th>\n",
       "      <th></th>\n",
       "      <th></th>\n",
       "      <th></th>\n",
       "    </tr>\n",
       "  </thead>\n",
       "  <tbody>\n",
       "    <tr>\n",
       "      <th>7A025E77-7832-4F53-B9A7-09A3F98AC17E</th>\n",
       "      <td>7</td>\n",
       "      <td>2011-10-12 14:55:02.027</td>\n",
       "      <td>2011-10-22 01:16:07.557</td>\n",
       "    </tr>\n",
       "    <tr>\n",
       "      <th>7A025E77-7832-4F53-B9A7-09A3F98AC17E</th>\n",
       "      <td>1</td>\n",
       "      <td>1978-06-29 07:29:11.593</td>\n",
       "      <td>1978-07-10 04:05:51.787</td>\n",
       "    </tr>\n",
       "    <tr>\n",
       "      <th>7A025E77-7832-4F53-B9A7-09A3F98AC17E</th>\n",
       "      <td>2</td>\n",
       "      <td>1982-10-14 07:01:43.613</td>\n",
       "      <td>1982-10-21 16:44:00.310</td>\n",
       "    </tr>\n",
       "    <tr>\n",
       "      <th>7A025E77-7832-4F53-B9A7-09A3F98AC17E</th>\n",
       "      <td>3</td>\n",
       "      <td>1990-02-23 04:28:34.457</td>\n",
       "      <td>1990-03-13 15:55:29.837</td>\n",
       "    </tr>\n",
       "    <tr>\n",
       "      <th>7A025E77-7832-4F53-B9A7-09A3F98AC17E</th>\n",
       "      <td>4</td>\n",
       "      <td>1994-05-15 11:34:00.840</td>\n",
       "      <td>1994-05-19 23:04:04.877</td>\n",
       "    </tr>\n",
       "    <tr>\n",
       "      <th>7A025E77-7832-4F53-B9A7-09A3F98AC17E</th>\n",
       "      <td>5</td>\n",
       "      <td>2001-01-10 11:04:58.943</td>\n",
       "      <td>2001-01-27 00:54:18.730</td>\n",
       "    </tr>\n",
       "    <tr>\n",
       "      <th>7A025E77-7832-4F53-B9A7-09A3F98AC17E</th>\n",
       "      <td>6</td>\n",
       "      <td>2001-12-29 20:28:01.050</td>\n",
       "      <td>2002-01-18 18:16:04.423</td>\n",
       "    </tr>\n",
       "  </tbody>\n",
       "</table>\n",
       "</div>"
      ],
      "text/plain": [
       "                                      AdmissionID      AdmissionStartDate  \\\n",
       "PatientID                                                                   \n",
       "7A025E77-7832-4F53-B9A7-09A3F98AC17E            7 2011-10-12 14:55:02.027   \n",
       "7A025E77-7832-4F53-B9A7-09A3F98AC17E            1 1978-06-29 07:29:11.593   \n",
       "7A025E77-7832-4F53-B9A7-09A3F98AC17E            2 1982-10-14 07:01:43.613   \n",
       "7A025E77-7832-4F53-B9A7-09A3F98AC17E            3 1990-02-23 04:28:34.457   \n",
       "7A025E77-7832-4F53-B9A7-09A3F98AC17E            4 1994-05-15 11:34:00.840   \n",
       "7A025E77-7832-4F53-B9A7-09A3F98AC17E            5 2001-01-10 11:04:58.943   \n",
       "7A025E77-7832-4F53-B9A7-09A3F98AC17E            6 2001-12-29 20:28:01.050   \n",
       "\n",
       "                                            AdmissionEndDate  \n",
       "PatientID                                                     \n",
       "7A025E77-7832-4F53-B9A7-09A3F98AC17E 2011-10-22 01:16:07.557  \n",
       "7A025E77-7832-4F53-B9A7-09A3F98AC17E 1978-07-10 04:05:51.787  \n",
       "7A025E77-7832-4F53-B9A7-09A3F98AC17E 1982-10-21 16:44:00.310  \n",
       "7A025E77-7832-4F53-B9A7-09A3F98AC17E 1990-03-13 15:55:29.837  \n",
       "7A025E77-7832-4F53-B9A7-09A3F98AC17E 1994-05-19 23:04:04.877  \n",
       "7A025E77-7832-4F53-B9A7-09A3F98AC17E 2001-01-27 00:54:18.730  \n",
       "7A025E77-7832-4F53-B9A7-09A3F98AC17E 2002-01-18 18:16:04.423  "
      ]
     },
     "execution_count": 7,
     "metadata": {},
     "output_type": "execute_result"
    }
   ],
   "source": [
    "# As is typical in complex data sets, informtion about each patient is broken up into several different\n",
    "# tables, cross-referenced by a patient id\n",
    "##################################################################################################################\n",
    "#\n",
    "# YouDo: Print out the records from each of the four tables for patient number\n",
    "# 7A025E77-7832-4F53-B9A7-09A3F98AC17E\t\n",
    "pid='7A025E77-7832-4F53-B9A7-09A3F98AC17E'\n",
    "admiss_core.loc[admiss_core.index==pid]\n",
    "#admiss_core\n"
   ]
  },
  {
   "cell_type": "code",
   "execution_count": 8,
   "metadata": {},
   "outputs": [
    {
     "data": {
      "text/html": [
       "<div>\n",
       "<style scoped>\n",
       "    .dataframe tbody tr th:only-of-type {\n",
       "        vertical-align: middle;\n",
       "    }\n",
       "\n",
       "    .dataframe tbody tr th {\n",
       "        vertical-align: top;\n",
       "    }\n",
       "\n",
       "    .dataframe thead th {\n",
       "        text-align: right;\n",
       "    }\n",
       "</style>\n",
       "<table border=\"1\" class=\"dataframe\">\n",
       "  <thead>\n",
       "    <tr style=\"text-align: right;\">\n",
       "      <th></th>\n",
       "      <th>AdmissionID</th>\n",
       "      <th>LabName</th>\n",
       "      <th>LabValue</th>\n",
       "      <th>LabUnits</th>\n",
       "      <th>LabDateTime</th>\n",
       "    </tr>\n",
       "    <tr>\n",
       "      <th>PatientID</th>\n",
       "      <th></th>\n",
       "      <th></th>\n",
       "      <th></th>\n",
       "      <th></th>\n",
       "      <th></th>\n",
       "    </tr>\n",
       "  </thead>\n",
       "  <tbody>\n",
       "    <tr>\n",
       "      <th>7A025E77-7832-4F53-B9A7-09A3F98AC17E</th>\n",
       "      <td>1</td>\n",
       "      <td>METABOLIC: CARBON DIOXIDE</td>\n",
       "      <td>20.9</td>\n",
       "      <td>mmol/L</td>\n",
       "      <td>1978-06-29 22:56:25.430</td>\n",
       "    </tr>\n",
       "    <tr>\n",
       "      <th>7A025E77-7832-4F53-B9A7-09A3F98AC17E</th>\n",
       "      <td>1</td>\n",
       "      <td>METABOLIC: BILI TOTAL</td>\n",
       "      <td>0.3</td>\n",
       "      <td>mg/dL</td>\n",
       "      <td>1978-06-30 00:55:28.273</td>\n",
       "    </tr>\n",
       "    <tr>\n",
       "      <th>7A025E77-7832-4F53-B9A7-09A3F98AC17E</th>\n",
       "      <td>1</td>\n",
       "      <td>METABOLIC: CALCIUM</td>\n",
       "      <td>7.4</td>\n",
       "      <td>mg/dL</td>\n",
       "      <td>1978-06-30 07:11:48.760</td>\n",
       "    </tr>\n",
       "    <tr>\n",
       "      <th>7A025E77-7832-4F53-B9A7-09A3F98AC17E</th>\n",
       "      <td>1</td>\n",
       "      <td>CBC: NEUTROPHILS</td>\n",
       "      <td>2.8</td>\n",
       "      <td>k/cumm</td>\n",
       "      <td>1978-06-30 00:01:24.477</td>\n",
       "    </tr>\n",
       "    <tr>\n",
       "      <th>7A025E77-7832-4F53-B9A7-09A3F98AC17E</th>\n",
       "      <td>1</td>\n",
       "      <td>CBC: MCHC</td>\n",
       "      <td>32.2</td>\n",
       "      <td>g/dl</td>\n",
       "      <td>1978-06-30 04:33:20.790</td>\n",
       "    </tr>\n",
       "    <tr>\n",
       "      <th>...</th>\n",
       "      <td>...</td>\n",
       "      <td>...</td>\n",
       "      <td>...</td>\n",
       "      <td>...</td>\n",
       "      <td>...</td>\n",
       "    </tr>\n",
       "    <tr>\n",
       "      <th>7A025E77-7832-4F53-B9A7-09A3F98AC17E</th>\n",
       "      <td>7</td>\n",
       "      <td>METABOLIC: ALT/SGPT</td>\n",
       "      <td>65.9</td>\n",
       "      <td>U/L</td>\n",
       "      <td>2011-10-21 22:37:12.087</td>\n",
       "    </tr>\n",
       "    <tr>\n",
       "      <th>7A025E77-7832-4F53-B9A7-09A3F98AC17E</th>\n",
       "      <td>7</td>\n",
       "      <td>CBC: HEMOGLOBIN</td>\n",
       "      <td>11.6</td>\n",
       "      <td>gm/dl</td>\n",
       "      <td>2011-10-22 00:25:12.860</td>\n",
       "    </tr>\n",
       "    <tr>\n",
       "      <th>7A025E77-7832-4F53-B9A7-09A3F98AC17E</th>\n",
       "      <td>7</td>\n",
       "      <td>CBC: RDW</td>\n",
       "      <td>14.7</td>\n",
       "      <td>%</td>\n",
       "      <td>2011-10-21 21:29:42.703</td>\n",
       "    </tr>\n",
       "    <tr>\n",
       "      <th>7A025E77-7832-4F53-B9A7-09A3F98AC17E</th>\n",
       "      <td>7</td>\n",
       "      <td>CBC: HEMATOCRIT</td>\n",
       "      <td>30.3</td>\n",
       "      <td>%</td>\n",
       "      <td>2011-10-22 00:17:18.873</td>\n",
       "    </tr>\n",
       "    <tr>\n",
       "      <th>7A025E77-7832-4F53-B9A7-09A3F98AC17E</th>\n",
       "      <td>7</td>\n",
       "      <td>URINALYSIS: PH</td>\n",
       "      <td>5.2</td>\n",
       "      <td>no unit</td>\n",
       "      <td>2011-10-21 22:45:20.057</td>\n",
       "    </tr>\n",
       "  </tbody>\n",
       "</table>\n",
       "<p>2259 rows × 5 columns</p>\n",
       "</div>"
      ],
      "text/plain": [
       "                                      AdmissionID                    LabName  \\\n",
       "PatientID                                                                      \n",
       "7A025E77-7832-4F53-B9A7-09A3F98AC17E            1  METABOLIC: CARBON DIOXIDE   \n",
       "7A025E77-7832-4F53-B9A7-09A3F98AC17E            1      METABOLIC: BILI TOTAL   \n",
       "7A025E77-7832-4F53-B9A7-09A3F98AC17E            1         METABOLIC: CALCIUM   \n",
       "7A025E77-7832-4F53-B9A7-09A3F98AC17E            1           CBC: NEUTROPHILS   \n",
       "7A025E77-7832-4F53-B9A7-09A3F98AC17E            1                  CBC: MCHC   \n",
       "...                                           ...                        ...   \n",
       "7A025E77-7832-4F53-B9A7-09A3F98AC17E            7        METABOLIC: ALT/SGPT   \n",
       "7A025E77-7832-4F53-B9A7-09A3F98AC17E            7            CBC: HEMOGLOBIN   \n",
       "7A025E77-7832-4F53-B9A7-09A3F98AC17E            7                   CBC: RDW   \n",
       "7A025E77-7832-4F53-B9A7-09A3F98AC17E            7            CBC: HEMATOCRIT   \n",
       "7A025E77-7832-4F53-B9A7-09A3F98AC17E            7             URINALYSIS: PH   \n",
       "\n",
       "                                      LabValue LabUnits  \\\n",
       "PatientID                                                 \n",
       "7A025E77-7832-4F53-B9A7-09A3F98AC17E      20.9   mmol/L   \n",
       "7A025E77-7832-4F53-B9A7-09A3F98AC17E       0.3    mg/dL   \n",
       "7A025E77-7832-4F53-B9A7-09A3F98AC17E       7.4    mg/dL   \n",
       "7A025E77-7832-4F53-B9A7-09A3F98AC17E       2.8   k/cumm   \n",
       "7A025E77-7832-4F53-B9A7-09A3F98AC17E      32.2     g/dl   \n",
       "...                                        ...      ...   \n",
       "7A025E77-7832-4F53-B9A7-09A3F98AC17E      65.9      U/L   \n",
       "7A025E77-7832-4F53-B9A7-09A3F98AC17E      11.6    gm/dl   \n",
       "7A025E77-7832-4F53-B9A7-09A3F98AC17E      14.7        %   \n",
       "7A025E77-7832-4F53-B9A7-09A3F98AC17E      30.3        %   \n",
       "7A025E77-7832-4F53-B9A7-09A3F98AC17E       5.2  no unit   \n",
       "\n",
       "                                                 LabDateTime  \n",
       "PatientID                                                     \n",
       "7A025E77-7832-4F53-B9A7-09A3F98AC17E 1978-06-29 22:56:25.430  \n",
       "7A025E77-7832-4F53-B9A7-09A3F98AC17E 1978-06-30 00:55:28.273  \n",
       "7A025E77-7832-4F53-B9A7-09A3F98AC17E 1978-06-30 07:11:48.760  \n",
       "7A025E77-7832-4F53-B9A7-09A3F98AC17E 1978-06-30 00:01:24.477  \n",
       "7A025E77-7832-4F53-B9A7-09A3F98AC17E 1978-06-30 04:33:20.790  \n",
       "...                                                      ...  \n",
       "7A025E77-7832-4F53-B9A7-09A3F98AC17E 2011-10-21 22:37:12.087  \n",
       "7A025E77-7832-4F53-B9A7-09A3F98AC17E 2011-10-22 00:25:12.860  \n",
       "7A025E77-7832-4F53-B9A7-09A3F98AC17E 2011-10-21 21:29:42.703  \n",
       "7A025E77-7832-4F53-B9A7-09A3F98AC17E 2011-10-22 00:17:18.873  \n",
       "7A025E77-7832-4F53-B9A7-09A3F98AC17E 2011-10-21 22:45:20.057  \n",
       "\n",
       "[2259 rows x 5 columns]"
      ]
     },
     "execution_count": 8,
     "metadata": {},
     "output_type": "execute_result"
    }
   ],
   "source": [
    "labs_core.loc[labs_core.index==pid]\n"
   ]
  },
  {
   "cell_type": "code",
   "execution_count": 9,
   "metadata": {},
   "outputs": [],
   "source": [
    "# SQL-like joins\n",
    "jdf =  patient_core.join(labs_core, how='left')\n"
   ]
  },
  {
   "cell_type": "code",
   "execution_count": 10,
   "metadata": {},
   "outputs": [
    {
     "data": {
      "text/plain": [
       "((111483, 11), (100, 6), (111483, 5))"
      ]
     },
     "execution_count": 10,
     "metadata": {},
     "output_type": "execute_result"
    }
   ],
   "source": [
    "jdf.shape, patient_core.shape, labs_core.shape"
   ]
  },
  {
   "cell_type": "code",
   "execution_count": 11,
   "metadata": {},
   "outputs": [
    {
     "name": "stdout",
     "output_type": "stream",
     "text": [
      "Stats on Number of Labs per Patient\n",
      "Number of each lab\n"
     ]
    }
   ],
   "source": [
    "# Holy cow!  this patient has lots of lab results in her record\n",
    "# This is synthetic data, so it's bound to have weird things.  Is that normal in this data?\n",
    "##################################################################################################################\n",
    "#\n",
    "# You do:\n",
    "#   1) Compute the average & standard deviation of number of labs per patient.\n",
    "#         hint:  Consider pd.groupby()\n",
    "#\n",
    "print(\"Stats on Number of Labs per Patient\")\n",
    "#print(...)\n",
    "\n",
    "#   2) Compute a list of each lab and how many orders for that lab are in the data frame\n",
    "#    \n",
    "\n",
    "print(\"Number of each lab\")\n",
    "#print(...)"
   ]
  },
  {
   "cell_type": "code",
   "execution_count": null,
   "metadata": {
    "scrolled": true
   },
   "outputs": [],
   "source": []
  },
  {
   "cell_type": "code",
   "execution_count": null,
   "metadata": {},
   "outputs": [],
   "source": []
  },
  {
   "cell_type": "code",
   "execution_count": 18,
   "metadata": {},
   "outputs": [
    {
     "name": "stdout",
     "output_type": "stream",
     "text": [
      "Patient with the most labs: Discover it!\n"
     ]
    }
   ],
   "source": [
    "# It seems that this data set has the same patient getting the same labs perhaps dozens of times.\n",
    "# Lets make a visualization of one of the time vs. one of the lab values for a specific patient.\n",
    "##################################################################################################################\n",
    "#\n",
    "# You do:\n",
    "#   1) Find the patient/lab combination with the most labs taken\n",
    "\n",
    "\n",
    "pt_most_labs=\"Discover it!\"\n",
    "\n",
    "print(f\"Patient with the most labs: {pt_most_labs}\")\n",
    "\n",
    "#   2) For the most-measured patient/lab combination, make a time vs lab-value plot\n",
    "#    Hint:  you can \"group by\" multiple columns"
   ]
  },
  {
   "cell_type": "code",
   "execution_count": 19,
   "metadata": {},
   "outputs": [],
   "source": [
    "# 1) \n",
    "#jdf.groupby(['PatientID','LabName']).size().sort_values()\n"
   ]
  },
  {
   "cell_type": "code",
   "execution_count": 13,
   "metadata": {},
   "outputs": [],
   "source": [
    "thebusypatient = '' # put patient ID here\n",
    "thebusylab = '' #put the lab name here\n",
    "subdf = jdf.loc[(jdf.index==thebusypatient) & (jdf.LabName.str.startswith(thebusylab))]"
   ]
  },
  {
   "cell_type": "code",
   "execution_count": 17,
   "metadata": {},
   "outputs": [],
   "source": [
    "# 2) \n",
    "%matplotlib widget\n",
    "#dts = ...\n",
    "#vls = ...\n",
    "\n",
    "#plt.figure()\n",
    "#plt.plot(dts, vls)"
   ]
  },
  {
   "cell_type": "code",
   "execution_count": 266,
   "metadata": {},
   "outputs": [],
   "source": [
    "##################################################################################################################\n",
    "#\n",
    "# You do:\n",
    "#   Closely inspect the plot you made.  \n",
    "#\n",
    "# 1) In order to compare this to another data set, your PI wants to know what the lab value was on August 6, 1985.  \n",
    "#    What would you tell him/her (including all caveats)?\n",
    "#\n",
    "# 2) How about the value for December 14, 1991?"
   ]
  },
  {
   "cell_type": "code",
   "execution_count": null,
   "metadata": {},
   "outputs": [],
   "source": []
  }
 ],
 "metadata": {
  "kernelspec": {
   "display_name": "Python 3 (ipykernel)",
   "language": "python",
   "name": "python3"
  },
  "language_info": {
   "codemirror_mode": {
    "name": "ipython",
    "version": 3
   },
   "file_extension": ".py",
   "mimetype": "text/x-python",
   "name": "python",
   "nbconvert_exporter": "python",
   "pygments_lexer": "ipython3",
   "version": "3.11.5"
  }
 },
 "nbformat": 4,
 "nbformat_minor": 4
}
