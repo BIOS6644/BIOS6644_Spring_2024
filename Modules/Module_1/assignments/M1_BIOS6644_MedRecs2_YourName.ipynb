{
 "cells": [
  {
   "cell_type": "code",
   "execution_count": null,
   "metadata": {},
   "outputs": [],
   "source": [
    "##########################################################################################\n",
    "#                                                                                        #\n",
    "#  888888b.  8888888 .d88888b.   .d8888b.     .d8888b.   .d8888b.      d8888      d8888  #\n",
    "#  888  \"88b   888  d88P\" \"Y88b d88P  Y88b   d88P  Y88b d88P  Y88b    d8P888     d8P888  #\n",
    "#  888  .88P   888  888     888 Y88b.        888        888          d8P 888    d8P 888  #\n",
    "#  8888888K.   888  888     888  \"Y888b.     888d888b.  888d888b.   d8P  888   d8P  888  #\n",
    "#  888  \"Y88b  888  888     888     \"Y88b.   888P \"Y88b 888P \"Y88b d88   888  d88   888  #\n",
    "#  888    888  888  888     888       \"888   888    888 888    888 8888888888 8888888888 #\n",
    "#  888   d88P  888  Y88b. .d88P Y88b  d88P   Y88b  d88P Y88b  d88P       888        888  #\n",
    "#  8888888P\" 8888888 \"Y88888P\"   \"Y8888P\"     \"Y8888P\"   \"Y8888P\"        888        888  #\n",
    "#                                                                                        # \n",
    "##########################################################################################\n",
    "#\n",
    "# Wrangle Synthetic Medical Record Data, again\n",
    "#\n",
    "##########################################################################################"
   ]
  },
  {
   "cell_type": "markdown",
   "metadata": {},
   "source": [
    "## Fetch data\n",
    "\n",
    "https://github.com/ishaghodgaonkar/emrbots/blob/master/100-Patients.zip\n",
    "\n",
    "unzip it into the Data folder"
   ]
  },
  {
   "cell_type": "code",
   "execution_count": 2,
   "metadata": {},
   "outputs": [],
   "source": [
    "import pandas as pd\n",
    "import pylab as plt\n",
    "import numpy as np\n",
    "import datetime as dt"
   ]
  },
  {
   "cell_type": "code",
   "execution_count": 3,
   "metadata": {},
   "outputs": [],
   "source": [
    "# Import the data\n",
    "admiss_core = pd.read_csv(\"../data/AdmissionsCorePopulatedTable.txt\",sep=\"\\t\",index_col=\"PatientID\")\n",
    "admiss_diag_core = pd.read_csv(\"../data/AdmissionsDiagnosesCorePopulatedTable.txt\",sep=\"\\t\",index_col=\"PatientID\")\n",
    "patient_core = pd.read_csv(\"../data/PatientCorePopulatedTable.txt\",sep=\"\\t\",index_col=\"PatientID\")\n",
    "labs_core = pd.read_csv(\"../data/LabsCorePopulatedTable.txt\",sep=\"\\t\",index_col=\"PatientID\")"
   ]
  },
  {
   "cell_type": "markdown",
   "metadata": {},
   "source": [
    "\n"
   ]
  },
  {
   "cell_type": "code",
   "execution_count": 57,
   "metadata": {},
   "outputs": [
    {
     "data": {
      "text/html": [
       "<div>\n",
       "<style scoped>\n",
       "    .dataframe tbody tr th:only-of-type {\n",
       "        vertical-align: middle;\n",
       "    }\n",
       "\n",
       "    .dataframe tbody tr th {\n",
       "        vertical-align: top;\n",
       "    }\n",
       "\n",
       "    .dataframe thead th {\n",
       "        text-align: right;\n",
       "    }\n",
       "</style>\n",
       "<table border=\"1\" class=\"dataframe\">\n",
       "  <thead>\n",
       "    <tr style=\"text-align: right;\">\n",
       "      <th></th>\n",
       "      <th>AdmissionID</th>\n",
       "      <th>LabName</th>\n",
       "      <th>LabValue</th>\n",
       "      <th>LabUnits</th>\n",
       "      <th>LabDateTime</th>\n",
       "    </tr>\n",
       "    <tr>\n",
       "      <th>PatientID</th>\n",
       "      <th></th>\n",
       "      <th></th>\n",
       "      <th></th>\n",
       "      <th></th>\n",
       "      <th></th>\n",
       "    </tr>\n",
       "  </thead>\n",
       "  <tbody>\n",
       "    <tr>\n",
       "      <th>1A8791E3-A61C-455A-8DEE-763EB90C9B2C</th>\n",
       "      <td>1</td>\n",
       "      <td>URINALYSIS: RED BLOOD CELLS</td>\n",
       "      <td>1.8</td>\n",
       "      <td>rbc/hpf</td>\n",
       "      <td>1992-07-01 01:36:17.910</td>\n",
       "    </tr>\n",
       "    <tr>\n",
       "      <th>1A8791E3-A61C-455A-8DEE-763EB90C9B2C</th>\n",
       "      <td>1</td>\n",
       "      <td>METABOLIC: GLUCOSE</td>\n",
       "      <td>103.3</td>\n",
       "      <td>mg/dL</td>\n",
       "      <td>1992-06-30 09:35:52.383</td>\n",
       "    </tr>\n",
       "    <tr>\n",
       "      <th>1A8791E3-A61C-455A-8DEE-763EB90C9B2C</th>\n",
       "      <td>1</td>\n",
       "      <td>CBC: MCH</td>\n",
       "      <td>35.8</td>\n",
       "      <td>pg</td>\n",
       "      <td>1992-06-30 03:50:11.777</td>\n",
       "    </tr>\n",
       "    <tr>\n",
       "      <th>1A8791E3-A61C-455A-8DEE-763EB90C9B2C</th>\n",
       "      <td>1</td>\n",
       "      <td>METABOLIC: CALCIUM</td>\n",
       "      <td>8.9</td>\n",
       "      <td>mg/dL</td>\n",
       "      <td>1992-06-30 12:09:46.107</td>\n",
       "    </tr>\n",
       "    <tr>\n",
       "      <th>1A8791E3-A61C-455A-8DEE-763EB90C9B2C</th>\n",
       "      <td>1</td>\n",
       "      <td>CBC: RED BLOOD CELL COUNT</td>\n",
       "      <td>4.8</td>\n",
       "      <td>m/cumm</td>\n",
       "      <td>1992-07-01 01:31:08.677</td>\n",
       "    </tr>\n",
       "    <tr>\n",
       "      <th>...</th>\n",
       "      <td>...</td>\n",
       "      <td>...</td>\n",
       "      <td>...</td>\n",
       "      <td>...</td>\n",
       "      <td>...</td>\n",
       "    </tr>\n",
       "    <tr>\n",
       "      <th>F0B53A2C-98CA-415D-B928-E3FD0E52B22A</th>\n",
       "      <td>6</td>\n",
       "      <td>CBC: HEMOGLOBIN</td>\n",
       "      <td>13.6</td>\n",
       "      <td>gm/dl</td>\n",
       "      <td>2012-04-21 03:23:50.883</td>\n",
       "    </tr>\n",
       "    <tr>\n",
       "      <th>F0B53A2C-98CA-415D-B928-E3FD0E52B22A</th>\n",
       "      <td>6</td>\n",
       "      <td>CBC: MCH</td>\n",
       "      <td>26.2</td>\n",
       "      <td>pg</td>\n",
       "      <td>2012-04-21 03:18:44.127</td>\n",
       "    </tr>\n",
       "    <tr>\n",
       "      <th>F0B53A2C-98CA-415D-B928-E3FD0E52B22A</th>\n",
       "      <td>6</td>\n",
       "      <td>METABOLIC: CHLORIDE</td>\n",
       "      <td>104.4</td>\n",
       "      <td>mmol/L</td>\n",
       "      <td>2012-04-21 02:58:57.840</td>\n",
       "    </tr>\n",
       "    <tr>\n",
       "      <th>F0B53A2C-98CA-415D-B928-E3FD0E52B22A</th>\n",
       "      <td>6</td>\n",
       "      <td>METABOLIC: GLUCOSE</td>\n",
       "      <td>63.3</td>\n",
       "      <td>mg/dL</td>\n",
       "      <td>2012-04-21 02:50:04.503</td>\n",
       "    </tr>\n",
       "    <tr>\n",
       "      <th>F0B53A2C-98CA-415D-B928-E3FD0E52B22A</th>\n",
       "      <td>6</td>\n",
       "      <td>CBC: MCHC</td>\n",
       "      <td>38.6</td>\n",
       "      <td>g/dl</td>\n",
       "      <td>2012-04-21 03:27:10.293</td>\n",
       "    </tr>\n",
       "  </tbody>\n",
       "</table>\n",
       "<p>111483 rows × 5 columns</p>\n",
       "</div>"
      ],
      "text/plain": [
       "                                      AdmissionID  \\\n",
       "PatientID                                           \n",
       "1A8791E3-A61C-455A-8DEE-763EB90C9B2C            1   \n",
       "1A8791E3-A61C-455A-8DEE-763EB90C9B2C            1   \n",
       "1A8791E3-A61C-455A-8DEE-763EB90C9B2C            1   \n",
       "1A8791E3-A61C-455A-8DEE-763EB90C9B2C            1   \n",
       "1A8791E3-A61C-455A-8DEE-763EB90C9B2C            1   \n",
       "...                                           ...   \n",
       "F0B53A2C-98CA-415D-B928-E3FD0E52B22A            6   \n",
       "F0B53A2C-98CA-415D-B928-E3FD0E52B22A            6   \n",
       "F0B53A2C-98CA-415D-B928-E3FD0E52B22A            6   \n",
       "F0B53A2C-98CA-415D-B928-E3FD0E52B22A            6   \n",
       "F0B53A2C-98CA-415D-B928-E3FD0E52B22A            6   \n",
       "\n",
       "                                                          LabName  LabValue  \\\n",
       "PatientID                                                                     \n",
       "1A8791E3-A61C-455A-8DEE-763EB90C9B2C  URINALYSIS: RED BLOOD CELLS       1.8   \n",
       "1A8791E3-A61C-455A-8DEE-763EB90C9B2C           METABOLIC: GLUCOSE     103.3   \n",
       "1A8791E3-A61C-455A-8DEE-763EB90C9B2C                     CBC: MCH      35.8   \n",
       "1A8791E3-A61C-455A-8DEE-763EB90C9B2C           METABOLIC: CALCIUM       8.9   \n",
       "1A8791E3-A61C-455A-8DEE-763EB90C9B2C    CBC: RED BLOOD CELL COUNT       4.8   \n",
       "...                                                           ...       ...   \n",
       "F0B53A2C-98CA-415D-B928-E3FD0E52B22A              CBC: HEMOGLOBIN      13.6   \n",
       "F0B53A2C-98CA-415D-B928-E3FD0E52B22A                     CBC: MCH      26.2   \n",
       "F0B53A2C-98CA-415D-B928-E3FD0E52B22A          METABOLIC: CHLORIDE     104.4   \n",
       "F0B53A2C-98CA-415D-B928-E3FD0E52B22A           METABOLIC: GLUCOSE      63.3   \n",
       "F0B53A2C-98CA-415D-B928-E3FD0E52B22A                    CBC: MCHC      38.6   \n",
       "\n",
       "                                     LabUnits             LabDateTime  \n",
       "PatientID                                                              \n",
       "1A8791E3-A61C-455A-8DEE-763EB90C9B2C  rbc/hpf 1992-07-01 01:36:17.910  \n",
       "1A8791E3-A61C-455A-8DEE-763EB90C9B2C    mg/dL 1992-06-30 09:35:52.383  \n",
       "1A8791E3-A61C-455A-8DEE-763EB90C9B2C       pg 1992-06-30 03:50:11.777  \n",
       "1A8791E3-A61C-455A-8DEE-763EB90C9B2C    mg/dL 1992-06-30 12:09:46.107  \n",
       "1A8791E3-A61C-455A-8DEE-763EB90C9B2C   m/cumm 1992-07-01 01:31:08.677  \n",
       "...                                       ...                     ...  \n",
       "F0B53A2C-98CA-415D-B928-E3FD0E52B22A    gm/dl 2012-04-21 03:23:50.883  \n",
       "F0B53A2C-98CA-415D-B928-E3FD0E52B22A       pg 2012-04-21 03:18:44.127  \n",
       "F0B53A2C-98CA-415D-B928-E3FD0E52B22A   mmol/L 2012-04-21 02:58:57.840  \n",
       "F0B53A2C-98CA-415D-B928-E3FD0E52B22A    mg/dL 2012-04-21 02:50:04.503  \n",
       "F0B53A2C-98CA-415D-B928-E3FD0E52B22A     g/dl 2012-04-21 03:27:10.293  \n",
       "\n",
       "[111483 rows x 5 columns]"
      ]
     },
     "execution_count": 57,
     "metadata": {},
     "output_type": "execute_result"
    }
   ],
   "source": [
    "labs_core"
   ]
  },
  {
   "cell_type": "code",
   "execution_count": 33,
   "metadata": {},
   "outputs": [],
   "source": [
    "##################################################################################################################\n",
    "# Convert dates to datetime objects\n",
    "def convert_cols_to_datetime(df):\n",
    "    for col in df:\n",
    "        if \"date\" in col.lower() and type(df[col]) is not np.dtype('datetime64[ns]'):\n",
    "            df[col] = pd.to_datetime(df[col])\n",
    "  \n",
    "convert_cols_to_datetime(admiss_core)\n",
    "convert_cols_to_datetime(admiss_diag_core)\n",
    "convert_cols_to_datetime(patient_core)\n",
    "convert_cols_to_datetime(labs_core)"
   ]
  },
  {
   "cell_type": "code",
   "execution_count": null,
   "metadata": {},
   "outputs": [],
   "source": [
    "# YouDo: Compute the mean and standard deviation of the LabValue across all of the METABOLIC: SODIUM tests (all patients)\n",
    "\n",
    "\n",
    "# 1) First, make a dataframe that's a subset of the labs table and only inludes labs with  LabName of METABOLIC: SODIUM \n",
    "#  Something like:\n",
    "# MetSodiumLabs = labs_core.loc[   ...\n",
    "\n",
    "\n",
    "# 2) From that subset, get all the LabValue numbers\n",
    "#\n",
    "\n",
    "\n",
    "# 3) Compute the mean and standard deviation of those lab values and print them \n",
    "\n"
   ]
  },
  {
   "cell_type": "code",
   "execution_count": 1,
   "metadata": {},
   "outputs": [],
   "source": [
    "\n",
    "##################################################################################################################\n",
    "# YouDo: Make a histogram of the LabValues for all metabolic sodium tests.\n",
    "#    Ensure the histogram has 30 bins, an appropriate title and meaningful labels on the axes\n",
    "##################################################################################################################\n",
    "\n"
   ]
  },
  {
   "cell_type": "code",
   "execution_count": 2,
   "metadata": {},
   "outputs": [],
   "source": [
    "##################################################################################################################\n",
    "# YouDo: Make a similar histogram of the LabValues for all CBC: RED BLOOD CELL COUNT tests\n",
    "\n",
    "\n"
   ]
  },
  {
   "cell_type": "code",
   "execution_count": 3,
   "metadata": {},
   "outputs": [],
   "source": [
    "# Stretch:  Use a loop to make similar histograms for 20 randomly selected tests\n",
    "\n",
    "\n"
   ]
  },
  {
   "cell_type": "markdown",
   "metadata": {},
   "source": [
    "# Analysis: a PI Question\n",
    "\n",
    "You mentioned in your email that this is synthetic data.  Can we expect the real data to look like this?\n",
    "\n",
    "(You have a meeting with the PI in 10 minutes.  Below, write how you'd answer.  Include appropriate caveats based \n",
    "on your present knowledge and expertise.)\n"
   ]
  },
  {
   "cell_type": "markdown",
   "metadata": {},
   "source": [
    "."
   ]
  }
 ],
 "metadata": {
  "kernelspec": {
   "display_name": "Python 3 (ipykernel)",
   "language": "python",
   "name": "python3"
  },
  "language_info": {
   "codemirror_mode": {
    "name": "ipython",
    "version": 3
   },
   "file_extension": ".py",
   "mimetype": "text/x-python",
   "name": "python",
   "nbconvert_exporter": "python",
   "pygments_lexer": "ipython3",
   "version": "3.11.5"
  }
 },
 "nbformat": 4,
 "nbformat_minor": 2
}
