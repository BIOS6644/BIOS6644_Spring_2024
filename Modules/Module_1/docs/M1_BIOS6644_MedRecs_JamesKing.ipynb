{
 "cells": [
  {
   "cell_type": "code",
   "execution_count": null,
   "metadata": {},
   "outputs": [],
   "source": [
    "##########################################################################################\n",
    "#                                                                                        #\n",
    "#  888888b.  8888888 .d88888b.   .d8888b.     .d8888b.   .d8888b.      d8888      d8888  #\n",
    "#  888  \"88b   888  d88P\" \"Y88b d88P  Y88b   d88P  Y88b d88P  Y88b    d8P888     d8P888  #\n",
    "#  888  .88P   888  888     888 Y88b.        888        888          d8P 888    d8P 888  #\n",
    "#  8888888K.   888  888     888  \"Y888b.     888d888b.  888d888b.   d8P  888   d8P  888  #\n",
    "#  888  \"Y88b  888  888     888     \"Y88b.   888P \"Y88b 888P \"Y88b d88   888  d88   888  #\n",
    "#  888    888  888  888     888       \"888   888    888 888    888 8888888888 8888888888 #\n",
    "#  888   d88P  888  Y88b. .d88P Y88b  d88P   Y88b  d88P Y88b  d88P       888        888  #\n",
    "#  8888888P\" 8888888 \"Y88888P\"   \"Y8888P\"     \"Y8888P\"   \"Y8888P\"        888        888  #\n",
    "#                                                                                        # \n",
    "##########################################################################################\n",
    "#\n",
    "# Wrangle Synthetic Medical Record Data\n",
    "#\n",
    "##########################################################################################"
   ]
  },
  {
   "cell_type": "markdown",
   "metadata": {},
   "source": [
    "## Fetch data\n",
    "\n",
    "https://github.com/ishaghodgaonkar/emrbots/blob/master/100-Patients.zip\n",
    "\n",
    "unzip it into the Data folder"
   ]
  },
  {
   "cell_type": "code",
   "execution_count": 1,
   "metadata": {},
   "outputs": [],
   "source": [
    "import pandas as pd\n",
    "import pylab as plt\n",
    "import numpy as np\n",
    "import datetime as dt"
   ]
  },
  {
   "cell_type": "code",
   "execution_count": 14,
   "metadata": {},
   "outputs": [],
   "source": []
  },
  {
   "cell_type": "code",
   "execution_count": 2,
   "metadata": {},
   "outputs": [],
   "source": [
    "##################################################################################################################\n",
    "#\n",
    "# YouDo: Import each of the 4 files into its own data frame\n",
    "#         (Hint:  they're tab-separated)\n",
    "admiss_core = pd.read_csv(\"../data/AdmissionsCorePopulatedTable.txt\",sep=\"\\t\",index_col=\"PatientID\")\n",
    "admiss_diag_core = pd.read_csv(\"../data/AdmissionsDiagnosesCorePopulatedTable.txt\",sep=\"\\t\",index_col=\"PatientID\")\n",
    "patient_core = pd.read_csv(\"../data/PatientCorePopulatedTable.txt\",sep=\"\\t\",index_col=\"PatientID\")\n",
    "labs_core = pd.read_csv(\"../data/LabsCorePopulatedTable.txt\",sep=\"\\t\",index_col=\"PatientID\")"
   ]
  },
  {
   "cell_type": "markdown",
   "metadata": {},
   "source": [
    "\n"
   ]
  },
  {
   "cell_type": "code",
   "execution_count": 3,
   "metadata": {},
   "outputs": [
    {
     "data": {
      "text/html": [
       "<div>\n",
       "<style scoped>\n",
       "    .dataframe tbody tr th:only-of-type {\n",
       "        vertical-align: middle;\n",
       "    }\n",
       "\n",
       "    .dataframe tbody tr th {\n",
       "        vertical-align: top;\n",
       "    }\n",
       "\n",
       "    .dataframe thead th {\n",
       "        text-align: right;\n",
       "    }\n",
       "</style>\n",
       "<table border=\"1\" class=\"dataframe\">\n",
       "  <thead>\n",
       "    <tr style=\"text-align: right;\">\n",
       "      <th></th>\n",
       "      <th>AdmissionID</th>\n",
       "      <th>LabName</th>\n",
       "      <th>LabValue</th>\n",
       "      <th>LabUnits</th>\n",
       "      <th>LabDateTime</th>\n",
       "    </tr>\n",
       "    <tr>\n",
       "      <th>PatientID</th>\n",
       "      <th></th>\n",
       "      <th></th>\n",
       "      <th></th>\n",
       "      <th></th>\n",
       "      <th></th>\n",
       "    </tr>\n",
       "  </thead>\n",
       "  <tbody>\n",
       "    <tr>\n",
       "      <th>1A8791E3-A61C-455A-8DEE-763EB90C9B2C</th>\n",
       "      <td>1</td>\n",
       "      <td>URINALYSIS: RED BLOOD CELLS</td>\n",
       "      <td>1.8</td>\n",
       "      <td>rbc/hpf</td>\n",
       "      <td>1992-07-01 01:36:17.910</td>\n",
       "    </tr>\n",
       "    <tr>\n",
       "      <th>1A8791E3-A61C-455A-8DEE-763EB90C9B2C</th>\n",
       "      <td>1</td>\n",
       "      <td>METABOLIC: GLUCOSE</td>\n",
       "      <td>103.3</td>\n",
       "      <td>mg/dL</td>\n",
       "      <td>1992-06-30 09:35:52.383</td>\n",
       "    </tr>\n",
       "    <tr>\n",
       "      <th>1A8791E3-A61C-455A-8DEE-763EB90C9B2C</th>\n",
       "      <td>1</td>\n",
       "      <td>CBC: MCH</td>\n",
       "      <td>35.8</td>\n",
       "      <td>pg</td>\n",
       "      <td>1992-06-30 03:50:11.777</td>\n",
       "    </tr>\n",
       "    <tr>\n",
       "      <th>1A8791E3-A61C-455A-8DEE-763EB90C9B2C</th>\n",
       "      <td>1</td>\n",
       "      <td>METABOLIC: CALCIUM</td>\n",
       "      <td>8.9</td>\n",
       "      <td>mg/dL</td>\n",
       "      <td>1992-06-30 12:09:46.107</td>\n",
       "    </tr>\n",
       "    <tr>\n",
       "      <th>1A8791E3-A61C-455A-8DEE-763EB90C9B2C</th>\n",
       "      <td>1</td>\n",
       "      <td>CBC: RED BLOOD CELL COUNT</td>\n",
       "      <td>4.8</td>\n",
       "      <td>m/cumm</td>\n",
       "      <td>1992-07-01 01:31:08.677</td>\n",
       "    </tr>\n",
       "    <tr>\n",
       "      <th>...</th>\n",
       "      <td>...</td>\n",
       "      <td>...</td>\n",
       "      <td>...</td>\n",
       "      <td>...</td>\n",
       "      <td>...</td>\n",
       "    </tr>\n",
       "    <tr>\n",
       "      <th>F0B53A2C-98CA-415D-B928-E3FD0E52B22A</th>\n",
       "      <td>6</td>\n",
       "      <td>CBC: HEMOGLOBIN</td>\n",
       "      <td>13.6</td>\n",
       "      <td>gm/dl</td>\n",
       "      <td>2012-04-21 03:23:50.883</td>\n",
       "    </tr>\n",
       "    <tr>\n",
       "      <th>F0B53A2C-98CA-415D-B928-E3FD0E52B22A</th>\n",
       "      <td>6</td>\n",
       "      <td>CBC: MCH</td>\n",
       "      <td>26.2</td>\n",
       "      <td>pg</td>\n",
       "      <td>2012-04-21 03:18:44.127</td>\n",
       "    </tr>\n",
       "    <tr>\n",
       "      <th>F0B53A2C-98CA-415D-B928-E3FD0E52B22A</th>\n",
       "      <td>6</td>\n",
       "      <td>METABOLIC: CHLORIDE</td>\n",
       "      <td>104.4</td>\n",
       "      <td>mmol/L</td>\n",
       "      <td>2012-04-21 02:58:57.840</td>\n",
       "    </tr>\n",
       "    <tr>\n",
       "      <th>F0B53A2C-98CA-415D-B928-E3FD0E52B22A</th>\n",
       "      <td>6</td>\n",
       "      <td>METABOLIC: GLUCOSE</td>\n",
       "      <td>63.3</td>\n",
       "      <td>mg/dL</td>\n",
       "      <td>2012-04-21 02:50:04.503</td>\n",
       "    </tr>\n",
       "    <tr>\n",
       "      <th>F0B53A2C-98CA-415D-B928-E3FD0E52B22A</th>\n",
       "      <td>6</td>\n",
       "      <td>CBC: MCHC</td>\n",
       "      <td>38.6</td>\n",
       "      <td>g/dl</td>\n",
       "      <td>2012-04-21 03:27:10.293</td>\n",
       "    </tr>\n",
       "  </tbody>\n",
       "</table>\n",
       "<p>111483 rows × 5 columns</p>\n",
       "</div>"
      ],
      "text/plain": [
       "                                      AdmissionID  \\\n",
       "PatientID                                           \n",
       "1A8791E3-A61C-455A-8DEE-763EB90C9B2C            1   \n",
       "1A8791E3-A61C-455A-8DEE-763EB90C9B2C            1   \n",
       "1A8791E3-A61C-455A-8DEE-763EB90C9B2C            1   \n",
       "1A8791E3-A61C-455A-8DEE-763EB90C9B2C            1   \n",
       "1A8791E3-A61C-455A-8DEE-763EB90C9B2C            1   \n",
       "...                                           ...   \n",
       "F0B53A2C-98CA-415D-B928-E3FD0E52B22A            6   \n",
       "F0B53A2C-98CA-415D-B928-E3FD0E52B22A            6   \n",
       "F0B53A2C-98CA-415D-B928-E3FD0E52B22A            6   \n",
       "F0B53A2C-98CA-415D-B928-E3FD0E52B22A            6   \n",
       "F0B53A2C-98CA-415D-B928-E3FD0E52B22A            6   \n",
       "\n",
       "                                                          LabName  LabValue  \\\n",
       "PatientID                                                                     \n",
       "1A8791E3-A61C-455A-8DEE-763EB90C9B2C  URINALYSIS: RED BLOOD CELLS       1.8   \n",
       "1A8791E3-A61C-455A-8DEE-763EB90C9B2C           METABOLIC: GLUCOSE     103.3   \n",
       "1A8791E3-A61C-455A-8DEE-763EB90C9B2C                     CBC: MCH      35.8   \n",
       "1A8791E3-A61C-455A-8DEE-763EB90C9B2C           METABOLIC: CALCIUM       8.9   \n",
       "1A8791E3-A61C-455A-8DEE-763EB90C9B2C    CBC: RED BLOOD CELL COUNT       4.8   \n",
       "...                                                           ...       ...   \n",
       "F0B53A2C-98CA-415D-B928-E3FD0E52B22A              CBC: HEMOGLOBIN      13.6   \n",
       "F0B53A2C-98CA-415D-B928-E3FD0E52B22A                     CBC: MCH      26.2   \n",
       "F0B53A2C-98CA-415D-B928-E3FD0E52B22A          METABOLIC: CHLORIDE     104.4   \n",
       "F0B53A2C-98CA-415D-B928-E3FD0E52B22A           METABOLIC: GLUCOSE      63.3   \n",
       "F0B53A2C-98CA-415D-B928-E3FD0E52B22A                    CBC: MCHC      38.6   \n",
       "\n",
       "                                     LabUnits              LabDateTime  \n",
       "PatientID                                                               \n",
       "1A8791E3-A61C-455A-8DEE-763EB90C9B2C  rbc/hpf  1992-07-01 01:36:17.910  \n",
       "1A8791E3-A61C-455A-8DEE-763EB90C9B2C    mg/dL  1992-06-30 09:35:52.383  \n",
       "1A8791E3-A61C-455A-8DEE-763EB90C9B2C       pg  1992-06-30 03:50:11.777  \n",
       "1A8791E3-A61C-455A-8DEE-763EB90C9B2C    mg/dL  1992-06-30 12:09:46.107  \n",
       "1A8791E3-A61C-455A-8DEE-763EB90C9B2C   m/cumm  1992-07-01 01:31:08.677  \n",
       "...                                       ...                      ...  \n",
       "F0B53A2C-98CA-415D-B928-E3FD0E52B22A    gm/dl  2012-04-21 03:23:50.883  \n",
       "F0B53A2C-98CA-415D-B928-E3FD0E52B22A       pg  2012-04-21 03:18:44.127  \n",
       "F0B53A2C-98CA-415D-B928-E3FD0E52B22A   mmol/L  2012-04-21 02:58:57.840  \n",
       "F0B53A2C-98CA-415D-B928-E3FD0E52B22A    mg/dL  2012-04-21 02:50:04.503  \n",
       "F0B53A2C-98CA-415D-B928-E3FD0E52B22A     g/dl  2012-04-21 03:27:10.293  \n",
       "\n",
       "[111483 rows x 5 columns]"
      ]
     },
     "execution_count": 3,
     "metadata": {},
     "output_type": "execute_result"
    }
   ],
   "source": [
    "# 1) \n",
    "admiss_core, \n",
    "patient_core\n",
    "labs_core"
   ]
  },
  {
   "cell_type": "code",
   "execution_count": 21,
   "metadata": {},
   "outputs": [],
   "source": [
    "# Dates!"
   ]
  },
  {
   "cell_type": "code",
   "execution_count": 4,
   "metadata": {},
   "outputs": [],
   "source": [
    "##################################################################################################################\n",
    "#\n",
    "# YouDo: Notice that there are many columns with dates, but pandas assumed they're strings\n",
    "#\n",
    "#        1) use the pd.to_datetime() method to transform all of the time columns to have type datetime\n",
    "#            # stretch goal:  do it in a loop based on the string 'Date' appearing in the column name\n",
    "#\n",
    "# Show the type\n",
    "def convert_cols_to_datetime(df):\n",
    "    for col in df:\n",
    "        if \"date\" in col.lower() and type(df[col]) is not np.dtype('datetime64[ns]'):\n",
    "            df[col] = pd.to_datetime(df[col])\n",
    "  "
   ]
  },
  {
   "cell_type": "code",
   "execution_count": 5,
   "metadata": {},
   "outputs": [],
   "source": [
    "\n",
    "# 1) \n",
    "convert_cols_to_datetime(admiss_core)\n",
    "convert_cols_to_datetime(admiss_diag_core)\n",
    "convert_cols_to_datetime(patient_core)\n",
    "convert_cols_to_datetime(labs_core)"
   ]
  },
  {
   "cell_type": "code",
   "execution_count": 6,
   "metadata": {},
   "outputs": [
    {
     "data": {
      "text/plain": [
       "Timedelta('5 days 10:14:56.766000')"
      ]
     },
     "execution_count": 6,
     "metadata": {},
     "output_type": "execute_result"
    }
   ],
   "source": [
    "admiss_core.iloc[3]['AdmissionEndDate']-admiss_core.iloc[3]['AdmissionStartDate']"
   ]
  },
  {
   "cell_type": "code",
   "execution_count": 7,
   "metadata": {},
   "outputs": [
    {
     "data": {
      "text/html": [
       "<div>\n",
       "<style scoped>\n",
       "    .dataframe tbody tr th:only-of-type {\n",
       "        vertical-align: middle;\n",
       "    }\n",
       "\n",
       "    .dataframe tbody tr th {\n",
       "        vertical-align: top;\n",
       "    }\n",
       "\n",
       "    .dataframe thead th {\n",
       "        text-align: right;\n",
       "    }\n",
       "</style>\n",
       "<table border=\"1\" class=\"dataframe\">\n",
       "  <thead>\n",
       "    <tr style=\"text-align: right;\">\n",
       "      <th></th>\n",
       "      <th>AdmissionID</th>\n",
       "      <th>AdmissionStartDate</th>\n",
       "      <th>AdmissionEndDate</th>\n",
       "    </tr>\n",
       "    <tr>\n",
       "      <th>PatientID</th>\n",
       "      <th></th>\n",
       "      <th></th>\n",
       "      <th></th>\n",
       "    </tr>\n",
       "  </thead>\n",
       "  <tbody>\n",
       "    <tr>\n",
       "      <th>7A025E77-7832-4F53-B9A7-09A3F98AC17E</th>\n",
       "      <td>7</td>\n",
       "      <td>2011-10-12 14:55:02.027</td>\n",
       "      <td>2011-10-22 01:16:07.557</td>\n",
       "    </tr>\n",
       "    <tr>\n",
       "      <th>7A025E77-7832-4F53-B9A7-09A3F98AC17E</th>\n",
       "      <td>1</td>\n",
       "      <td>1978-06-29 07:29:11.593</td>\n",
       "      <td>1978-07-10 04:05:51.787</td>\n",
       "    </tr>\n",
       "    <tr>\n",
       "      <th>7A025E77-7832-4F53-B9A7-09A3F98AC17E</th>\n",
       "      <td>2</td>\n",
       "      <td>1982-10-14 07:01:43.613</td>\n",
       "      <td>1982-10-21 16:44:00.310</td>\n",
       "    </tr>\n",
       "    <tr>\n",
       "      <th>7A025E77-7832-4F53-B9A7-09A3F98AC17E</th>\n",
       "      <td>3</td>\n",
       "      <td>1990-02-23 04:28:34.457</td>\n",
       "      <td>1990-03-13 15:55:29.837</td>\n",
       "    </tr>\n",
       "    <tr>\n",
       "      <th>7A025E77-7832-4F53-B9A7-09A3F98AC17E</th>\n",
       "      <td>4</td>\n",
       "      <td>1994-05-15 11:34:00.840</td>\n",
       "      <td>1994-05-19 23:04:04.877</td>\n",
       "    </tr>\n",
       "    <tr>\n",
       "      <th>7A025E77-7832-4F53-B9A7-09A3F98AC17E</th>\n",
       "      <td>5</td>\n",
       "      <td>2001-01-10 11:04:58.943</td>\n",
       "      <td>2001-01-27 00:54:18.730</td>\n",
       "    </tr>\n",
       "    <tr>\n",
       "      <th>7A025E77-7832-4F53-B9A7-09A3F98AC17E</th>\n",
       "      <td>6</td>\n",
       "      <td>2001-12-29 20:28:01.050</td>\n",
       "      <td>2002-01-18 18:16:04.423</td>\n",
       "    </tr>\n",
       "  </tbody>\n",
       "</table>\n",
       "</div>"
      ],
      "text/plain": [
       "                                      AdmissionID      AdmissionStartDate  \\\n",
       "PatientID                                                                   \n",
       "7A025E77-7832-4F53-B9A7-09A3F98AC17E            7 2011-10-12 14:55:02.027   \n",
       "7A025E77-7832-4F53-B9A7-09A3F98AC17E            1 1978-06-29 07:29:11.593   \n",
       "7A025E77-7832-4F53-B9A7-09A3F98AC17E            2 1982-10-14 07:01:43.613   \n",
       "7A025E77-7832-4F53-B9A7-09A3F98AC17E            3 1990-02-23 04:28:34.457   \n",
       "7A025E77-7832-4F53-B9A7-09A3F98AC17E            4 1994-05-15 11:34:00.840   \n",
       "7A025E77-7832-4F53-B9A7-09A3F98AC17E            5 2001-01-10 11:04:58.943   \n",
       "7A025E77-7832-4F53-B9A7-09A3F98AC17E            6 2001-12-29 20:28:01.050   \n",
       "\n",
       "                                            AdmissionEndDate  \n",
       "PatientID                                                     \n",
       "7A025E77-7832-4F53-B9A7-09A3F98AC17E 2011-10-22 01:16:07.557  \n",
       "7A025E77-7832-4F53-B9A7-09A3F98AC17E 1978-07-10 04:05:51.787  \n",
       "7A025E77-7832-4F53-B9A7-09A3F98AC17E 1982-10-21 16:44:00.310  \n",
       "7A025E77-7832-4F53-B9A7-09A3F98AC17E 1990-03-13 15:55:29.837  \n",
       "7A025E77-7832-4F53-B9A7-09A3F98AC17E 1994-05-19 23:04:04.877  \n",
       "7A025E77-7832-4F53-B9A7-09A3F98AC17E 2001-01-27 00:54:18.730  \n",
       "7A025E77-7832-4F53-B9A7-09A3F98AC17E 2002-01-18 18:16:04.423  "
      ]
     },
     "execution_count": 7,
     "metadata": {},
     "output_type": "execute_result"
    }
   ],
   "source": [
    "# As is typical in complex data sets, informtion about each patient is broken up into several different\n",
    "# tables, cross-referenced by a patient id\n",
    "##################################################################################################################\n",
    "#\n",
    "# YouDo: Print out the records from each of the four tables for patient number\n",
    "# 7A025E77-7832-4F53-B9A7-09A3F98AC17E\t\n",
    "pid='7A025E77-7832-4F53-B9A7-09A3F98AC17E'\n",
    "admiss_core.loc[admiss_core.index==pid]\n",
    "#admiss_core\n"
   ]
  },
  {
   "cell_type": "code",
   "execution_count": 99,
   "metadata": {},
   "outputs": [
    {
     "data": {
      "text/html": [
       "<div>\n",
       "<style scoped>\n",
       "    .dataframe tbody tr th:only-of-type {\n",
       "        vertical-align: middle;\n",
       "    }\n",
       "\n",
       "    .dataframe tbody tr th {\n",
       "        vertical-align: top;\n",
       "    }\n",
       "\n",
       "    .dataframe thead th {\n",
       "        text-align: right;\n",
       "    }\n",
       "</style>\n",
       "<table border=\"1\" class=\"dataframe\">\n",
       "  <thead>\n",
       "    <tr style=\"text-align: right;\">\n",
       "      <th></th>\n",
       "      <th>AdmissionID</th>\n",
       "      <th>LabName</th>\n",
       "      <th>LabValue</th>\n",
       "      <th>LabUnits</th>\n",
       "      <th>LabDateTime</th>\n",
       "    </tr>\n",
       "    <tr>\n",
       "      <th>PatientID</th>\n",
       "      <th></th>\n",
       "      <th></th>\n",
       "      <th></th>\n",
       "      <th></th>\n",
       "      <th></th>\n",
       "    </tr>\n",
       "  </thead>\n",
       "  <tbody>\n",
       "    <tr>\n",
       "      <th>7A025E77-7832-4F53-B9A7-09A3F98AC17E</th>\n",
       "      <td>1</td>\n",
       "      <td>METABOLIC: CARBON DIOXIDE</td>\n",
       "      <td>20.9</td>\n",
       "      <td>mmol/L</td>\n",
       "      <td>1978-06-29 22:56:25.430</td>\n",
       "    </tr>\n",
       "    <tr>\n",
       "      <th>7A025E77-7832-4F53-B9A7-09A3F98AC17E</th>\n",
       "      <td>1</td>\n",
       "      <td>METABOLIC: BILI TOTAL</td>\n",
       "      <td>0.3</td>\n",
       "      <td>mg/dL</td>\n",
       "      <td>1978-06-30 00:55:28.273</td>\n",
       "    </tr>\n",
       "    <tr>\n",
       "      <th>7A025E77-7832-4F53-B9A7-09A3F98AC17E</th>\n",
       "      <td>1</td>\n",
       "      <td>METABOLIC: CALCIUM</td>\n",
       "      <td>7.4</td>\n",
       "      <td>mg/dL</td>\n",
       "      <td>1978-06-30 07:11:48.760</td>\n",
       "    </tr>\n",
       "    <tr>\n",
       "      <th>7A025E77-7832-4F53-B9A7-09A3F98AC17E</th>\n",
       "      <td>1</td>\n",
       "      <td>CBC: NEUTROPHILS</td>\n",
       "      <td>2.8</td>\n",
       "      <td>k/cumm</td>\n",
       "      <td>1978-06-30 00:01:24.477</td>\n",
       "    </tr>\n",
       "    <tr>\n",
       "      <th>7A025E77-7832-4F53-B9A7-09A3F98AC17E</th>\n",
       "      <td>1</td>\n",
       "      <td>CBC: MCHC</td>\n",
       "      <td>32.2</td>\n",
       "      <td>g/dl</td>\n",
       "      <td>1978-06-30 04:33:20.790</td>\n",
       "    </tr>\n",
       "    <tr>\n",
       "      <th>...</th>\n",
       "      <td>...</td>\n",
       "      <td>...</td>\n",
       "      <td>...</td>\n",
       "      <td>...</td>\n",
       "      <td>...</td>\n",
       "    </tr>\n",
       "    <tr>\n",
       "      <th>7A025E77-7832-4F53-B9A7-09A3F98AC17E</th>\n",
       "      <td>7</td>\n",
       "      <td>METABOLIC: ALT/SGPT</td>\n",
       "      <td>65.9</td>\n",
       "      <td>U/L</td>\n",
       "      <td>2011-10-21 22:37:12.087</td>\n",
       "    </tr>\n",
       "    <tr>\n",
       "      <th>7A025E77-7832-4F53-B9A7-09A3F98AC17E</th>\n",
       "      <td>7</td>\n",
       "      <td>CBC: HEMOGLOBIN</td>\n",
       "      <td>11.6</td>\n",
       "      <td>gm/dl</td>\n",
       "      <td>2011-10-22 00:25:12.860</td>\n",
       "    </tr>\n",
       "    <tr>\n",
       "      <th>7A025E77-7832-4F53-B9A7-09A3F98AC17E</th>\n",
       "      <td>7</td>\n",
       "      <td>CBC: RDW</td>\n",
       "      <td>14.7</td>\n",
       "      <td>%</td>\n",
       "      <td>2011-10-21 21:29:42.703</td>\n",
       "    </tr>\n",
       "    <tr>\n",
       "      <th>7A025E77-7832-4F53-B9A7-09A3F98AC17E</th>\n",
       "      <td>7</td>\n",
       "      <td>CBC: HEMATOCRIT</td>\n",
       "      <td>30.3</td>\n",
       "      <td>%</td>\n",
       "      <td>2011-10-22 00:17:18.873</td>\n",
       "    </tr>\n",
       "    <tr>\n",
       "      <th>7A025E77-7832-4F53-B9A7-09A3F98AC17E</th>\n",
       "      <td>7</td>\n",
       "      <td>URINALYSIS: PH</td>\n",
       "      <td>5.2</td>\n",
       "      <td>no unit</td>\n",
       "      <td>2011-10-21 22:45:20.057</td>\n",
       "    </tr>\n",
       "  </tbody>\n",
       "</table>\n",
       "<p>2259 rows × 5 columns</p>\n",
       "</div>"
      ],
      "text/plain": [
       "                                      AdmissionID                    LabName  \\\n",
       "PatientID                                                                      \n",
       "7A025E77-7832-4F53-B9A7-09A3F98AC17E            1  METABOLIC: CARBON DIOXIDE   \n",
       "7A025E77-7832-4F53-B9A7-09A3F98AC17E            1      METABOLIC: BILI TOTAL   \n",
       "7A025E77-7832-4F53-B9A7-09A3F98AC17E            1         METABOLIC: CALCIUM   \n",
       "7A025E77-7832-4F53-B9A7-09A3F98AC17E            1           CBC: NEUTROPHILS   \n",
       "7A025E77-7832-4F53-B9A7-09A3F98AC17E            1                  CBC: MCHC   \n",
       "...                                           ...                        ...   \n",
       "7A025E77-7832-4F53-B9A7-09A3F98AC17E            7        METABOLIC: ALT/SGPT   \n",
       "7A025E77-7832-4F53-B9A7-09A3F98AC17E            7            CBC: HEMOGLOBIN   \n",
       "7A025E77-7832-4F53-B9A7-09A3F98AC17E            7                   CBC: RDW   \n",
       "7A025E77-7832-4F53-B9A7-09A3F98AC17E            7            CBC: HEMATOCRIT   \n",
       "7A025E77-7832-4F53-B9A7-09A3F98AC17E            7             URINALYSIS: PH   \n",
       "\n",
       "                                      LabValue LabUnits  \\\n",
       "PatientID                                                 \n",
       "7A025E77-7832-4F53-B9A7-09A3F98AC17E      20.9   mmol/L   \n",
       "7A025E77-7832-4F53-B9A7-09A3F98AC17E       0.3    mg/dL   \n",
       "7A025E77-7832-4F53-B9A7-09A3F98AC17E       7.4    mg/dL   \n",
       "7A025E77-7832-4F53-B9A7-09A3F98AC17E       2.8   k/cumm   \n",
       "7A025E77-7832-4F53-B9A7-09A3F98AC17E      32.2     g/dl   \n",
       "...                                        ...      ...   \n",
       "7A025E77-7832-4F53-B9A7-09A3F98AC17E      65.9      U/L   \n",
       "7A025E77-7832-4F53-B9A7-09A3F98AC17E      11.6    gm/dl   \n",
       "7A025E77-7832-4F53-B9A7-09A3F98AC17E      14.7        %   \n",
       "7A025E77-7832-4F53-B9A7-09A3F98AC17E      30.3        %   \n",
       "7A025E77-7832-4F53-B9A7-09A3F98AC17E       5.2  no unit   \n",
       "\n",
       "                                                 LabDateTime  \n",
       "PatientID                                                     \n",
       "7A025E77-7832-4F53-B9A7-09A3F98AC17E 1978-06-29 22:56:25.430  \n",
       "7A025E77-7832-4F53-B9A7-09A3F98AC17E 1978-06-30 00:55:28.273  \n",
       "7A025E77-7832-4F53-B9A7-09A3F98AC17E 1978-06-30 07:11:48.760  \n",
       "7A025E77-7832-4F53-B9A7-09A3F98AC17E 1978-06-30 00:01:24.477  \n",
       "7A025E77-7832-4F53-B9A7-09A3F98AC17E 1978-06-30 04:33:20.790  \n",
       "...                                                      ...  \n",
       "7A025E77-7832-4F53-B9A7-09A3F98AC17E 2011-10-21 22:37:12.087  \n",
       "7A025E77-7832-4F53-B9A7-09A3F98AC17E 2011-10-22 00:25:12.860  \n",
       "7A025E77-7832-4F53-B9A7-09A3F98AC17E 2011-10-21 21:29:42.703  \n",
       "7A025E77-7832-4F53-B9A7-09A3F98AC17E 2011-10-22 00:17:18.873  \n",
       "7A025E77-7832-4F53-B9A7-09A3F98AC17E 2011-10-21 22:45:20.057  \n",
       "\n",
       "[2259 rows x 5 columns]"
      ]
     },
     "execution_count": 99,
     "metadata": {},
     "output_type": "execute_result"
    }
   ],
   "source": [
    "labs_core.loc[labs_core.index==pid]\n"
   ]
  },
  {
   "cell_type": "code",
   "execution_count": 56,
   "metadata": {},
   "outputs": [],
   "source": [
    "# SQL-like joins\n",
    "jdf =  patient_core.join(labs_core, how='left')\n"
   ]
  },
  {
   "cell_type": "code",
   "execution_count": 61,
   "metadata": {},
   "outputs": [
    {
     "data": {
      "text/plain": [
       "((111483, 11), (100, 6), (111483, 5))"
      ]
     },
     "execution_count": 61,
     "metadata": {},
     "output_type": "execute_result"
    }
   ],
   "source": [
    "jdf.shape, patient_core.shape, labs_core.shape"
   ]
  },
  {
   "cell_type": "code",
   "execution_count": 55,
   "metadata": {},
   "outputs": [
    {
     "name": "stdout",
     "output_type": "stream",
     "text": [
      "Stats on Number of Labs per Patient\n",
      "count     100.00000\n",
      "mean     1114.83000\n",
      "std       539.36152\n",
      "min        86.00000\n",
      "25%       706.25000\n",
      "50%      1032.50000\n",
      "75%      1441.25000\n",
      "max      2760.00000\n",
      "dtype: float64\n",
      "Number of each lab\n"
     ]
    },
    {
     "data": {
      "text/plain": [
       "LabName\n",
       "CBC: ABSOLUTE LYMPHOCYTES        3162\n",
       "CBC: ABSOLUTE NEUTROPHILS        3210\n",
       "CBC: BASOPHILS                   3165\n",
       "CBC: EOSINOPHILS                 3191\n",
       "CBC: HEMATOCRIT                  3211\n",
       "CBC: HEMOGLOBIN                  3193\n",
       "CBC: LYMPHOCYTES                 3162\n",
       "CBC: MCH                         3191\n",
       "CBC: MCHC                        3202\n",
       "CBC: MEAN CORPUSCULAR VOLUME     3175\n",
       "CBC: MONOCYTES                   3129\n",
       "CBC: NEUTROPHILS                 3224\n",
       "CBC: PLATELET COUNT              3177\n",
       "CBC: RDW                         3188\n",
       "CBC: RED BLOOD CELL COUNT        3174\n",
       "CBC: WHITE BLOOD CELL COUNT      3209\n",
       "METABOLIC: ALBUMIN               3202\n",
       "METABOLIC: ALK PHOS              3154\n",
       "METABOLIC: ALT/SGPT              3155\n",
       "METABOLIC: ANION GAP             3166\n",
       "METABOLIC: AST/SGOT              3179\n",
       "METABOLIC: BILI TOTAL            3182\n",
       "METABOLIC: BUN                   3158\n",
       "METABOLIC: CALCIUM               3179\n",
       "METABOLIC: CARBON DIOXIDE        3218\n",
       "METABOLIC: CHLORIDE              3190\n",
       "METABOLIC: CREATININE            3193\n",
       "METABOLIC: GLUCOSE               3202\n",
       "METABOLIC: POTASSIUM             3185\n",
       "METABOLIC: SODIUM                3207\n",
       "METABOLIC: TOTAL PROTEIN         3177\n",
       "URINALYSIS: PH                   3187\n",
       "URINALYSIS: RED BLOOD CELLS      3187\n",
       "URINALYSIS: SPECIFIC GRAVITY     3181\n",
       "URINALYSIS: WHITE BLOOD CELLS    3218\n",
       "dtype: int64"
      ]
     },
     "execution_count": 55,
     "metadata": {},
     "output_type": "execute_result"
    }
   ],
   "source": [
    "# Holy cow!  this patient has lots of lab results in her record\n",
    "# This is synthetic data, so it's bound to have weird things.  Is that normal in this data?\n",
    "##################################################################################################################\n",
    "#\n",
    "# You do:\n",
    "#   1) Compute the average & standard deviation of number of labs per patient.\n",
    "#         hint:  Consider pd.groupby()\n",
    "#\n",
    "print(\"Stats on Number of Labs per Patient\")\n",
    "print(jdf.groupby('PatientID').size().describe())\n",
    "\n",
    "#   2) Compute a list of each lab and how many orders for that lab are in the data frame\n",
    "#    \n",
    "\n",
    "print(\"Number of each lab\")\n",
    "jdf.groupby('LabName').size()"
   ]
  },
  {
   "cell_type": "code",
   "execution_count": null,
   "metadata": {
    "scrolled": true
   },
   "outputs": [],
   "source": []
  },
  {
   "cell_type": "code",
   "execution_count": null,
   "metadata": {},
   "outputs": [],
   "source": []
  },
  {
   "cell_type": "code",
   "execution_count": 46,
   "metadata": {},
   "outputs": [
    {
     "name": "stdout",
     "output_type": "stream",
     "text": [
      "PatientID\n",
      "B7E9FC4C-5182-4A34-954E-CEF5FC07E96D      86\n",
      "A50BE9B4-8A0B-4169-B894-F7BD86D7D90B     130\n",
      "8856096E-E59C-4156-A767-C091AF799C80     230\n",
      "C2CCB1AB-6633-4CB3-B4E8-157E6FB02376     360\n",
      "672D554B-D6D1-40B2-A6A4-21A4CB6B1AA6     399\n",
      "                                        ... \n",
      "7A025E77-7832-4F53-B9A7-09A3F98AC17E    2259\n",
      "A0A976C8-9B30-4492-B8C4-5B25095B9192    2263\n",
      "36775002-9EC3-4889-AD4F-80DC6855C8D8    2372\n",
      "25B786AF-0F99-478C-9CFA-0EA607E45834    2561\n",
      "80D356B4-F974-441F-A5F2-F95986D119A2    2760\n",
      "Length: 100, dtype: int64\n",
      "Patient with the most labs: 80D356B4-F974-441F-A5F2-F95986D119A2\n"
     ]
    }
   ],
   "source": [
    "# It seems that this data set has the same patient getting the same labs perhaps dozens of times.\n",
    "# Lets make a visualization of one of the time vs. one of the lab values for a specific patient.\n",
    "##################################################################################################################\n",
    "#\n",
    "# You do:\n",
    "#   1) Find the patient/lab combination with the most labs taken\n",
    "\n",
    "print(jdf.groupby('PatientID').size().sort_values())\n",
    "\n",
    "pt_most_labs=jdf.groupby('PatientID').size().sort_values().index[-1]\n",
    "print(f\"Patient with the most labs: {pt_most_labs}\")df\n",
    "\n",
    "#   2) For the most-measured patient/lab combination, make a time vs lab-value plot"
   ]
  },
  {
   "cell_type": "code",
   "execution_count": 68,
   "metadata": {},
   "outputs": [
    {
     "data": {
      "text/plain": [
       "PatientID                             LabName                     \n",
       "A50BE9B4-8A0B-4169-B894-F7BD86D7D90B  CBC: LYMPHOCYTES                 1\n",
       "B7E9FC4C-5182-4A34-954E-CEF5FC07E96D  URINALYSIS: SPECIFIC GRAVITY     1\n",
       "                                      CBC: HEMATOCRIT                  1\n",
       "A50BE9B4-8A0B-4169-B894-F7BD86D7D90B  METABOLIC: SODIUM                1\n",
       "B7E9FC4C-5182-4A34-954E-CEF5FC07E96D  CBC: EOSINOPHILS                 2\n",
       "                                                                      ..\n",
       "80D356B4-F974-441F-A5F2-F95986D119A2  CBC: HEMOGLOBIN                 83\n",
       "                                      METABOLIC: ALT/SGPT             84\n",
       "                                      METABOLIC: POTASSIUM            84\n",
       "                                      CBC: PLATELET COUNT             84\n",
       "                                      CBC: HEMATOCRIT                 88\n",
       "Length: 3499, dtype: int64"
      ]
     },
     "execution_count": 68,
     "metadata": {},
     "output_type": "execute_result"
    }
   ],
   "source": [
    "# 1) \n",
    "jdf.groupby(['PatientID','LabName']).size().sort_values()\n"
   ]
  },
  {
   "cell_type": "code",
   "execution_count": 79,
   "metadata": {},
   "outputs": [],
   "source": [
    "subdf = jdf.loc[(jdf.index=='80D356B4-F974-441F-A5F2-F95986D119A2') & (jdf.LabName.str.startswith('CBC: HEMATOCRIT'))]"
   ]
  },
  {
   "cell_type": "code",
   "execution_count": 82,
   "metadata": {},
   "outputs": [
    {
     "data": {
      "text/plain": [
       "[<matplotlib.lines.Line2D at 0x12c278f40>]"
      ]
     },
     "execution_count": 82,
     "metadata": {},
     "output_type": "execute_result"
    },
    {
     "data": {
      "application/vnd.jupyter.widget-view+json": {
       "model_id": "2aee52bb02ea4a8e8b1d318c0de181e3",
       "version_major": 2,
       "version_minor": 0
      },
      "image/png": "[encoded data removed]",
      "text/html": [
       "\n",
       "            <div style=\"display: inline-block;\">\n",
       "                <div class=\"jupyter-widgets widget-label\" style=\"text-align: center;\">\n",
       "                    Figure\n",
       "                </div>\n",
       "                <img src='data:image/png;base64,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' width=640.0/>\n",
       "            </div>\n",
       "        "
      ],
      "text/plain": [
       "Canvas(toolbar=Toolbar(toolitems=[('Home', 'Reset original view', 'home', 'home'), ('Back', 'Back to previous …"
      ]
     },
     "metadata": {},
     "output_type": "display_data"
    }
   ],
   "source": [
    "# 2) \n",
    "%matplotlib widget\n",
    "dts = subdf.LabDateTime\n",
    "vls = subdf.LabValue\n",
    "\n",
    "plt.figure()\n",
    "plt.plot(dts, vls)"
   ]
  },
  {
   "cell_type": "code",
   "execution_count": 266,
   "metadata": {},
   "outputs": [],
   "source": [
    "##################################################################################################################\n",
    "#\n",
    "# You do:\n",
    "#   Closely inspect the plot you made.  \n",
    "#\n",
    "# 1) In order to compare this to another data set, your PI wants to know what the lab value was on August 6, 1985.  \n",
    "#    What would you tell him/her (including all caveats)?\n",
    "#\n",
    "# 2) How about the value for January 19, 1992?"
   ]
  },
  {
   "cell_type": "code",
   "execution_count": null,
   "metadata": {},
   "outputs": [],
   "source": []
  }
 ],
 "metadata": {
  "kernelspec": {
   "display_name": "Python 3",
   "language": "python",
   "name": "python3"
  },
  "language_info": {
   "codemirror_mode": {
    "name": "ipython",
    "version": 3
   },
   "file_extension": ".py",
   "mimetype": "text/x-python",
   "name": "python",
   "nbconvert_exporter": "python",
   "pygments_lexer": "ipython3",
   "version": "3.9.6"
  }
 },
 "nbformat": 4,
 "nbformat_minor": 2
}
