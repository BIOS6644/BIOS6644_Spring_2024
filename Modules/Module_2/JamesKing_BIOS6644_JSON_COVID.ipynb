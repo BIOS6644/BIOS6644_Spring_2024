{
 "cells": [
  {
   "cell_type": "code",
   "execution_count": null,
   "metadata": {
    "collapsed": true
   },
   "outputs": [],
   "source": [
    "##########################################################################################\n",
    "#                                                                                        #\n",
    "#  888888b.  8888888 .d88888b.   .d8888b.     .d8888b.   .d8888b.      d8888      d8888  #\n",
    "#  888  \"88b   888  d88P\" \"Y88b d88P  Y88b   d88P  Y88b d88P  Y88b    d8P888     d8P888  #\n",
    "#  888  .88P   888  888     888 Y88b.        888        888          d8P 888    d8P 888  #\n",
    "#  8888888K.   888  888     888  \"Y888b.     888d888b.  888d888b.   d8P  888   d8P  888  #\n",
    "#  888  \"Y88b  888  888     888     \"Y88b.   888P \"Y88b 888P \"Y88b d88   888  d88   888  #\n",
    "#  888    888  888  888     888       \"888   888    888 888    888 8888888888 8888888888 #\n",
    "#  888   d88P  888  Y88b. .d88P Y88b  d88P   Y88b  d88P Y88b  d88P       888        888  #\n",
    "#  8888888P\" 8888888 \"Y88888P\"   \"Y8888P\"     \"Y8888P\"   \"Y8888P\"        888        888  #\n",
    "#                                                                                        # \n",
    "##########################################################################################\n",
    "#\n",
    "# Wrangle CDC Anonymized Patient-Level COVID data\n",
    "#\n",
    "##########################################################################################"
   ]
  },
  {
   "cell_type": "code",
   "execution_count": 18,
   "metadata": {},
   "outputs": [],
   "source": [
    "##################################################################################################################\n",
    "#\n",
    "# YouDo:\n",
    "#    1) Make a copy of this notebook with your name as a prefix:  \n",
    "#       YourName_BIOS6644_XML_RareDiseases.ipynb\n",
    "#    2) Do all work in this new notebook.\n",
    "#    3) Submit completed work via GitHub\n",
    "#\n",
    "##################################################################################################################\n"
   ]
  },
  {
   "cell_type": "code",
   "execution_count": 46,
   "metadata": {},
   "outputs": [
    {
     "name": "stdout",
     "output_type": "stream",
     "text": [
      "{}\n",
      "{'name': {'firstname': 'James', 'surname': 'King'}, 'age': 'Younger than Greg', 'Favorite number': 3}\n"
     ]
    }
   ],
   "source": [
    "# Review: Python Dictionaries\n",
    "# empty dictionary\n",
    "\n",
    "d = dict() \n",
    "print(d)\n",
    "\n",
    "# Dictionaries make 1-to-1 maps from \"keys\" to \"values\"\n",
    "# keys can be anything that's \"hashable\" (strings, numbers, dicts, ...)\n",
    "# Values can be any Python type (including custom-made)\n",
    "\n",
    "name={'firstname':'James', 'surname':'King'}\n",
    "\n",
    "d['name'] = name \n",
    "d['age'] = 'Younger than Greg' \n",
    "d['Favorite number'] = 3 \n",
    "print(d)\n"
   ]
  },
  {
   "cell_type": "markdown",
   "metadata": {},
   "source": [
    "# Setup Local Environment\n",
    "- Ensure you have pandas and requests installed (via pip, conda, etc.)\n"
   ]
  },
  {
   "cell_type": "code",
   "execution_count": 45,
   "metadata": {},
   "outputs": [],
   "source": []
  },
  {
   "cell_type": "markdown",
   "metadata": {},
   "source": [
    "## Get Data\n",
    ">120 million rows (!)\n",
    "\n",
    "https://data.cdc.gov/Case-Surveillance/COVID-19-Case-Surveillance-Public-Use-Data-with-Ge/n8mc-b4w4/about_data"
   ]
  },
  {
   "cell_type": "code",
   "execution_count": 119,
   "metadata": {
    "scrolled": false
   },
   "outputs": [],
   "source": [
    "# CDC provides an Application Programming Interface (API) to access this data\n",
    "# Clicking through their help files leads to here:\n",
    "# https://dev.socrata.com/docs/paging\n",
    "# which shows how to choose the number of records you're downloading\n",
    "\n",
    "# This data set has > 100 million records and spans lots of GB, so you want to do your EDA on\n",
    "# a sample\n",
    "\n",
    "# adapted from here: https://www.sitepoint.com/python-fetching-data-http-api/\n",
    "\n",
    "\n",
    "import requests\n",
    "\n",
    "def fetch_records(num=1000, offset=0, single_state=None):\n",
    "    # Fetches the most recent num records\n",
    "    if single_state is not None:\n",
    "        stclause = f'res_state={single_state}&'\n",
    "    else:\n",
    "        stclause = ''\n",
    "    base_url = f'https://data.cdc.gov/resource/n8mc-b4w4.json?{stclause}&$limit={num}&$order=case_month DESC&$offset={offset}'\n",
    "    response = requests.get(base_url)\n",
    "    print(response)\n",
    "    return response.json()\n",
    "\n"
   ]
  },
  {
   "cell_type": "markdown",
   "metadata": {},
   "source": [
    "\n"
   ]
  },
  {
   "cell_type": "code",
   "execution_count": 122,
   "metadata": {},
   "outputs": [
    {
     "name": "stdout",
     "output_type": "stream",
     "text": [
      "<Response [200]>\n"
     ]
    }
   ],
   "source": [
    "# \"top\" of the data is hot garbage\n",
    "# Offset to get to real records\n",
    "\n",
    "#results = fetch_records(3,offset=0)\n",
    "results = fetch_records(3,offset=20, single_state=\"CO\")"
   ]
  },
  {
   "cell_type": "code",
   "execution_count": 123,
   "metadata": {},
   "outputs": [
    {
     "data": {
      "text/plain": [
       "[{'case_month': '2024-02',\n",
       "  'res_state': 'CO',\n",
       "  'state_fips_code': '08',\n",
       "  'res_county': 'NA',\n",
       "  'county_fips_code': 'NA',\n",
       "  'age_group': '18 to 49 years',\n",
       "  'sex': 'Female',\n",
       "  'race': 'Missing',\n",
       "  'ethnicity': 'Hispanic/Latino',\n",
       "  'process': 'Missing',\n",
       "  'exposure_yn': 'Missing',\n",
       "  'current_status': 'Probable Case',\n",
       "  'symptom_status': 'Missing',\n",
       "  'hosp_yn': 'Missing',\n",
       "  'icu_yn': 'Missing',\n",
       "  'death_yn': 'Missing'},\n",
       " {'case_month': '2024-02',\n",
       "  'res_state': 'CO',\n",
       "  'state_fips_code': '08',\n",
       "  'res_county': 'NA',\n",
       "  'county_fips_code': 'NA',\n",
       "  'age_group': '18 to 49 years',\n",
       "  'sex': 'Female',\n",
       "  'race': 'Missing',\n",
       "  'ethnicity': 'Hispanic/Latino',\n",
       "  'process': 'Missing',\n",
       "  'exposure_yn': 'Missing',\n",
       "  'current_status': 'Laboratory-confirmed case',\n",
       "  'symptom_status': 'Missing',\n",
       "  'hosp_yn': 'Missing',\n",
       "  'icu_yn': 'Missing',\n",
       "  'death_yn': 'Missing'},\n",
       " {'case_month': '2024-02',\n",
       "  'res_state': 'CO',\n",
       "  'state_fips_code': '08',\n",
       "  'res_county': 'NA',\n",
       "  'county_fips_code': 'NA',\n",
       "  'age_group': '18 to 49 years',\n",
       "  'sex': 'Female',\n",
       "  'race': 'Missing',\n",
       "  'ethnicity': 'Hispanic/Latino',\n",
       "  'process': 'Missing',\n",
       "  'exposure_yn': 'Missing',\n",
       "  'current_status': 'Laboratory-confirmed case',\n",
       "  'symptom_status': 'Missing',\n",
       "  'hosp_yn': 'Missing',\n",
       "  'icu_yn': 'Missing',\n",
       "  'death_yn': 'Missing'}]"
      ]
     },
     "execution_count": 123,
     "metadata": {},
     "output_type": "execute_result"
    }
   ],
   "source": [
    "#type(results), len(results), type(results[0]), results\n",
    "results"
   ]
  },
  {
   "cell_type": "code",
   "execution_count": 131,
   "metadata": {},
   "outputs": [
    {
     "name": "stdout",
     "output_type": "stream",
     "text": [
      "<Response [200]>\n"
     ]
    }
   ],
   "source": [
    "\n",
    "df=pd.DataFrame(fetch_records(num=3000, offset=0, single_state=\"CO\"))"
   ]
  },
  {
   "cell_type": "code",
   "execution_count": 132,
   "metadata": {},
   "outputs": [
    {
     "data": {
      "text/html": [
       "<div>\n",
       "<style scoped>\n",
       "    .dataframe tbody tr th:only-of-type {\n",
       "        vertical-align: middle;\n",
       "    }\n",
       "\n",
       "    .dataframe tbody tr th {\n",
       "        vertical-align: top;\n",
       "    }\n",
       "\n",
       "    .dataframe thead th {\n",
       "        text-align: right;\n",
       "    }\n",
       "</style>\n",
       "<table border=\"1\" class=\"dataframe\">\n",
       "  <thead>\n",
       "    <tr style=\"text-align: right;\">\n",
       "      <th></th>\n",
       "      <th>case_month</th>\n",
       "      <th>res_state</th>\n",
       "      <th>state_fips_code</th>\n",
       "      <th>res_county</th>\n",
       "      <th>county_fips_code</th>\n",
       "      <th>age_group</th>\n",
       "      <th>sex</th>\n",
       "      <th>race</th>\n",
       "      <th>ethnicity</th>\n",
       "      <th>process</th>\n",
       "      <th>exposure_yn</th>\n",
       "      <th>current_status</th>\n",
       "      <th>symptom_status</th>\n",
       "      <th>hosp_yn</th>\n",
       "      <th>icu_yn</th>\n",
       "      <th>death_yn</th>\n",
       "      <th>underlying_conditions_yn</th>\n",
       "    </tr>\n",
       "  </thead>\n",
       "  <tbody>\n",
       "    <tr>\n",
       "      <th>0</th>\n",
       "      <td>2024-02</td>\n",
       "      <td>CO</td>\n",
       "      <td>08</td>\n",
       "      <td>NA</td>\n",
       "      <td>NA</td>\n",
       "      <td>50 to 64 years</td>\n",
       "      <td>Female</td>\n",
       "      <td>White</td>\n",
       "      <td>NA</td>\n",
       "      <td>Missing</td>\n",
       "      <td>Missing</td>\n",
       "      <td>Probable Case</td>\n",
       "      <td>Missing</td>\n",
       "      <td>Missing</td>\n",
       "      <td>Missing</td>\n",
       "      <td>Missing</td>\n",
       "      <td>NaN</td>\n",
       "    </tr>\n",
       "    <tr>\n",
       "      <th>1</th>\n",
       "      <td>2024-02</td>\n",
       "      <td>CO</td>\n",
       "      <td>08</td>\n",
       "      <td>NA</td>\n",
       "      <td>NA</td>\n",
       "      <td>50 to 64 years</td>\n",
       "      <td>Female</td>\n",
       "      <td>White</td>\n",
       "      <td>NA</td>\n",
       "      <td>Missing</td>\n",
       "      <td>Missing</td>\n",
       "      <td>Laboratory-confirmed case</td>\n",
       "      <td>Missing</td>\n",
       "      <td>Missing</td>\n",
       "      <td>Missing</td>\n",
       "      <td>Missing</td>\n",
       "      <td>NaN</td>\n",
       "    </tr>\n",
       "    <tr>\n",
       "      <th>2</th>\n",
       "      <td>2024-02</td>\n",
       "      <td>CO</td>\n",
       "      <td>08</td>\n",
       "      <td>NA</td>\n",
       "      <td>NA</td>\n",
       "      <td>50 to 64 years</td>\n",
       "      <td>Female</td>\n",
       "      <td>White</td>\n",
       "      <td>NA</td>\n",
       "      <td>Missing</td>\n",
       "      <td>Missing</td>\n",
       "      <td>Laboratory-confirmed case</td>\n",
       "      <td>Missing</td>\n",
       "      <td>Missing</td>\n",
       "      <td>Missing</td>\n",
       "      <td>NA</td>\n",
       "      <td>NaN</td>\n",
       "    </tr>\n",
       "    <tr>\n",
       "      <th>3</th>\n",
       "      <td>2024-02</td>\n",
       "      <td>CO</td>\n",
       "      <td>08</td>\n",
       "      <td>NA</td>\n",
       "      <td>NA</td>\n",
       "      <td>50 to 64 years</td>\n",
       "      <td>Female</td>\n",
       "      <td>White</td>\n",
       "      <td>NA</td>\n",
       "      <td>Missing</td>\n",
       "      <td>Missing</td>\n",
       "      <td>Laboratory-confirmed case</td>\n",
       "      <td>Missing</td>\n",
       "      <td>Missing</td>\n",
       "      <td>Missing</td>\n",
       "      <td>NA</td>\n",
       "      <td>NaN</td>\n",
       "    </tr>\n",
       "    <tr>\n",
       "      <th>4</th>\n",
       "      <td>2024-02</td>\n",
       "      <td>CO</td>\n",
       "      <td>08</td>\n",
       "      <td>NA</td>\n",
       "      <td>NA</td>\n",
       "      <td>50 to 64 years</td>\n",
       "      <td>Female</td>\n",
       "      <td>White</td>\n",
       "      <td>NA</td>\n",
       "      <td>Missing</td>\n",
       "      <td>Missing</td>\n",
       "      <td>Laboratory-confirmed case</td>\n",
       "      <td>Missing</td>\n",
       "      <td>No</td>\n",
       "      <td>Missing</td>\n",
       "      <td>Missing</td>\n",
       "      <td>NaN</td>\n",
       "    </tr>\n",
       "    <tr>\n",
       "      <th>...</th>\n",
       "      <td>...</td>\n",
       "      <td>...</td>\n",
       "      <td>...</td>\n",
       "      <td>...</td>\n",
       "      <td>...</td>\n",
       "      <td>...</td>\n",
       "      <td>...</td>\n",
       "      <td>...</td>\n",
       "      <td>...</td>\n",
       "      <td>...</td>\n",
       "      <td>...</td>\n",
       "      <td>...</td>\n",
       "      <td>...</td>\n",
       "      <td>...</td>\n",
       "      <td>...</td>\n",
       "      <td>...</td>\n",
       "      <td>...</td>\n",
       "    </tr>\n",
       "    <tr>\n",
       "      <th>2995</th>\n",
       "      <td>2024-02</td>\n",
       "      <td>CO</td>\n",
       "      <td>08</td>\n",
       "      <td>LARIMER</td>\n",
       "      <td>08069</td>\n",
       "      <td>18 to 49 years</td>\n",
       "      <td>Female</td>\n",
       "      <td>Missing</td>\n",
       "      <td>Hispanic/Latino</td>\n",
       "      <td>Missing</td>\n",
       "      <td>Missing</td>\n",
       "      <td>Probable Case</td>\n",
       "      <td>Missing</td>\n",
       "      <td>Missing</td>\n",
       "      <td>Missing</td>\n",
       "      <td>Missing</td>\n",
       "      <td>NaN</td>\n",
       "    </tr>\n",
       "    <tr>\n",
       "      <th>2996</th>\n",
       "      <td>2024-02</td>\n",
       "      <td>CO</td>\n",
       "      <td>08</td>\n",
       "      <td>LARIMER</td>\n",
       "      <td>08069</td>\n",
       "      <td>18 to 49 years</td>\n",
       "      <td>Female</td>\n",
       "      <td>Missing</td>\n",
       "      <td>Hispanic/Latino</td>\n",
       "      <td>Missing</td>\n",
       "      <td>Missing</td>\n",
       "      <td>Laboratory-confirmed case</td>\n",
       "      <td>Missing</td>\n",
       "      <td>Missing</td>\n",
       "      <td>Missing</td>\n",
       "      <td>Missing</td>\n",
       "      <td>NaN</td>\n",
       "    </tr>\n",
       "    <tr>\n",
       "      <th>2997</th>\n",
       "      <td>2024-02</td>\n",
       "      <td>CO</td>\n",
       "      <td>08</td>\n",
       "      <td>LARIMER</td>\n",
       "      <td>08069</td>\n",
       "      <td>18 to 49 years</td>\n",
       "      <td>Female</td>\n",
       "      <td>Missing</td>\n",
       "      <td>Hispanic/Latino</td>\n",
       "      <td>Missing</td>\n",
       "      <td>Missing</td>\n",
       "      <td>Laboratory-confirmed case</td>\n",
       "      <td>Missing</td>\n",
       "      <td>Missing</td>\n",
       "      <td>Missing</td>\n",
       "      <td>Missing</td>\n",
       "      <td>NaN</td>\n",
       "    </tr>\n",
       "    <tr>\n",
       "      <th>2998</th>\n",
       "      <td>2024-02</td>\n",
       "      <td>CO</td>\n",
       "      <td>08</td>\n",
       "      <td>LARIMER</td>\n",
       "      <td>08069</td>\n",
       "      <td>18 to 49 years</td>\n",
       "      <td>Female</td>\n",
       "      <td>Missing</td>\n",
       "      <td>Hispanic/Latino</td>\n",
       "      <td>Missing</td>\n",
       "      <td>Missing</td>\n",
       "      <td>Probable Case</td>\n",
       "      <td>Missing</td>\n",
       "      <td>Missing</td>\n",
       "      <td>Missing</td>\n",
       "      <td>Missing</td>\n",
       "      <td>NaN</td>\n",
       "    </tr>\n",
       "    <tr>\n",
       "      <th>2999</th>\n",
       "      <td>2024-02</td>\n",
       "      <td>CO</td>\n",
       "      <td>08</td>\n",
       "      <td>LARIMER</td>\n",
       "      <td>08069</td>\n",
       "      <td>18 to 49 years</td>\n",
       "      <td>Female</td>\n",
       "      <td>Missing</td>\n",
       "      <td>Hispanic/Latino</td>\n",
       "      <td>Missing</td>\n",
       "      <td>Missing</td>\n",
       "      <td>Probable Case</td>\n",
       "      <td>Missing</td>\n",
       "      <td>Missing</td>\n",
       "      <td>Missing</td>\n",
       "      <td>Missing</td>\n",
       "      <td>NaN</td>\n",
       "    </tr>\n",
       "  </tbody>\n",
       "</table>\n",
       "<p>3000 rows × 17 columns</p>\n",
       "</div>"
      ],
      "text/plain": [
       "     case_month res_state state_fips_code res_county county_fips_code  \\\n",
       "0       2024-02        CO              08         NA               NA   \n",
       "1       2024-02        CO              08         NA               NA   \n",
       "2       2024-02        CO              08         NA               NA   \n",
       "3       2024-02        CO              08         NA               NA   \n",
       "4       2024-02        CO              08         NA               NA   \n",
       "...         ...       ...             ...        ...              ...   \n",
       "2995    2024-02        CO              08    LARIMER            08069   \n",
       "2996    2024-02        CO              08    LARIMER            08069   \n",
       "2997    2024-02        CO              08    LARIMER            08069   \n",
       "2998    2024-02        CO              08    LARIMER            08069   \n",
       "2999    2024-02        CO              08    LARIMER            08069   \n",
       "\n",
       "           age_group     sex     race        ethnicity  process exposure_yn  \\\n",
       "0     50 to 64 years  Female    White               NA  Missing     Missing   \n",
       "1     50 to 64 years  Female    White               NA  Missing     Missing   \n",
       "2     50 to 64 years  Female    White               NA  Missing     Missing   \n",
       "3     50 to 64 years  Female    White               NA  Missing     Missing   \n",
       "4     50 to 64 years  Female    White               NA  Missing     Missing   \n",
       "...              ...     ...      ...              ...      ...         ...   \n",
       "2995  18 to 49 years  Female  Missing  Hispanic/Latino  Missing     Missing   \n",
       "2996  18 to 49 years  Female  Missing  Hispanic/Latino  Missing     Missing   \n",
       "2997  18 to 49 years  Female  Missing  Hispanic/Latino  Missing     Missing   \n",
       "2998  18 to 49 years  Female  Missing  Hispanic/Latino  Missing     Missing   \n",
       "2999  18 to 49 years  Female  Missing  Hispanic/Latino  Missing     Missing   \n",
       "\n",
       "                 current_status symptom_status  hosp_yn   icu_yn death_yn  \\\n",
       "0                 Probable Case        Missing  Missing  Missing  Missing   \n",
       "1     Laboratory-confirmed case        Missing  Missing  Missing  Missing   \n",
       "2     Laboratory-confirmed case        Missing  Missing  Missing       NA   \n",
       "3     Laboratory-confirmed case        Missing  Missing  Missing       NA   \n",
       "4     Laboratory-confirmed case        Missing       No  Missing  Missing   \n",
       "...                         ...            ...      ...      ...      ...   \n",
       "2995              Probable Case        Missing  Missing  Missing  Missing   \n",
       "2996  Laboratory-confirmed case        Missing  Missing  Missing  Missing   \n",
       "2997  Laboratory-confirmed case        Missing  Missing  Missing  Missing   \n",
       "2998              Probable Case        Missing  Missing  Missing  Missing   \n",
       "2999              Probable Case        Missing  Missing  Missing  Missing   \n",
       "\n",
       "     underlying_conditions_yn  \n",
       "0                         NaN  \n",
       "1                         NaN  \n",
       "2                         NaN  \n",
       "3                         NaN  \n",
       "4                         NaN  \n",
       "...                       ...  \n",
       "2995                      NaN  \n",
       "2996                      NaN  \n",
       "2997                      NaN  \n",
       "2998                      NaN  \n",
       "2999                      NaN  \n",
       "\n",
       "[3000 rows x 17 columns]"
      ]
     },
     "execution_count": 132,
     "metadata": {},
     "output_type": "execute_result"
    }
   ],
   "source": [
    "df"
   ]
  },
  {
   "cell_type": "code",
   "execution_count": null,
   "metadata": {},
   "outputs": [],
   "source": []
  },
  {
   "cell_type": "code",
   "execution_count": 133,
   "metadata": {},
   "outputs": [
    {
     "data": {
      "text/plain": [
       "res_state\n",
       "CO    3000\n",
       "Name: count, dtype: int64"
      ]
     },
     "execution_count": 133,
     "metadata": {},
     "output_type": "execute_result"
    }
   ],
   "source": [
    "# All states represented?\n",
    "df.res_state.value_counts()"
   ]
  },
  {
   "cell_type": "code",
   "execution_count": 134,
   "metadata": {},
   "outputs": [
    {
     "data": {
      "text/plain": [
       "res_county\n",
       "LARIMER      486\n",
       "NA           457\n",
       "EL PASO      449\n",
       "DENVER       412\n",
       "ARAPAHOE     392\n",
       "WELD         268\n",
       "ADAMS        220\n",
       "JEFFERSON    192\n",
       "DOUGLAS       76\n",
       "BOULDER       48\n",
       "Name: count, dtype: int64"
      ]
     },
     "execution_count": 134,
     "metadata": {},
     "output_type": "execute_result"
    }
   ],
   "source": [
    "codf = df.loc[df.res_state==\"CO\"]\n",
    "codf.res_county.value_counts()"
   ]
  },
  {
   "cell_type": "code",
   "execution_count": null,
   "metadata": {
    "scrolled": true
   },
   "outputs": [],
   "source": []
  },
  {
   "cell_type": "code",
   "execution_count": null,
   "metadata": {
    "scrolled": true
   },
   "outputs": [],
   "source": []
  },
  {
   "cell_type": "code",
   "execution_count": null,
   "metadata": {
    "scrolled": false
   },
   "outputs": [],
   "source": []
  },
  {
   "cell_type": "code",
   "execution_count": null,
   "metadata": {},
   "outputs": [],
   "source": []
  },
  {
   "cell_type": "code",
   "execution_count": null,
   "metadata": {},
   "outputs": [],
   "source": []
  },
  {
   "cell_type": "markdown",
   "metadata": {},
   "source": []
  },
  {
   "cell_type": "code",
   "execution_count": null,
   "metadata": {},
   "outputs": [],
   "source": []
  },
  {
   "cell_type": "code",
   "execution_count": null,
   "metadata": {
    "scrolled": true
   },
   "outputs": [],
   "source": []
  },
  {
   "cell_type": "code",
   "execution_count": 140,
   "metadata": {},
   "outputs": [],
   "source": [
    "##################################################################################################################\n",
    "#\n",
    "# YouDo: \n",
    "#  Make a visualization showing week vs cum_2017 for all of the top 5 diseases\n",
    "#  Ensure it has appropriate labels, etc. for pulblication\n",
    "#######################################  BEGIN STUDENT CODE  #####################################################\n",
    "\n",
    "#######################################   END STUDENT CODE   #####################################################"
   ]
  },
  {
   "cell_type": "code",
   "execution_count": null,
   "metadata": {},
   "outputs": [],
   "source": []
  },
  {
   "cell_type": "code",
   "execution_count": null,
   "metadata": {},
   "outputs": [],
   "source": []
  },
  {
   "cell_type": "code",
   "execution_count": null,
   "metadata": {},
   "outputs": [],
   "source": []
  }
 ],
 "metadata": {
  "kernelspec": {
   "display_name": "Python 3",
   "language": "python",
   "name": "python3"
  },
  "language_info": {
   "codemirror_mode": {
    "name": "ipython",
    "version": 3
   },
   "file_extension": ".py",
   "mimetype": "text/x-python",
   "name": "python",
   "nbconvert_exporter": "python",
   "pygments_lexer": "ipython3",
   "version": "3.8.10"
  }
 },
 "nbformat": 4,
 "nbformat_minor": 2
}
