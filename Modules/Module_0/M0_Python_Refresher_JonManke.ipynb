{
 "cells": [
  {
   "cell_type": "code",
   "execution_count": 1,
   "id": "bf374751",
   "metadata": {},
   "outputs": [
    {
     "name": "stdout",
     "output_type": "stream",
     "text": [
      "This is a string\n",
      "Double-quotes and single-quotes are equivalent\n",
      "This kind can span \n",
      "        many lines\n"
     ]
    }
   ],
   "source": [
    "# first try at a python notebook M0_Python_Refresher_FirstLast\n",
    "# String Test\n",
    "s1 = 'This is a string'\n",
    "s2 = \"Double-quotes and single-quotes are equivalent\"\n",
    "s3 = '''This kind can span \n",
    "        many lines'''\n",
    "\n",
    "print(s1)\n",
    "print(s2) \n",
    "print(s3)"
   ]
  },
  {
   "cell_type": "code",
   "execution_count": 2,
   "id": "5caeffdb",
   "metadata": {},
   "outputs": [
    {
     "name": "stdout",
     "output_type": "stream",
     "text": [
      "Luke. I am your father.\n",
      "Luke. I am your father.\n"
     ]
    }
   ],
   "source": [
    "# Adding Strings\n",
    "L1 = 'Luke. '\n",
    "L2 = 'I am your father.'\n",
    "print(L1+L2)\n",
    "\n",
    "LAdd = L1 + L2\n",
    "\n",
    "print(LAdd)\n"
   ]
  },
  {
   "cell_type": "code",
   "execution_count": 3,
   "id": "bba8f935",
   "metadata": {},
   "outputs": [
    {
     "name": "stdout",
     "output_type": "stream",
     "text": [
      "99 bottles of beer on the wall\n",
      "\t99 bottles of beer\n",
      "you take one down, pass it around\n",
      "\t99 bottles of beer on the wall\n"
     ]
    }
   ],
   "source": [
    "#99 bottles\n",
    "B0 = '99'\n",
    "B1 = '98'\n",
    "B2 = ' bottles of beer'\n",
    "B3 = ' on the wall'\n",
    "B4 = 'you take one down, pass it around'\n",
    "\n",
    "print(B0+B2+B3)\n",
    "print('\\t'+B0+B2)           # '\\t' is a tab character\n",
    "print(B4+'\\n'+'\\t'+B0+B2+B3)# '\\n' is a newline character"
   ]
  },
  {
   "cell_type": "code",
   "execution_count": 4,
   "id": "8da163df",
   "metadata": {},
   "outputs": [
    {
     "name": "stdout",
     "output_type": "stream",
     "text": [
      "98 bottles of beer on the wall\n",
      "\t98 bottles of beer\n",
      "you take one down, pass it around\n",
      "\t97 bottles of beer on the wall\n"
     ]
    }
   ],
   "source": [
    "# 98 bottles\n",
    "B0 = '99'\n",
    "B1 = '98'\n",
    "B5 = '97'\n",
    "B2 = ' bottles of beer'\n",
    "B3 = ' on the wall'\n",
    "B4 = 'you take one down, pass it around'\n",
    "\n",
    "print(B1+B2+B3)\n",
    "print('\\t'+B1+B2)           # '\\t' is a tab character\n",
    "print(B4+'\\n'+'\\t'+B5+B2+B3)# '\\n' is a newline character"
   ]
  },
  {
   "cell_type": "code",
   "execution_count": 5,
   "id": "48e59ad6",
   "metadata": {},
   "outputs": [
    {
     "name": "stdout",
     "output_type": "stream",
     "text": [
      "3 3 3\n"
     ]
    }
   ],
   "source": [
    "#Integers\n",
    "\n",
    "A = 3        # type is inferred by lack of decimal point\n",
    "B = int(3)   # explicitly typed\n",
    "C = int('3') # Casting a numeral/string 3, to the integer value of 3\n",
    "\n",
    "print(A, B, C)"
   ]
  },
  {
   "cell_type": "code",
   "execution_count": 6,
   "id": "6f0e2311",
   "metadata": {},
   "outputs": [
    {
     "name": "stdout",
     "output_type": "stream",
     "text": [
      "12\n"
     ]
    }
   ],
   "source": [
    "# computing answer=12\n",
    "two = 2\n",
    "three = 3\n",
    "\n",
    "answer = (two * three) + (2 * three)\n",
    "print(answer)"
   ]
  },
  {
   "cell_type": "code",
   "execution_count": 7,
   "id": "a21baf5e",
   "metadata": {},
   "outputs": [],
   "source": [
    "# integer '2' was added incorrectly, could judt be 2. added parenthesis to stress order of operations/see if it broke answer formula\n"
   ]
  },
  {
   "cell_type": "code",
   "execution_count": 8,
   "id": "5916df7d",
   "metadata": {},
   "outputs": [
    {
     "name": "stdout",
     "output_type": "stream",
     "text": [
      "F0:  3 <class 'int'>\n",
      "F1:  3.0 <class 'float'>\n",
      "F2:  3.0 <class 'float'>\n",
      "F3:  3.0 <class 'float'>\n",
      "F4:  3.0 <class 'float'>\n",
      "F5:  3.0 <class 'float'>\n",
      "F6:  inf <class 'float'>\n",
      "F7:  nan <class 'float'>\n"
     ]
    }
   ],
   "source": [
    "# Floats\n",
    "# The type() function will tell you what type a data object is\n",
    "\n",
    "F0 = 3           # Not a float!\n",
    "print('F0: ', F0, type(F0))\n",
    "\n",
    "F1 = float(3)    # Cast to a float!\n",
    "print('F1: ', F1, type(F1))\n",
    "\n",
    "F2 = 3 + 0.0     # Added to a float\n",
    "print('F2: ', F2, type(F2))\n",
    "\n",
    "F3 = 3.         # A dot on the end makes it a float\n",
    "print('F3: ', F3, type(F3))\n",
    "\n",
    "F4 = 3.000      # So does adding decimapl places\n",
    "print('F4: ', F4, type(F4))\n",
    "\n",
    "F5 = 1e6-999997 # Scientific notation is a float as well\n",
    "print('F5: ', F5, type(F5))\n",
    "\n",
    "F6 = float('inf') # infinity is a float\n",
    "print('F6: ', F6, type(F6))\n",
    "#print(F6 + 1)\n",
    "\n",
    "F7 = float('NaN') # not a number (nan) is a float, too\n",
    "print('F7: ', F7, type(F7))"
   ]
  },
  {
   "cell_type": "code",
   "execution_count": 9,
   "id": "d5333c7b",
   "metadata": {},
   "outputs": [
    {
     "name": "stdout",
     "output_type": "stream",
     "text": [
      "F0:  9.0 <class 'float'>\n"
     ]
    }
   ],
   "source": [
    "# make your own float 9.0\n",
    "F0 = 9.         # A dot on the end makes it a float\n",
    "print('F0: ', F0, type(F0))\n"
   ]
  },
  {
   "cell_type": "code",
   "execution_count": 10,
   "id": "67b8b95f",
   "metadata": {},
   "outputs": [
    {
     "name": "stdout",
     "output_type": "stream",
     "text": [
      "My answer is:  9.0  of type  <class 'float'>\n"
     ]
    }
   ],
   "source": [
    "#single character test, get 9.0\n",
    "two = 2\n",
    "three = 3. # tried adding a decimal\n",
    "\n",
    "answer = two * three + three\n",
    "print('My answer is: ', answer, ' of type ', type(answer))"
   ]
  },
  {
   "cell_type": "code",
   "execution_count": 11,
   "id": "85b61a79",
   "metadata": {},
   "outputs": [
    {
     "name": "stdout",
     "output_type": "stream",
     "text": [
      "True False\n"
     ]
    }
   ],
   "source": [
    "#Booleans\n",
    "N1 = True   # Equivalent to 1 in some contexts\n",
    "N2 = False  # Equivalent to 0 in some contexts\n",
    "\n",
    "print(N1, N2)"
   ]
  },
  {
   "cell_type": "code",
   "execution_count": 12,
   "id": "32da730c",
   "metadata": {},
   "outputs": [
    {
     "name": "stdout",
     "output_type": "stream",
     "text": [
      "True AND False = False\n",
      "False\n",
      "\n",
      "True OR False = True\n",
      "True\n"
     ]
    }
   ],
   "source": [
    "#Logic opperations with print funciton\n",
    "print('True AND False = False')\n",
    "print(N1 & N2) # You can do logic operations on booleans\n",
    "\n",
    "print('\\nTrue OR False = True')\n",
    "print(N1 | N2) # You can do logic operations on booleans"
   ]
  },
  {
   "cell_type": "code",
   "execution_count": 13,
   "id": "11e0de1c",
   "metadata": {},
   "outputs": [
    {
     "name": "stdout",
     "output_type": "stream",
     "text": [
      "The list has 4 True values\n",
      "The list is 80.0% True values\n"
     ]
    }
   ],
   "source": [
    "#bools and integers\n",
    "# If you add bools, they behave like integers\n",
    "somebools=[True, True, True, False, True]\n",
    "\n",
    "print(f'The list has {sum(somebools)} True values')\n",
    "print(f'The list is {sum(somebools)/len(somebools)*100}% True values')"
   ]
  },
  {
   "cell_type": "code",
   "execution_count": 14,
   "id": "a9314e7e",
   "metadata": {},
   "outputs": [
    {
     "name": "stdout",
     "output_type": "stream",
     "text": [
      "3\n",
      "[True, 2, 3, 4, 'five', 'I am new thing']\n"
     ]
    }
   ],
   "source": [
    "#Lists\n",
    "darf = [True,2,3,4,'five'] # Lists hold stuff\n",
    "\n",
    "print(darf[2])  # brackets read a value out (counting starts at zero)\n",
    "\n",
    "# Use .append(newthing) to add a newthing to the list\n",
    "darf.append(\"I am new thing\")\n",
    "\n",
    "print(darf)"
   ]
  },
  {
   "cell_type": "code",
   "execution_count": 15,
   "id": "42d97541",
   "metadata": {},
   "outputs": [
    {
     "name": "stdout",
     "output_type": "stream",
     "text": [
      "[4, 'five']\n"
     ]
    }
   ],
   "source": [
    "\n",
    "# You can get a \"slice\" (subset) of list items with a colon:\n",
    "\n",
    "print(darf[3:5]) # Get objects 3 and 4 (doens't include the last one)"
   ]
  },
  {
   "cell_type": "code",
   "execution_count": 16,
   "id": "f59d1302",
   "metadata": {},
   "outputs": [
    {
     "name": "stdout",
     "output_type": "stream",
     "text": [
      "Original worklist: [0, 2, 4, 6, 8, 10, 12, 14, 16, 18, 20, 22, 24, 26, 28, 30, 32, 34, 36, 38, 40, 42, 44, 46, 48]\n",
      "Thirties Subset: [0, 2, 4, 6]\n"
     ]
    }
   ],
   "source": [
    "##################################################################################################################\n",
    "#\n",
    "# YouDo:\n",
    "#    1) print the slice of worklist which contains all the items which begin with 3 and no other itemts\n",
    "#       [30, 32, ..., 38]\n",
    "#\n",
    "##################################################################################################################\n",
    "\n",
    "worklist = list(range(0,50,2))\n",
    "print(f'Original worklist: {worklist}')\n",
    "\n",
    "#######################################  BEGIN STUDENT CODE  #####################################################\n",
    "\n",
    "myslice = worklist[0:4]\n",
    "\n",
    "print(f'Thirties Subset: {myslice}')\n",
    "\n",
    "\n",
    "\n",
    "#######################################   END STUDENT CODE   ##################################################"
   ]
  },
  {
   "cell_type": "code",
   "execution_count": 17,
   "id": "dc17879a",
   "metadata": {},
   "outputs": [
    {
     "data": {
      "text/plain": [
       "{'AllMonths': ['January', 'February', 'March'],\n",
       " 'Jan': 'January',\n",
       " 'jan': 'January',\n",
       " 'JAN': 'January',\n",
       " 'jan.': 'January',\n",
       " 'Feb': 'February',\n",
       " 'Mar': 'March'}"
      ]
     },
     "execution_count": 17,
     "metadata": {},
     "output_type": "execute_result"
    }
   ],
   "source": [
    "#dictionaries\n",
    "# Dictionaries are a key-based map of objects.   \n",
    "\n",
    "dex = dict()\n",
    "dex['AllMonths']=['January', 'February', 'March']\n",
    "dex['Jan']='January'\n",
    "dex['jan']='January'\n",
    "dex['JAN']='January'\n",
    "dex['jan.']='January'\n",
    "dex['Feb']='February'\n",
    "dex['Mar']='March'\n",
    "dex"
   ]
  },
  {
   "cell_type": "code",
   "execution_count": 18,
   "id": "269f981b",
   "metadata": {},
   "outputs": [
    {
     "name": "stdout",
     "output_type": "stream",
     "text": [
      "I was not born in Jan\n",
      "I was not born in January\n",
      "I was not born in ['January', 'February', 'March']\n"
     ]
    }
   ],
   "source": [
    "# You can use them to make a lookup table\n",
    "\n",
    "print(f'I was not born in Jan')\n",
    "print(f\"I was not born in {dex['Jan']}\")\n",
    "print(f\"I was not born in {dex['AllMonths']}\")"
   ]
  },
  {
   "cell_type": "code",
   "execution_count": null,
   "id": "a5c5b960",
   "metadata": {},
   "outputs": [],
   "source": []
  }
 ],
 "metadata": {
  "kernelspec": {
   "display_name": "Python 3 (ipykernel)",
   "language": "python",
   "name": "python3"
  },
  "language_info": {
   "codemirror_mode": {
    "name": "ipython",
    "version": 3
   },
   "file_extension": ".py",
   "mimetype": "text/x-python",
   "name": "python",
   "nbconvert_exporter": "python",
   "pygments_lexer": "ipython3",
   "version": "3.11.5"
  }
 },
 "nbformat": 4,
 "nbformat_minor": 5
}
